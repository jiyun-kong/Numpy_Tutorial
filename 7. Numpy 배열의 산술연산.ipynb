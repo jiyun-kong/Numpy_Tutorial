{
 "cells": [
  {
   "cell_type": "code",
   "execution_count": 2,
   "id": "ad1d3b82",
   "metadata": {
    "ExecuteTime": {
     "end_time": "2022-05-14T02:37:48.032255Z",
     "start_time": "2022-05-14T02:37:47.910500Z"
    }
   },
   "outputs": [],
   "source": [
    "import numpy as np"
   ]
  },
  {
   "cell_type": "markdown",
   "id": "7aa2074b",
   "metadata": {},
   "source": [
    "# 사칙연산"
   ]
  },
  {
   "cell_type": "code",
   "execution_count": 5,
   "id": "1b1e3d72",
   "metadata": {
    "ExecuteTime": {
     "end_time": "2022-05-14T02:38:06.979079Z",
     "start_time": "2022-05-14T02:38:06.970103Z"
    }
   },
   "outputs": [
    {
     "data": {
      "text/plain": [
       "(array([1, 2]), array([1, 1]))"
      ]
     },
     "execution_count": 5,
     "metadata": {},
     "output_type": "execute_result"
    }
   ],
   "source": [
    "data = np.array([1,2])\n",
    "ones = np.ones(2, dtype=int)\n",
    "\n",
    "data, ones"
   ]
  },
  {
   "cell_type": "code",
   "execution_count": 6,
   "id": "109f3501",
   "metadata": {
    "ExecuteTime": {
     "end_time": "2022-05-14T02:38:28.588114Z",
     "start_time": "2022-05-14T02:38:28.571169Z"
    }
   },
   "outputs": [
    {
     "data": {
      "text/plain": [
       "array([2, 3])"
      ]
     },
     "execution_count": 6,
     "metadata": {},
     "output_type": "execute_result"
    }
   ],
   "source": [
    "data + ones"
   ]
  },
  {
   "cell_type": "code",
   "execution_count": 7,
   "id": "dda00e5a",
   "metadata": {
    "ExecuteTime": {
     "end_time": "2022-05-14T02:38:32.456069Z",
     "start_time": "2022-05-14T02:38:32.448090Z"
    }
   },
   "outputs": [
    {
     "data": {
      "text/plain": [
       "array([0, 1])"
      ]
     },
     "execution_count": 7,
     "metadata": {},
     "output_type": "execute_result"
    }
   ],
   "source": [
    "data - ones"
   ]
  },
  {
   "cell_type": "code",
   "execution_count": 8,
   "id": "b115b753",
   "metadata": {
    "ExecuteTime": {
     "end_time": "2022-05-14T03:36:36.331729Z",
     "start_time": "2022-05-14T03:36:36.309828Z"
    }
   },
   "outputs": [
    {
     "data": {
      "text/plain": [
       "array([1, 4])"
      ]
     },
     "execution_count": 8,
     "metadata": {},
     "output_type": "execute_result"
    }
   ],
   "source": [
    "data * data"
   ]
  },
  {
   "cell_type": "code",
   "execution_count": 9,
   "id": "b1d74121",
   "metadata": {
    "ExecuteTime": {
     "end_time": "2022-05-14T03:36:44.181228Z",
     "start_time": "2022-05-14T03:36:44.173289Z"
    }
   },
   "outputs": [
    {
     "data": {
      "text/plain": [
       "array([1., 1.])"
      ]
     },
     "execution_count": 9,
     "metadata": {},
     "output_type": "execute_result"
    }
   ],
   "source": [
    "data / data"
   ]
  },
  {
   "cell_type": "markdown",
   "id": "0f522e2e",
   "metadata": {},
   "source": [
    "# np.array의 합을 구하는 함수 : sum()"
   ]
  },
  {
   "cell_type": "code",
   "execution_count": 10,
   "id": "3c0db697",
   "metadata": {
    "ExecuteTime": {
     "end_time": "2022-05-14T03:38:38.160996Z",
     "start_time": "2022-05-14T03:38:38.154047Z"
    }
   },
   "outputs": [
    {
     "data": {
      "text/plain": [
       "array([1, 2, 3, 4])"
      ]
     },
     "execution_count": 10,
     "metadata": {},
     "output_type": "execute_result"
    }
   ],
   "source": [
    "a = np.array([1,2,3,4])\n",
    "a"
   ]
  },
  {
   "cell_type": "code",
   "execution_count": 11,
   "id": "717d6420",
   "metadata": {
    "ExecuteTime": {
     "end_time": "2022-05-14T03:39:25.029880Z",
     "start_time": "2022-05-14T03:39:25.021897Z"
    }
   },
   "outputs": [
    {
     "data": {
      "text/plain": [
       "10"
      ]
     },
     "execution_count": 11,
     "metadata": {},
     "output_type": "execute_result"
    }
   ],
   "source": [
    "a.sum()"
   ]
  },
  {
   "cell_type": "code",
   "execution_count": 17,
   "id": "27e571f5",
   "metadata": {
    "ExecuteTime": {
     "end_time": "2022-05-14T03:42:07.340740Z",
     "start_time": "2022-05-14T03:42:07.332735Z"
    }
   },
   "outputs": [
    {
     "data": {
      "text/plain": [
       "array([[1, 1],\n",
       "       [2, 2],\n",
       "       [3, 3]])"
      ]
     },
     "execution_count": 17,
     "metadata": {},
     "output_type": "execute_result"
    }
   ],
   "source": [
    "b = np.array([[1,1], [2,2], [3,3]])\n",
    "b"
   ]
  },
  {
   "cell_type": "code",
   "execution_count": 18,
   "id": "52ee098a",
   "metadata": {
    "ExecuteTime": {
     "end_time": "2022-05-14T03:42:10.075958Z",
     "start_time": "2022-05-14T03:42:10.058046Z"
    }
   },
   "outputs": [
    {
     "data": {
      "text/plain": [
       "12"
      ]
     },
     "execution_count": 18,
     "metadata": {},
     "output_type": "execute_result"
    }
   ],
   "source": [
    "b.sum()"
   ]
  },
  {
   "cell_type": "code",
   "execution_count": 19,
   "id": "1308ee98",
   "metadata": {
    "ExecuteTime": {
     "end_time": "2022-05-14T03:42:12.651037Z",
     "start_time": "2022-05-14T03:42:12.630093Z"
    }
   },
   "outputs": [
    {
     "data": {
      "text/plain": [
       "array([6, 6])"
      ]
     },
     "execution_count": 19,
     "metadata": {},
     "output_type": "execute_result"
    }
   ],
   "source": [
    "b.sum(axis=0)"
   ]
  },
  {
   "cell_type": "code",
   "execution_count": 20,
   "id": "25e2d7b8",
   "metadata": {
    "ExecuteTime": {
     "end_time": "2022-05-14T03:42:14.821497Z",
     "start_time": "2022-05-14T03:42:14.815513Z"
    }
   },
   "outputs": [
    {
     "data": {
      "text/plain": [
       "array([2, 4, 6])"
      ]
     },
     "execution_count": 20,
     "metadata": {},
     "output_type": "execute_result"
    }
   ],
   "source": [
    "b.sum(axis=1)"
   ]
  },
  {
   "cell_type": "markdown",
   "id": "f0071e1a",
   "metadata": {},
   "source": [
    "### axis=0과 axis=1\n",
    "* axis = 0 : 각 열의 모든 행에 대해서 동작한다. (이차원 배열에서 앞쪽 (0번) 인덱스가 바뀐다.)\n",
    "* axis = 1 : 각 행의 모든 열에 대해서 동작한다. (이차원 배열에서 뒷쪽 (1번) 인덱스가 바뀐다.)\n",
    "\n",
    "    b.sum(axis=0) = [ b[0][0] + b[1][0] + b[2][0], b[0][1] + b[1][1] + b[2][1] ]<br/>\n",
    "    b.sum(axis=1) = [ b[0][0] + b[0][1], b[1][0] + b[1][1], b[2][0] + b[2][1] ]"
   ]
  }
 ],
 "metadata": {
  "kernelspec": {
   "display_name": "Python 3",
   "language": "python",
   "name": "python3"
  },
  "language_info": {
   "codemirror_mode": {
    "name": "ipython",
    "version": 3
   },
   "file_extension": ".py",
   "mimetype": "text/x-python",
   "name": "python",
   "nbconvert_exporter": "python",
   "pygments_lexer": "ipython3",
   "version": "3.8.8"
  },
  "toc": {
   "base_numbering": 1,
   "nav_menu": {},
   "number_sections": true,
   "sideBar": true,
   "skip_h1_title": false,
   "title_cell": "Table of Contents",
   "title_sidebar": "Contents",
   "toc_cell": false,
   "toc_position": {},
   "toc_section_display": true,
   "toc_window_display": false
  }
 },
 "nbformat": 4,
 "nbformat_minor": 5
}
