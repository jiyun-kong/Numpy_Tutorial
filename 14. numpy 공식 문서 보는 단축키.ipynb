{
 "cells": [
  {
   "cell_type": "code",
   "execution_count": 1,
   "id": "215f88db",
   "metadata": {
    "ExecuteTime": {
     "end_time": "2022-05-16T04:47:38.428705Z",
     "start_time": "2022-05-16T04:47:38.411719Z"
    }
   },
   "outputs": [
    {
     "name": "stdout",
     "output_type": "stream",
     "text": [
      "Help on built-in function max in module builtins:\n",
      "\n",
      "max(...)\n",
      "    max(iterable, *[, default=obj, key=func]) -> value\n",
      "    max(arg1, arg2, *args, *[, key=func]) -> value\n",
      "    \n",
      "    With a single iterable argument, return its biggest item. The\n",
      "    default keyword-only argument specifies an object to return if\n",
      "    the provided iterable is empty.\n",
      "    With two or more arguments, return the largest argument.\n",
      "\n"
     ]
    }
   ],
   "source": [
    "help(max)"
   ]
  },
  {
   "cell_type": "code",
   "execution_count": 5,
   "id": "84f41548",
   "metadata": {
    "ExecuteTime": {
     "end_time": "2022-05-16T04:48:06.663708Z",
     "start_time": "2022-05-16T04:48:06.648785Z"
    }
   },
   "outputs": [],
   "source": [
    "max?"
   ]
  },
  {
   "cell_type": "code",
   "execution_count": 4,
   "id": "ff54d512",
   "metadata": {
    "ExecuteTime": {
     "end_time": "2022-05-16T04:48:04.005865Z",
     "start_time": "2022-05-16T04:48:03.987947Z"
    }
   },
   "outputs": [],
   "source": [
    "max??"
   ]
  },
  {
   "cell_type": "code",
   "execution_count": 6,
   "id": "aabe3dbd",
   "metadata": {
    "ExecuteTime": {
     "end_time": "2022-05-16T04:49:07.193497Z",
     "start_time": "2022-05-16T04:49:07.178535Z"
    }
   },
   "outputs": [],
   "source": [
    "# max( shift + tab 키 )\n",
    "# tab 키 한번 더 누르면, 큰 화면으로"
   ]
  },
  {
   "cell_type": "code",
   "execution_count": 7,
   "id": "b1674eed",
   "metadata": {
    "ExecuteTime": {
     "end_time": "2022-05-16T04:50:36.482377Z",
     "start_time": "2022-05-16T04:50:36.329619Z"
    }
   },
   "outputs": [],
   "source": [
    "import numpy as np"
   ]
  },
  {
   "cell_type": "code",
   "execution_count": 8,
   "id": "fdaef498",
   "metadata": {
    "ExecuteTime": {
     "end_time": "2022-05-16T04:50:38.867281Z",
     "start_time": "2022-05-16T04:50:38.843350Z"
    }
   },
   "outputs": [
    {
     "data": {
      "text/plain": [
       "array([1, 2, 3, 4, 5, 6])"
      ]
     },
     "execution_count": 8,
     "metadata": {},
     "output_type": "execute_result"
    }
   ],
   "source": [
    "a = np.array([1, 2, 3, 4, 5, 6])\n",
    "a"
   ]
  },
  {
   "cell_type": "code",
   "execution_count": 9,
   "id": "71da469d",
   "metadata": {
    "ExecuteTime": {
     "end_time": "2022-05-16T04:50:42.380228Z",
     "start_time": "2022-05-16T04:50:42.365267Z"
    }
   },
   "outputs": [],
   "source": [
    "a?"
   ]
  },
  {
   "cell_type": "code",
   "execution_count": 10,
   "id": "2ef80bef",
   "metadata": {
    "ExecuteTime": {
     "end_time": "2022-05-16T04:51:32.391151Z",
     "start_time": "2022-05-16T04:51:32.370205Z"
    }
   },
   "outputs": [],
   "source": [
    "def double(a):\n",
    "    '''\n",
    "    [ DocString ]\n",
    "    Return a * 2\n",
    "    '''\n",
    "    return a * 2"
   ]
  },
  {
   "cell_type": "code",
   "execution_count": 12,
   "id": "fe8e796f",
   "metadata": {
    "ExecuteTime": {
     "end_time": "2022-05-16T04:51:50.559095Z",
     "start_time": "2022-05-16T04:51:50.549158Z"
    }
   },
   "outputs": [],
   "source": [
    "double?\n",
    "# 물음표 하나는 Docstring"
   ]
  },
  {
   "cell_type": "code",
   "execution_count": 14,
   "id": "ac0eaa25",
   "metadata": {
    "ExecuteTime": {
     "end_time": "2022-05-16T04:52:09.844379Z",
     "start_time": "2022-05-16T04:52:09.829462Z"
    }
   },
   "outputs": [],
   "source": [
    "double??\n",
    "# 물음표 두개는 Source code"
   ]
  },
  {
   "cell_type": "markdown",
   "id": "1ab417d6",
   "metadata": {},
   "source": [
    "* numpy에서 지원하는 기능이 아니라, python에서 제공하는 기능이므로 PyTorch, Pandas 등에서도 사용가능하다."
   ]
  }
 ],
 "metadata": {
  "kernelspec": {
   "display_name": "Python 3",
   "language": "python",
   "name": "python3"
  },
  "language_info": {
   "codemirror_mode": {
    "name": "ipython",
    "version": 3
   },
   "file_extension": ".py",
   "mimetype": "text/x-python",
   "name": "python",
   "nbconvert_exporter": "python",
   "pygments_lexer": "ipython3",
   "version": "3.8.8"
  },
  "toc": {
   "base_numbering": 1,
   "nav_menu": {},
   "number_sections": true,
   "sideBar": true,
   "skip_h1_title": false,
   "title_cell": "Table of Contents",
   "title_sidebar": "Contents",
   "toc_cell": false,
   "toc_position": {},
   "toc_section_display": true,
   "toc_window_display": false
  }
 },
 "nbformat": 4,
 "nbformat_minor": 5
}
