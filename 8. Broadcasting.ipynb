{
 "cells": [
  {
   "cell_type": "markdown",
   "id": "2adb2788",
   "metadata": {
    "ExecuteTime": {
     "end_time": "2022-05-14T04:13:28.725306Z",
     "start_time": "2022-05-14T04:13:28.714335Z"
    }
   },
   "source": [
    "<h1>Broadcasting (브로드캐스팅)</h1>\n",
    "* 배열과 scala 값을 연산하든가, 배열의 크기가 서로 다른 두 배열을 연산하는 과정에서 사용할 수 있는 방식."
   ]
  },
  {
   "cell_type": "code",
   "execution_count": 2,
   "id": "164c6cd6",
   "metadata": {
    "ExecuteTime": {
     "end_time": "2022-05-14T04:13:43.489826Z",
     "start_time": "2022-05-14T04:13:43.197242Z"
    }
   },
   "outputs": [],
   "source": [
    "import numpy as np"
   ]
  },
  {
   "cell_type": "code",
   "execution_count": 3,
   "id": "cf2e24fb",
   "metadata": {
    "ExecuteTime": {
     "end_time": "2022-05-14T04:16:22.853624Z",
     "start_time": "2022-05-14T04:16:22.826666Z"
    }
   },
   "outputs": [
    {
     "data": {
      "text/plain": [
       "array([1.6, 3.2])"
      ]
     },
     "execution_count": 3,
     "metadata": {},
     "output_type": "execute_result"
    }
   ],
   "source": [
    "data = np.array([1.0, 2.0])\n",
    "data * 1.6"
   ]
  },
  {
   "cell_type": "code",
   "execution_count": 4,
   "id": "f7964117",
   "metadata": {
    "ExecuteTime": {
     "end_time": "2022-05-14T04:16:58.154014Z",
     "start_time": "2022-05-14T04:16:58.142046Z"
    }
   },
   "outputs": [
    {
     "data": {
      "text/plain": [
       "array([3., 4., 5.])"
      ]
     },
     "execution_count": 4,
     "metadata": {},
     "output_type": "execute_result"
    }
   ],
   "source": [
    "a = np.array([1.0, 2.0, 3.0])\n",
    "b = np.array([2.0, 2.0, 2.0])\n",
    "a + b"
   ]
  },
  {
   "cell_type": "code",
   "execution_count": 5,
   "id": "8564a224",
   "metadata": {
    "ExecuteTime": {
     "end_time": "2022-05-14T04:17:06.501013Z",
     "start_time": "2022-05-14T04:17:06.491037Z"
    }
   },
   "outputs": [
    {
     "data": {
      "text/plain": [
       "array([-1.,  0.,  1.])"
      ]
     },
     "execution_count": 5,
     "metadata": {},
     "output_type": "execute_result"
    }
   ],
   "source": [
    "a - b"
   ]
  },
  {
   "cell_type": "code",
   "execution_count": 6,
   "id": "432520ee",
   "metadata": {
    "ExecuteTime": {
     "end_time": "2022-05-14T04:17:09.979877Z",
     "start_time": "2022-05-14T04:17:09.961927Z"
    }
   },
   "outputs": [
    {
     "data": {
      "text/plain": [
       "array([2., 4., 6.])"
      ]
     },
     "execution_count": 6,
     "metadata": {},
     "output_type": "execute_result"
    }
   ],
   "source": [
    "a * b"
   ]
  },
  {
   "cell_type": "code",
   "execution_count": 7,
   "id": "e19567f2",
   "metadata": {
    "ExecuteTime": {
     "end_time": "2022-05-14T04:17:13.973177Z",
     "start_time": "2022-05-14T04:17:13.962166Z"
    }
   },
   "outputs": [
    {
     "data": {
      "text/plain": [
       "array([0.5, 1. , 1.5])"
      ]
     },
     "execution_count": 7,
     "metadata": {},
     "output_type": "execute_result"
    }
   ],
   "source": [
    "a / b"
   ]
  },
  {
   "cell_type": "code",
   "execution_count": 15,
   "id": "5a7086bb",
   "metadata": {
    "ExecuteTime": {
     "end_time": "2022-05-14T04:21:57.718236Z",
     "start_time": "2022-05-14T04:21:57.698329Z"
    }
   },
   "outputs": [
    {
     "data": {
      "text/plain": [
       "array([[ 1.,  2.,  3.],\n",
       "       [11., 12., 13.],\n",
       "       [21., 22., 13.],\n",
       "       [31., 32., 33.]])"
      ]
     },
     "execution_count": 15,
     "metadata": {},
     "output_type": "execute_result"
    }
   ],
   "source": [
    "a = np.array([[0.0, 0.0, 0.0],\n",
    "          [10.0, 10.0, 10.0],\n",
    "          [20.0, 20.0, 10.0],\n",
    "          [30.0, 30.0, 30.0]])\n",
    "b = np.array([1.0, 2.0, 3.0])\n",
    "a + b"
   ]
  },
  {
   "cell_type": "code",
   "execution_count": 17,
   "id": "78f99f3d",
   "metadata": {
    "ExecuteTime": {
     "end_time": "2022-05-14T04:22:13.822275Z",
     "start_time": "2022-05-14T04:22:13.813336Z"
    }
   },
   "outputs": [
    {
     "data": {
      "text/plain": [
       "((4, 3), (3,))"
      ]
     },
     "execution_count": 17,
     "metadata": {},
     "output_type": "execute_result"
    }
   ],
   "source": [
    "a.shape, b.shape"
   ]
  },
  {
   "cell_type": "code",
   "execution_count": 26,
   "id": "ae5e59aa",
   "metadata": {
    "ExecuteTime": {
     "end_time": "2022-05-14T04:30:12.341642Z",
     "start_time": "2022-05-14T04:30:12.330671Z"
    }
   },
   "outputs": [
    {
     "data": {
      "text/plain": [
       "((4,), (3,))"
      ]
     },
     "execution_count": 26,
     "metadata": {},
     "output_type": "execute_result"
    }
   ],
   "source": [
    "a = np.array([0.0, 10.0, 20.0, 30.0])\n",
    "b = np.array([1.0, 2.0, 3.0])\n",
    "a.shape, b.shape\n",
    "# a + b : 에러 발생"
   ]
  },
  {
   "cell_type": "code",
   "execution_count": 31,
   "id": "fd10e816",
   "metadata": {
    "ExecuteTime": {
     "end_time": "2022-05-14T04:31:49.977729Z",
     "start_time": "2022-05-14T04:31:49.969784Z"
    }
   },
   "outputs": [
    {
     "name": "stdout",
     "output_type": "stream",
     "text": [
      "[[ 0.]\n",
      " [10.]\n",
      " [20.]\n",
      " [30.]] (4, 1)\n"
     ]
    }
   ],
   "source": [
    "a1 = a[:, np.newaxis]\n",
    "print(a1, a1.shape)"
   ]
  },
  {
   "cell_type": "code",
   "execution_count": 32,
   "id": "34816981",
   "metadata": {
    "ExecuteTime": {
     "end_time": "2022-05-14T04:31:58.673605Z",
     "start_time": "2022-05-14T04:31:58.655699Z"
    }
   },
   "outputs": [
    {
     "name": "stdout",
     "output_type": "stream",
     "text": [
      "[[ 0. 10. 20. 30.]] (1, 4)\n"
     ]
    }
   ],
   "source": [
    "a2 = a[np.newaxis, :]\n",
    "print(a2, a2.shape)"
   ]
  },
  {
   "cell_type": "code",
   "execution_count": 29,
   "id": "c038f829",
   "metadata": {
    "ExecuteTime": {
     "end_time": "2022-05-14T04:31:26.802363Z",
     "start_time": "2022-05-14T04:31:26.791393Z"
    }
   },
   "outputs": [
    {
     "data": {
      "text/plain": [
       "array([[ 1.,  2.,  3.],\n",
       "       [11., 12., 13.],\n",
       "       [21., 22., 23.],\n",
       "       [31., 32., 33.]])"
      ]
     },
     "execution_count": 29,
     "metadata": {},
     "output_type": "execute_result"
    }
   ],
   "source": [
    "a1 + b"
   ]
  },
  {
   "cell_type": "code",
   "execution_count": 33,
   "id": "57795d68",
   "metadata": {
    "ExecuteTime": {
     "end_time": "2022-05-14T04:33:52.405397Z",
     "start_time": "2022-05-14T04:33:52.388434Z"
    }
   },
   "outputs": [],
   "source": [
    "b1 = b[:, np.newaxis]"
   ]
  },
  {
   "cell_type": "code",
   "execution_count": 34,
   "id": "6a9cdeda",
   "metadata": {
    "ExecuteTime": {
     "end_time": "2022-05-14T04:33:57.794338Z",
     "start_time": "2022-05-14T04:33:57.778355Z"
    }
   },
   "outputs": [
    {
     "data": {
      "text/plain": [
       "array([[ 1., 11., 21., 31.],\n",
       "       [ 2., 12., 22., 32.],\n",
       "       [ 3., 13., 23., 33.]])"
      ]
     },
     "execution_count": 34,
     "metadata": {},
     "output_type": "execute_result"
    }
   ],
   "source": [
    "a + b1"
   ]
  }
 ],
 "metadata": {
  "kernelspec": {
   "display_name": "Python 3",
   "language": "python",
   "name": "python3"
  },
  "language_info": {
   "codemirror_mode": {
    "name": "ipython",
    "version": 3
   },
   "file_extension": ".py",
   "mimetype": "text/x-python",
   "name": "python",
   "nbconvert_exporter": "python",
   "pygments_lexer": "ipython3",
   "version": "3.8.8"
  },
  "toc": {
   "base_numbering": 1,
   "nav_menu": {},
   "number_sections": true,
   "sideBar": true,
   "skip_h1_title": false,
   "title_cell": "Table of Contents",
   "title_sidebar": "Contents",
   "toc_cell": false,
   "toc_position": {},
   "toc_section_display": true,
   "toc_window_display": false
  }
 },
 "nbformat": 4,
 "nbformat_minor": 5
}
