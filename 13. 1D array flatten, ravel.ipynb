{
 "cells": [
  {
   "cell_type": "code",
   "execution_count": 1,
   "id": "c98de701",
   "metadata": {
    "ExecuteTime": {
     "end_time": "2022-05-16T04:32:15.438941Z",
     "start_time": "2022-05-16T04:32:14.577267Z"
    }
   },
   "outputs": [],
   "source": [
    "import numpy as np"
   ]
  },
  {
   "cell_type": "markdown",
   "id": "efb55520",
   "metadata": {},
   "source": [
    "# flatten() : 얕은 복사. 원본 변화 없음. 사본 만듦.\n",
    "# ravel() : 깊은 복사. 원본 변화 있음. 사본 안 만듦."
   ]
  },
  {
   "cell_type": "code",
   "execution_count": 4,
   "id": "6ffa62cf",
   "metadata": {
    "ExecuteTime": {
     "end_time": "2022-05-16T04:35:17.326758Z",
     "start_time": "2022-05-16T04:35:17.301831Z"
    }
   },
   "outputs": [
    {
     "data": {
      "text/plain": [
       "array([[ 1,  2,  3,  4],\n",
       "       [ 5,  6,  7,  8],\n",
       "       [ 9, 10, 11, 12]])"
      ]
     },
     "execution_count": 4,
     "metadata": {},
     "output_type": "execute_result"
    }
   ],
   "source": [
    "x = np.arange(1, 13).reshape(3, 4)\n",
    "x"
   ]
  },
  {
   "cell_type": "code",
   "execution_count": 5,
   "id": "91488f17",
   "metadata": {
    "ExecuteTime": {
     "end_time": "2022-05-16T04:35:42.336763Z",
     "start_time": "2022-05-16T04:35:42.328788Z"
    }
   },
   "outputs": [
    {
     "data": {
      "text/plain": [
       "array([ 1,  2,  3,  4,  5,  6,  7,  8,  9, 10, 11, 12])"
      ]
     },
     "execution_count": 5,
     "metadata": {},
     "output_type": "execute_result"
    }
   ],
   "source": [
    "x.flatten()"
   ]
  },
  {
   "cell_type": "code",
   "execution_count": 7,
   "id": "f647204a",
   "metadata": {
    "ExecuteTime": {
     "end_time": "2022-05-16T04:37:39.393736Z",
     "start_time": "2022-05-16T04:37:39.385753Z"
    }
   },
   "outputs": [
    {
     "data": {
      "text/plain": [
       "array([[ 1,  2,  3,  4],\n",
       "       [ 5,  6,  7,  8],\n",
       "       [ 9, 10, 11, 12]])"
      ]
     },
     "execution_count": 7,
     "metadata": {},
     "output_type": "execute_result"
    }
   ],
   "source": [
    "a1 = x.flatten()\n",
    "a1[0] = 99\n",
    "x # 변하지 않음"
   ]
  },
  {
   "cell_type": "code",
   "execution_count": 8,
   "id": "076e7842",
   "metadata": {
    "ExecuteTime": {
     "end_time": "2022-05-16T04:38:12.386465Z",
     "start_time": "2022-05-16T04:38:12.377489Z"
    }
   },
   "outputs": [
    {
     "data": {
      "text/plain": [
       "array([[99,  2,  3,  4],\n",
       "       [ 5,  6,  7,  8],\n",
       "       [ 9, 10, 11, 12]])"
      ]
     },
     "execution_count": 8,
     "metadata": {},
     "output_type": "execute_result"
    }
   ],
   "source": [
    "a2 = x.ravel()\n",
    "a2[0] = 99\n",
    "x # 변함"
   ]
  },
  {
   "cell_type": "markdown",
   "id": "273a93cd",
   "metadata": {},
   "source": [
    "* 딥러닝에서 자주 사용되는 method이다. 잘 알아두기."
   ]
  }
 ],
 "metadata": {
  "kernelspec": {
   "display_name": "Python 3",
   "language": "python",
   "name": "python3"
  },
  "language_info": {
   "codemirror_mode": {
    "name": "ipython",
    "version": 3
   },
   "file_extension": ".py",
   "mimetype": "text/x-python",
   "name": "python",
   "nbconvert_exporter": "python",
   "pygments_lexer": "ipython3",
   "version": "3.8.8"
  },
  "toc": {
   "base_numbering": 1,
   "nav_menu": {},
   "number_sections": true,
   "sideBar": true,
   "skip_h1_title": false,
   "title_cell": "Table of Contents",
   "title_sidebar": "Contents",
   "toc_cell": false,
   "toc_position": {},
   "toc_section_display": true,
   "toc_window_display": false
  }
 },
 "nbformat": 4,
 "nbformat_minor": 5
}
