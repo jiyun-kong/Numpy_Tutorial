{
 "cells": [
  {
   "cell_type": "code",
   "execution_count": 1,
   "id": "572f3121",
   "metadata": {
    "ExecuteTime": {
     "end_time": "2022-05-01T01:39:57.240579Z",
     "start_time": "2022-05-01T01:39:57.100890Z"
    }
   },
   "outputs": [],
   "source": [
    "import numpy as np"
   ]
  },
  {
   "cell_type": "code",
   "execution_count": 3,
   "id": "9bb15152",
   "metadata": {
    "ExecuteTime": {
     "end_time": "2022-05-01T01:40:10.111247Z",
     "start_time": "2022-05-01T01:40:10.089298Z"
    }
   },
   "outputs": [
    {
     "data": {
      "text/plain": [
       "array([0, 1, 2, 3, 4, 5])"
      ]
     },
     "execution_count": 3,
     "metadata": {},
     "output_type": "execute_result"
    }
   ],
   "source": [
    "a = np.arange(6)\n",
    "a"
   ]
  },
  {
   "cell_type": "code",
   "execution_count": 4,
   "id": "d1174582",
   "metadata": {
    "ExecuteTime": {
     "end_time": "2022-05-01T01:40:34.858466Z",
     "start_time": "2022-05-01T01:40:34.849487Z"
    }
   },
   "outputs": [],
   "source": [
    "np.newaxis"
   ]
  },
  {
   "cell_type": "code",
   "execution_count": 5,
   "id": "ca4e298c",
   "metadata": {
    "ExecuteTime": {
     "end_time": "2022-05-01T01:40:47.611367Z",
     "start_time": "2022-05-01T01:40:47.593366Z"
    }
   },
   "outputs": [
    {
     "data": {
      "text/plain": [
       "array([[0, 1, 2, 3, 4, 5]])"
      ]
     },
     "execution_count": 5,
     "metadata": {},
     "output_type": "execute_result"
    }
   ],
   "source": [
    "# 축 늘어나게\n",
    "a2 = a[np.newaxis, :]\n",
    "a2"
   ]
  },
  {
   "cell_type": "code",
   "execution_count": 8,
   "id": "ea46c271",
   "metadata": {
    "ExecuteTime": {
     "end_time": "2022-05-01T01:42:41.736240Z",
     "start_time": "2022-05-01T01:42:41.724298Z"
    }
   },
   "outputs": [
    {
     "name": "stdout",
     "output_type": "stream",
     "text": [
      "(6,)\n",
      "(1, 6)\n"
     ]
    },
    {
     "data": {
      "text/plain": [
       "((6,), (1, 6))"
      ]
     },
     "execution_count": 8,
     "metadata": {},
     "output_type": "execute_result"
    }
   ],
   "source": [
    "print(a.shape)\n",
    "print(a2.shape)\n",
    "a.shape, a2.shape"
   ]
  },
  {
   "cell_type": "markdown",
   "id": "2dac09fe",
   "metadata": {
    "ExecuteTime": {
     "end_time": "2022-05-01T01:46:15.014167Z",
     "start_time": "2022-05-01T01:46:15.005191Z"
    }
   },
   "source": [
    "## Python 리스트 vs. Numpy 배열\n",
    "* Python 리스트 : 단일 목록 내에 다양한 데이터 유형을 포함할 수 있음\n",
    "* Numpy 배열 : 모든 요소는 동종이어야 한다. 배열에 대해 수행되는 수학 연산은 배열이 동종이 아닌 경우 매우 비효율적임"
   ]
  },
  {
   "cell_type": "code",
   "execution_count": 10,
   "id": "a8a069f2",
   "metadata": {
    "ExecuteTime": {
     "end_time": "2022-05-01T01:46:40.166441Z",
     "start_time": "2022-05-01T01:46:40.160425Z"
    }
   },
   "outputs": [
    {
     "data": {
      "text/plain": [
       "list"
      ]
     },
     "execution_count": 10,
     "metadata": {},
     "output_type": "execute_result"
    }
   ],
   "source": [
    "a_list = [0, \"1\", 2.0, 3]\n",
    "type(a_list)"
   ]
  },
  {
   "cell_type": "code",
   "execution_count": 11,
   "id": "5d990b0e",
   "metadata": {
    "ExecuteTime": {
     "end_time": "2022-05-01T01:46:48.782126Z",
     "start_time": "2022-05-01T01:46:48.760229Z"
    }
   },
   "outputs": [
    {
     "data": {
      "text/plain": [
       "array(['0', '1', '2.0', '3'], dtype='<U32')"
      ]
     },
     "execution_count": 11,
     "metadata": {},
     "output_type": "execute_result"
    }
   ],
   "source": [
    "np.array(a_list)"
   ]
  },
  {
   "cell_type": "markdown",
   "id": "68bce147",
   "metadata": {
    "ExecuteTime": {
     "end_time": "2022-05-01T01:49:49.191859Z",
     "start_time": "2022-05-01T01:49:49.185876Z"
    }
   },
   "source": [
    "## 그럼에도 numpy를 사용하는 이유\n",
    "* Numpy 배열은 Python 리스트보다 빠르고 컴팩트하다.\n",
    "* 배열은 메모리를 덜 소모하고 사용하기 편리하다.\n",
    "* Numpy는 데이터를 저장하는 데 훨씬 적은 메모리를 사용한다."
   ]
  },
  {
   "cell_type": "code",
   "execution_count": 13,
   "id": "690ab7e1",
   "metadata": {
    "ExecuteTime": {
     "end_time": "2022-05-01T01:51:20.855584Z",
     "start_time": "2022-05-01T01:51:20.836637Z"
    }
   },
   "outputs": [
    {
     "data": {
      "text/plain": [
       "array([1, 2, 3, 4, 5])"
      ]
     },
     "execution_count": 13,
     "metadata": {},
     "output_type": "execute_result"
    }
   ],
   "source": [
    "a = np.array([1,2,3,4,5])\n",
    "a"
   ]
  },
  {
   "cell_type": "code",
   "execution_count": 15,
   "id": "f81cff3a",
   "metadata": {
    "ExecuteTime": {
     "end_time": "2022-05-01T01:52:05.347612Z",
     "start_time": "2022-05-01T01:52:05.326669Z"
    }
   },
   "outputs": [
    {
     "data": {
      "text/plain": [
       "array([[1, 1, 1, 1, 1],\n",
       "       [2, 2, 2, 2, 2],\n",
       "       [3, 3, 3, 3, 3]])"
      ]
     },
     "execution_count": 15,
     "metadata": {},
     "output_type": "execute_result"
    }
   ],
   "source": [
    "b = np.array([[1,1,1,1,1],[2,2,2,2,2],[3,3,3,3,3]])\n",
    "b"
   ]
  },
  {
   "cell_type": "markdown",
   "id": "23d7985e",
   "metadata": {
    "ExecuteTime": {
     "end_time": "2022-05-01T01:55:36.159611Z",
     "start_time": "2022-05-01T01:55:36.152629Z"
    }
   },
   "source": [
    "## numpy 배열 만들기"
   ]
  },
  {
   "cell_type": "code",
   "execution_count": 17,
   "id": "d3e70c90",
   "metadata": {
    "ExecuteTime": {
     "end_time": "2022-05-01T01:55:57.094181Z",
     "start_time": "2022-05-01T01:55:57.075201Z"
    }
   },
   "outputs": [
    {
     "data": {
      "text/plain": [
       "array([1, 2, 3])"
      ]
     },
     "execution_count": 17,
     "metadata": {},
     "output_type": "execute_result"
    }
   ],
   "source": [
    "a = np.array([1,2,3])\n",
    "a"
   ]
  },
  {
   "cell_type": "code",
   "execution_count": 18,
   "id": "f01a9bc1",
   "metadata": {
    "ExecuteTime": {
     "end_time": "2022-05-01T01:56:20.196325Z",
     "start_time": "2022-05-01T01:56:20.188320Z"
    }
   },
   "outputs": [
    {
     "data": {
      "text/plain": [
       "array([0., 0.])"
      ]
     },
     "execution_count": 18,
     "metadata": {},
     "output_type": "execute_result"
    }
   ],
   "source": [
    "a = np.zeros(2)\n",
    "a"
   ]
  },
  {
   "cell_type": "code",
   "execution_count": 20,
   "id": "6b3083d8",
   "metadata": {
    "ExecuteTime": {
     "end_time": "2022-05-01T01:56:53.555398Z",
     "start_time": "2022-05-01T01:56:53.543431Z"
    }
   },
   "outputs": [
    {
     "data": {
      "text/plain": [
       "array([[0., 0., 0.],\n",
       "       [0., 0., 0.]])"
      ]
     },
     "execution_count": 20,
     "metadata": {},
     "output_type": "execute_result"
    }
   ],
   "source": [
    "a = np.zeros([2,3])\n",
    "a"
   ]
  },
  {
   "cell_type": "code",
   "execution_count": 21,
   "id": "371d8dc1",
   "metadata": {
    "ExecuteTime": {
     "end_time": "2022-05-01T01:57:03.929281Z",
     "start_time": "2022-05-01T01:57:03.906303Z"
    }
   },
   "outputs": [
    {
     "data": {
      "text/plain": [
       "array([1., 1.])"
      ]
     },
     "execution_count": 21,
     "metadata": {},
     "output_type": "execute_result"
    }
   ],
   "source": [
    "a = np.ones(2)\n",
    "a"
   ]
  },
  {
   "cell_type": "code",
   "execution_count": 22,
   "id": "87809a89",
   "metadata": {
    "ExecuteTime": {
     "end_time": "2022-05-01T01:57:14.904210Z",
     "start_time": "2022-05-01T01:57:14.892196Z"
    }
   },
   "outputs": [
    {
     "data": {
      "text/plain": [
       "array([[1., 1., 1., 1.],\n",
       "       [1., 1., 1., 1.],\n",
       "       [1., 1., 1., 1.]])"
      ]
     },
     "execution_count": 22,
     "metadata": {},
     "output_type": "execute_result"
    }
   ],
   "source": [
    "a = np.ones([3,4])\n",
    "a"
   ]
  },
  {
   "cell_type": "code",
   "execution_count": 24,
   "id": "4643ec8f",
   "metadata": {
    "ExecuteTime": {
     "end_time": "2022-05-01T01:57:59.087087Z",
     "start_time": "2022-05-01T01:57:59.068146Z"
    }
   },
   "outputs": [
    {
     "data": {
      "text/plain": [
       "array([ 6.79038654e-313,  6.79038653e-313,  2.37663529e-312,\n",
       "        2.14321575e-312,  2.37663529e-312,  2.56761491e-312,\n",
       "        1.06099790e-312,  2.12199579e-313, -1.57234176e-063,\n",
       "        0.00000000e+000])"
      ]
     },
     "execution_count": 24,
     "metadata": {},
     "output_type": "execute_result"
    }
   ],
   "source": [
    "np.empty(10) # 초기화를 진행하지 않기 때문에 속도가 더 빠르다"
   ]
  },
  {
   "cell_type": "code",
   "execution_count": 26,
   "id": "80d83a1b",
   "metadata": {
    "ExecuteTime": {
     "end_time": "2022-05-01T01:58:58.752259Z",
     "start_time": "2022-05-01T01:58:58.746301Z"
    }
   },
   "outputs": [
    {
     "data": {
      "text/plain": [
       "array([[ 6.79038654e-313,  6.79038653e-313],\n",
       "       [ 2.37663529e-312,  2.14321575e-312],\n",
       "       [ 2.37663529e-312,  2.56761491e-312],\n",
       "       [ 1.06099790e-312,  2.12199579e-313],\n",
       "       [-1.57234176e-063,  0.00000000e+000]])"
      ]
     },
     "execution_count": 26,
     "metadata": {},
     "output_type": "execute_result"
    }
   ],
   "source": [
    "np.empty([5,2])"
   ]
  },
  {
   "cell_type": "code",
   "execution_count": 25,
   "id": "bb8d1bbd",
   "metadata": {
    "ExecuteTime": {
     "end_time": "2022-05-01T01:58:09.380133Z",
     "start_time": "2022-05-01T01:58:09.361184Z"
    }
   },
   "outputs": [
    {
     "data": {
      "text/plain": [
       "array([0, 1, 2, 3, 4, 5, 6, 7, 8, 9])"
      ]
     },
     "execution_count": 25,
     "metadata": {},
     "output_type": "execute_result"
    }
   ],
   "source": [
    "np.arange(10) # 파이썬에서 range 함수와 동일"
   ]
  },
  {
   "cell_type": "code",
   "execution_count": 27,
   "id": "46f7e587",
   "metadata": {
    "ExecuteTime": {
     "end_time": "2022-05-01T02:00:30.721076Z",
     "start_time": "2022-05-01T02:00:30.706115Z"
    }
   },
   "outputs": [
    {
     "data": {
      "text/plain": [
       "array([ 0. ,  2.5,  5. ,  7.5, 10. ])"
      ]
     },
     "execution_count": 27,
     "metadata": {},
     "output_type": "execute_result"
    }
   ],
   "source": [
    "np.linspace(0, 10, num=5) # 지정 범위의 균일한 간격의 숫자 반환"
   ]
  },
  {
   "cell_type": "code",
   "execution_count": 28,
   "id": "a5d19f84",
   "metadata": {
    "ExecuteTime": {
     "end_time": "2022-05-01T02:00:58.777073Z",
     "start_time": "2022-05-01T02:00:58.764093Z"
    }
   },
   "outputs": [
    {
     "data": {
      "text/plain": [
       "array([ 0.        ,  1.11111111,  2.22222222,  3.33333333,  4.44444444,\n",
       "        5.55555556,  6.66666667,  7.77777778,  8.88888889, 10.        ])"
      ]
     },
     "execution_count": 28,
     "metadata": {},
     "output_type": "execute_result"
    }
   ],
   "source": [
    "np.linspace(0,10,num=10)"
   ]
  },
  {
   "cell_type": "code",
   "execution_count": 29,
   "id": "16c5f318",
   "metadata": {
    "ExecuteTime": {
     "end_time": "2022-05-01T02:01:39.143821Z",
     "start_time": "2022-05-01T02:01:39.124866Z"
    }
   },
   "outputs": [
    {
     "data": {
      "text/plain": [
       "array([1, 1], dtype=int64)"
      ]
     },
     "execution_count": 29,
     "metadata": {},
     "output_type": "execute_result"
    }
   ],
   "source": [
    "np.ones(2, dtype=np.int64)"
   ]
  },
  {
   "cell_type": "code",
   "execution_count": 31,
   "id": "7e6fff21",
   "metadata": {
    "ExecuteTime": {
     "end_time": "2022-05-01T02:02:02.144910Z",
     "start_time": "2022-05-01T02:02:02.128953Z"
    }
   },
   "outputs": [
    {
     "data": {
      "text/plain": [
       "array([[1, 1, 1, 1],\n",
       "       [1, 1, 1, 1]], dtype=int64)"
      ]
     },
     "execution_count": 31,
     "metadata": {},
     "output_type": "execute_result"
    }
   ],
   "source": [
    "np.ones([2,4], dtype=np.int64)"
   ]
  },
  {
   "cell_type": "markdown",
   "id": "a50ec922",
   "metadata": {
    "ExecuteTime": {
     "end_time": "2022-05-01T02:17:39.279493Z",
     "start_time": "2022-05-01T02:17:39.270517Z"
    }
   },
   "source": [
    "## 배열 생성 속도 측정"
   ]
  },
  {
   "cell_type": "code",
   "execution_count": 41,
   "id": "34e18e02",
   "metadata": {
    "ExecuteTime": {
     "end_time": "2022-05-01T02:22:10.498588Z",
     "start_time": "2022-05-01T02:22:06.120064Z"
    }
   },
   "outputs": [
    {
     "name": "stdout",
     "output_type": "stream",
     "text": [
      "51.8 µs ± 1.81 µs per loop (mean ± std. dev. of 7 runs, 10000 loops each)\n"
     ]
    }
   ],
   "source": [
    "%timeit np.zeros(1000000000)"
   ]
  },
  {
   "cell_type": "code",
   "execution_count": 42,
   "id": "f66ed71d",
   "metadata": {
    "ExecuteTime": {
     "end_time": "2022-05-01T02:22:14.972408Z",
     "start_time": "2022-05-01T02:22:10.500359Z"
    }
   },
   "outputs": [
    {
     "name": "stdout",
     "output_type": "stream",
     "text": [
      "55.2 µs ± 5.35 µs per loop (mean ± std. dev. of 7 runs, 10000 loops each)\n"
     ]
    }
   ],
   "source": [
    "%timeit np.empty(1000000000)"
   ]
  },
  {
   "cell_type": "code",
   "execution_count": null,
   "id": "529962c8",
   "metadata": {},
   "outputs": [],
   "source": []
  }
 ],
 "metadata": {
  "kernelspec": {
   "display_name": "Python 3",
   "language": "python",
   "name": "python3"
  },
  "language_info": {
   "codemirror_mode": {
    "name": "ipython",
    "version": 3
   },
   "file_extension": ".py",
   "mimetype": "text/x-python",
   "name": "python",
   "nbconvert_exporter": "python",
   "pygments_lexer": "ipython3",
   "version": "3.8.8"
  },
  "toc": {
   "base_numbering": 1,
   "nav_menu": {},
   "number_sections": true,
   "sideBar": true,
   "skip_h1_title": false,
   "title_cell": "Table of Contents",
   "title_sidebar": "Contents",
   "toc_cell": false,
   "toc_position": {},
   "toc_section_display": true,
   "toc_window_display": false
  }
 },
 "nbformat": 4,
 "nbformat_minor": 5
}
