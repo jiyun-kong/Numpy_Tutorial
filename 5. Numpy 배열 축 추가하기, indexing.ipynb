{
 "cells": [
  {
   "cell_type": "code",
   "execution_count": 1,
   "id": "150f38b0",
   "metadata": {
    "ExecuteTime": {
     "end_time": "2022-05-07T09:56:20.391245Z",
     "start_time": "2022-05-07T09:56:20.241605Z"
    }
   },
   "outputs": [],
   "source": [
    "import numpy as np"
   ]
  },
  {
   "cell_type": "code",
   "execution_count": 2,
   "id": "1d12cfb1",
   "metadata": {
    "ExecuteTime": {
     "end_time": "2022-05-07T09:56:30.582603Z",
     "start_time": "2022-05-07T09:56:30.568646Z"
    }
   },
   "outputs": [],
   "source": [
    "a = np.array([1,2,3,4,5,6])"
   ]
  },
  {
   "cell_type": "code",
   "execution_count": 3,
   "id": "f3144c67",
   "metadata": {
    "ExecuteTime": {
     "end_time": "2022-05-07T09:56:33.447606Z",
     "start_time": "2022-05-07T09:56:33.416694Z"
    }
   },
   "outputs": [
    {
     "data": {
      "text/plain": [
       "array([1, 2, 3, 4, 5, 6])"
      ]
     },
     "execution_count": 3,
     "metadata": {},
     "output_type": "execute_result"
    }
   ],
   "source": [
    "a"
   ]
  },
  {
   "cell_type": "code",
   "execution_count": 4,
   "id": "a936cf4f",
   "metadata": {
    "ExecuteTime": {
     "end_time": "2022-05-07T09:56:50.826265Z",
     "start_time": "2022-05-07T09:56:50.818286Z"
    }
   },
   "outputs": [
    {
     "data": {
      "text/plain": [
       "(6,)"
      ]
     },
     "execution_count": 4,
     "metadata": {},
     "output_type": "execute_result"
    }
   ],
   "source": [
    "a.shape"
   ]
  },
  {
   "cell_type": "markdown",
   "id": "956fd827",
   "metadata": {},
   "source": [
    "### newaxis : numpy 배열의 차원을 늘려주는 함수"
   ]
  },
  {
   "cell_type": "markdown",
   "id": "1d0e4d72",
   "metadata": {},
   "source": [
    "#### 행 (Row) 확장"
   ]
  },
  {
   "cell_type": "code",
   "execution_count": 5,
   "id": "943b0d21",
   "metadata": {
    "ExecuteTime": {
     "end_time": "2022-05-07T09:58:11.556145Z",
     "start_time": "2022-05-07T09:58:11.535238Z"
    }
   },
   "outputs": [
    {
     "data": {
      "text/plain": [
       "array([[1, 2, 3, 4, 5, 6]])"
      ]
     },
     "execution_count": 5,
     "metadata": {},
     "output_type": "execute_result"
    }
   ],
   "source": [
    "a2 = a[np.newaxis, :]\n",
    "a2"
   ]
  },
  {
   "cell_type": "code",
   "execution_count": 6,
   "id": "bd1bed37",
   "metadata": {
    "ExecuteTime": {
     "end_time": "2022-05-07T09:58:23.337922Z",
     "start_time": "2022-05-07T09:58:23.328986Z"
    }
   },
   "outputs": [
    {
     "data": {
      "text/plain": [
       "(1, 6)"
      ]
     },
     "execution_count": 6,
     "metadata": {},
     "output_type": "execute_result"
    }
   ],
   "source": [
    "a2.shape"
   ]
  },
  {
   "cell_type": "markdown",
   "id": "f1d709cc",
   "metadata": {},
   "source": [
    "#### 열 (Column) 확장"
   ]
  },
  {
   "cell_type": "code",
   "execution_count": 7,
   "id": "5a52c009",
   "metadata": {
    "ExecuteTime": {
     "end_time": "2022-05-07T09:59:21.917035Z",
     "start_time": "2022-05-07T09:59:21.901077Z"
    }
   },
   "outputs": [
    {
     "data": {
      "text/plain": [
       "array([[1],\n",
       "       [2],\n",
       "       [3],\n",
       "       [4],\n",
       "       [5],\n",
       "       [6]])"
      ]
     },
     "execution_count": 7,
     "metadata": {},
     "output_type": "execute_result"
    }
   ],
   "source": [
    "a22 = a[:, np.newaxis]\n",
    "a22"
   ]
  },
  {
   "cell_type": "code",
   "execution_count": 8,
   "id": "b412babb",
   "metadata": {
    "ExecuteTime": {
     "end_time": "2022-05-07T09:59:40.204569Z",
     "start_time": "2022-05-07T09:59:40.190575Z"
    }
   },
   "outputs": [
    {
     "data": {
      "text/plain": [
       "(6, 1)"
      ]
     },
     "execution_count": 8,
     "metadata": {},
     "output_type": "execute_result"
    }
   ],
   "source": [
    "a22.shape"
   ]
  },
  {
   "cell_type": "markdown",
   "id": "c1fffe18",
   "metadata": {},
   "source": [
    "### expand_dims : numpy 배열의 차원을 확장해주는 함수"
   ]
  },
  {
   "cell_type": "code",
   "execution_count": 9,
   "id": "86d20c74",
   "metadata": {
    "ExecuteTime": {
     "end_time": "2022-05-07T10:10:21.192981Z",
     "start_time": "2022-05-07T10:10:21.182011Z"
    }
   },
   "outputs": [
    {
     "data": {
      "text/plain": [
       "array([[1],\n",
       "       [2],\n",
       "       [3],\n",
       "       [4],\n",
       "       [5],\n",
       "       [6]])"
      ]
     },
     "execution_count": 9,
     "metadata": {},
     "output_type": "execute_result"
    }
   ],
   "source": [
    "b = np.expand_dims(a, axis=1)\n",
    "b"
   ]
  },
  {
   "cell_type": "code",
   "execution_count": 10,
   "id": "b1c7a7ac",
   "metadata": {
    "ExecuteTime": {
     "end_time": "2022-05-07T10:10:48.946298Z",
     "start_time": "2022-05-07T10:10:48.936354Z"
    }
   },
   "outputs": [
    {
     "data": {
      "text/plain": [
       "(6, 1)"
      ]
     },
     "execution_count": 10,
     "metadata": {},
     "output_type": "execute_result"
    }
   ],
   "source": [
    "b.shape"
   ]
  },
  {
   "cell_type": "code",
   "execution_count": 11,
   "id": "51074211",
   "metadata": {
    "ExecuteTime": {
     "end_time": "2022-05-07T10:11:09.092543Z",
     "start_time": "2022-05-07T10:11:09.081589Z"
    }
   },
   "outputs": [
    {
     "data": {
      "text/plain": [
       "array([[1, 2, 3, 4, 5, 6]])"
      ]
     },
     "execution_count": 11,
     "metadata": {},
     "output_type": "execute_result"
    }
   ],
   "source": [
    "c = np.expand_dims(a, axis=0)\n",
    "c"
   ]
  },
  {
   "cell_type": "code",
   "execution_count": 12,
   "id": "a69d702c",
   "metadata": {
    "ExecuteTime": {
     "end_time": "2022-05-07T10:11:13.185498Z",
     "start_time": "2022-05-07T10:11:13.178484Z"
    }
   },
   "outputs": [
    {
     "data": {
      "text/plain": [
       "(1, 6)"
      ]
     },
     "execution_count": 12,
     "metadata": {},
     "output_type": "execute_result"
    }
   ],
   "source": [
    "c.shape"
   ]
  },
  {
   "cell_type": "markdown",
   "id": "d1df5530",
   "metadata": {},
   "source": [
    "### indexing"
   ]
  },
  {
   "cell_type": "code",
   "execution_count": 13,
   "id": "a5175e16",
   "metadata": {
    "ExecuteTime": {
     "end_time": "2022-05-07T10:24:21.894703Z",
     "start_time": "2022-05-07T10:24:21.883704Z"
    }
   },
   "outputs": [
    {
     "data": {
      "text/plain": [
       "array([[ 1,  2,  3,  4],\n",
       "       [ 5,  6,  7,  8],\n",
       "       [ 9, 10, 11, 12]])"
      ]
     },
     "execution_count": 13,
     "metadata": {},
     "output_type": "execute_result"
    }
   ],
   "source": [
    "a = np.array([[1,2,3,4], [5,6,7,8], [9,10,11,12]])\n",
    "a"
   ]
  },
  {
   "cell_type": "code",
   "execution_count": 14,
   "id": "d39177a6",
   "metadata": {
    "ExecuteTime": {
     "end_time": "2022-05-07T10:24:43.538528Z",
     "start_time": "2022-05-07T10:24:43.528522Z"
    }
   },
   "outputs": [
    {
     "data": {
      "text/plain": [
       "array([[ True,  True,  True,  True],\n",
       "       [False, False, False, False],\n",
       "       [False, False, False, False]])"
      ]
     },
     "execution_count": 14,
     "metadata": {},
     "output_type": "execute_result"
    }
   ],
   "source": [
    "a < 5"
   ]
  },
  {
   "cell_type": "code",
   "execution_count": 15,
   "id": "e76f51d9",
   "metadata": {
    "ExecuteTime": {
     "end_time": "2022-05-07T10:24:50.845933Z",
     "start_time": "2022-05-07T10:24:50.829962Z"
    }
   },
   "outputs": [
    {
     "data": {
      "text/plain": [
       "array([1, 2, 3, 4])"
      ]
     },
     "execution_count": 15,
     "metadata": {},
     "output_type": "execute_result"
    }
   ],
   "source": [
    "a[a<5]"
   ]
  },
  {
   "cell_type": "code",
   "execution_count": 16,
   "id": "80ff0f04",
   "metadata": {
    "ExecuteTime": {
     "end_time": "2022-05-07T10:25:16.022437Z",
     "start_time": "2022-05-07T10:25:16.010467Z"
    }
   },
   "outputs": [
    {
     "data": {
      "text/plain": [
       "array([ 6,  7,  8,  9, 10, 11, 12])"
      ]
     },
     "execution_count": 16,
     "metadata": {},
     "output_type": "execute_result"
    }
   ],
   "source": [
    "a[a>5]"
   ]
  },
  {
   "cell_type": "code",
   "execution_count": 18,
   "id": "dab57187",
   "metadata": {
    "ExecuteTime": {
     "end_time": "2022-05-07T10:26:13.715994Z",
     "start_time": "2022-05-07T10:26:13.701082Z"
    }
   },
   "outputs": [
    {
     "data": {
      "text/plain": [
       "array([ 2,  4,  6,  8, 10, 12])"
      ]
     },
     "execution_count": 18,
     "metadata": {},
     "output_type": "execute_result"
    }
   ],
   "source": [
    "even = a[a%2 == 0]\n",
    "even"
   ]
  },
  {
   "cell_type": "code",
   "execution_count": 21,
   "id": "45f98a00",
   "metadata": {
    "ExecuteTime": {
     "end_time": "2022-05-07T10:27:41.031413Z",
     "start_time": "2022-05-07T10:27:41.017454Z"
    }
   },
   "outputs": [
    {
     "data": {
      "text/plain": [
       "array([2, 4])"
      ]
     },
     "execution_count": 21,
     "metadata": {},
     "output_type": "execute_result"
    }
   ],
   "source": [
    "even_better = a[(a%2 == 0) & (a<5)]\n",
    "even_better"
   ]
  },
  {
   "cell_type": "markdown",
   "id": "52e7f32d",
   "metadata": {},
   "source": [
    "#### nonzero : 요소들 중에서 조건에 해당하는 값의 index를 알려주는 함수"
   ]
  },
  {
   "cell_type": "code",
   "execution_count": 26,
   "id": "2a42971c",
   "metadata": {
    "ExecuteTime": {
     "end_time": "2022-05-07T10:30:44.332239Z",
     "start_time": "2022-05-07T10:30:44.321246Z"
    }
   },
   "outputs": [
    {
     "data": {
      "text/plain": [
       "array([[1, 0, 7],\n",
       "       [8, 1, 0],\n",
       "       [1, 0, 0]])"
      ]
     },
     "execution_count": 26,
     "metadata": {},
     "output_type": "execute_result"
    }
   ],
   "source": [
    "arr = np.array([[1, 0, 7], [8, 1, 0], [1, 0, 0]])\n",
    "arr"
   ]
  },
  {
   "cell_type": "code",
   "execution_count": 28,
   "id": "38c03862",
   "metadata": {
    "ExecuteTime": {
     "end_time": "2022-05-07T10:31:03.854833Z",
     "start_time": "2022-05-07T10:31:03.835922Z"
    }
   },
   "outputs": [
    {
     "data": {
      "text/plain": [
       "(array([0, 0, 1, 1, 2, 2, 2], dtype=int64),\n",
       " array([0, 1, 1, 2, 0, 1, 2], dtype=int64))"
      ]
     },
     "execution_count": 28,
     "metadata": {},
     "output_type": "execute_result"
    }
   ],
   "source": [
    "np.nonzero(arr<7)"
   ]
  },
  {
   "cell_type": "markdown",
   "id": "dfde757c",
   "metadata": {},
   "source": [
    "#### tuple 형태로 표현하기"
   ]
  },
  {
   "cell_type": "code",
   "execution_count": 30,
   "id": "539e40b9",
   "metadata": {
    "ExecuteTime": {
     "end_time": "2022-05-07T10:33:45.675565Z",
     "start_time": "2022-05-07T10:33:45.652627Z"
    }
   },
   "outputs": [
    {
     "name": "stdout",
     "output_type": "stream",
     "text": [
      "(1, 2)\n"
     ]
    }
   ],
   "source": [
    "list_of_coordinates = list(zip(b[0], b[1]))\n",
    "for coord in list_of_coordinates:\n",
    "    print(coord)"
   ]
  }
 ],
 "metadata": {
  "kernelspec": {
   "display_name": "Python 3",
   "language": "python",
   "name": "python3"
  },
  "language_info": {
   "codemirror_mode": {
    "name": "ipython",
    "version": 3
   },
   "file_extension": ".py",
   "mimetype": "text/x-python",
   "name": "python",
   "nbconvert_exporter": "python",
   "pygments_lexer": "ipython3",
   "version": "3.8.8"
  },
  "toc": {
   "base_numbering": 1,
   "nav_menu": {},
   "number_sections": true,
   "sideBar": true,
   "skip_h1_title": false,
   "title_cell": "Table of Contents",
   "title_sidebar": "Contents",
   "toc_cell": false,
   "toc_position": {},
   "toc_section_display": true,
   "toc_window_display": false
  }
 },
 "nbformat": 4,
 "nbformat_minor": 5
}
