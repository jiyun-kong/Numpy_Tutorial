{
 "cells": [
  {
   "cell_type": "markdown",
   "id": "766329ed",
   "metadata": {
    "ExecuteTime": {
     "end_time": "2022-05-01T02:26:58.588296Z",
     "start_time": "2022-05-01T02:26:58.570314Z"
    }
   },
   "source": [
    "## 정렬\n",
    "* 기본값 axis=-1 : 마지막 차원을 기본값으로 정렬\n",
    "* np.sort()\n",
    "* np.argsort() : 지정된 축으로 정렬할 인덱스 순서 반환\n",
    "* np.lexsort() : 키값으로 정렬\n",
    "* np.searchsorted() : 정렬된 배열에서 요소 찾기\n",
    "* np.partition() : 부분정렬"
   ]
  },
  {
   "cell_type": "code",
   "execution_count": 3,
   "id": "b1a40c57",
   "metadata": {
    "ExecuteTime": {
     "end_time": "2022-05-01T02:28:47.771549Z",
     "start_time": "2022-05-01T02:28:47.550985Z"
    }
   },
   "outputs": [],
   "source": [
    "import numpy as np"
   ]
  },
  {
   "cell_type": "code",
   "execution_count": 4,
   "id": "1da85d33",
   "metadata": {
    "ExecuteTime": {
     "end_time": "2022-05-01T02:28:49.079057Z",
     "start_time": "2022-05-01T02:28:49.052130Z"
    }
   },
   "outputs": [
    {
     "data": {
      "text/plain": [
       "array([2, 1, 5, 3, 7, 4, 6, 8])"
      ]
     },
     "execution_count": 4,
     "metadata": {},
     "output_type": "execute_result"
    }
   ],
   "source": [
    "arr = np.array([2,1,5,3,7,4,6,8])\n",
    "arr"
   ]
  },
  {
   "cell_type": "markdown",
   "id": "85be4ff7",
   "metadata": {
    "ExecuteTime": {
     "end_time": "2022-05-01T02:41:09.106063Z",
     "start_time": "2022-05-01T02:41:09.089140Z"
    }
   },
   "source": [
    "### 정렬"
   ]
  },
  {
   "cell_type": "code",
   "execution_count": 5,
   "id": "b45a69f9",
   "metadata": {
    "ExecuteTime": {
     "end_time": "2022-05-01T02:28:57.680076Z",
     "start_time": "2022-05-01T02:28:57.669146Z"
    }
   },
   "outputs": [
    {
     "data": {
      "text/plain": [
       "array([1, 2, 3, 4, 5, 6, 7, 8])"
      ]
     },
     "execution_count": 5,
     "metadata": {},
     "output_type": "execute_result"
    }
   ],
   "source": [
    "np.sort(arr)"
   ]
  },
  {
   "cell_type": "markdown",
   "id": "2011f39c",
   "metadata": {
    "ExecuteTime": {
     "end_time": "2022-05-01T02:40:49.033883Z",
     "start_time": "2022-05-01T02:40:49.025907Z"
    }
   },
   "source": [
    "### 역순 정렬"
   ]
  },
  {
   "cell_type": "code",
   "execution_count": 6,
   "id": "0f1c7cda",
   "metadata": {
    "ExecuteTime": {
     "end_time": "2022-05-01T02:29:59.828729Z",
     "start_time": "2022-05-01T02:29:59.804794Z"
    }
   },
   "outputs": [
    {
     "data": {
      "text/plain": [
       "array([8, 7, 6, 5, 4, 3, 2, 1])"
      ]
     },
     "execution_count": 6,
     "metadata": {},
     "output_type": "execute_result"
    }
   ],
   "source": [
    "np.sort(arr)[::-1]"
   ]
  },
  {
   "cell_type": "markdown",
   "id": "bae7f462",
   "metadata": {
    "ExecuteTime": {
     "end_time": "2022-05-01T02:42:23.311900Z",
     "start_time": "2022-05-01T02:42:23.295979Z"
    }
   },
   "source": [
    "### 3 x 4 2차원 배열 만들기 (random)"
   ]
  },
  {
   "cell_type": "code",
   "execution_count": 10,
   "id": "4c2c3c27",
   "metadata": {
    "ExecuteTime": {
     "end_time": "2022-05-01T02:31:44.497622Z",
     "start_time": "2022-05-01T02:31:44.480701Z"
    }
   },
   "outputs": [
    {
     "data": {
      "text/plain": [
       "array([[6, 3, 7, 4],\n",
       "       [6, 9, 2, 6],\n",
       "       [7, 4, 3, 7]])"
      ]
     },
     "execution_count": 10,
     "metadata": {},
     "output_type": "execute_result"
    }
   ],
   "source": [
    "np.random.seed(42)\n",
    "a = np.random.randint(0,10,12).reshape([3,4])\n",
    "a"
   ]
  },
  {
   "cell_type": "code",
   "execution_count": 11,
   "id": "9c4774bf",
   "metadata": {
    "ExecuteTime": {
     "end_time": "2022-05-01T02:31:52.083515Z",
     "start_time": "2022-05-01T02:31:52.073577Z"
    }
   },
   "outputs": [
    {
     "data": {
      "text/plain": [
       "(3, 4)"
      ]
     },
     "execution_count": 11,
     "metadata": {},
     "output_type": "execute_result"
    }
   ],
   "source": [
    "a.shape"
   ]
  },
  {
   "cell_type": "markdown",
   "id": "de2465b8",
   "metadata": {
    "ExecuteTime": {
     "end_time": "2022-05-01T02:42:56.269409Z",
     "start_time": "2022-05-01T02:42:56.254489Z"
    }
   },
   "source": [
    "### 2차원 배열 정렬하기"
   ]
  },
  {
   "cell_type": "code",
   "execution_count": 13,
   "id": "b4117059",
   "metadata": {
    "ExecuteTime": {
     "end_time": "2022-05-01T02:32:44.548104Z",
     "start_time": "2022-05-01T02:32:44.528194Z"
    },
    "scrolled": true
   },
   "outputs": [
    {
     "data": {
      "text/plain": [
       "array([[3, 4, 6, 7],\n",
       "       [2, 6, 6, 9],\n",
       "       [3, 4, 7, 7]])"
      ]
     },
     "execution_count": 13,
     "metadata": {},
     "output_type": "execute_result"
    }
   ],
   "source": [
    "np.sort(a) # axis=-1이므로 4를 기준으로 정렬한다."
   ]
  },
  {
   "cell_type": "markdown",
   "id": "779a0e14",
   "metadata": {},
   "source": [
    "### 2차원 배열 역순 정렬하기"
   ]
  },
  {
   "cell_type": "code",
   "execution_count": 14,
   "id": "16739f79",
   "metadata": {
    "ExecuteTime": {
     "end_time": "2022-05-01T02:33:35.863494Z",
     "start_time": "2022-05-01T02:33:35.854491Z"
    }
   },
   "outputs": [
    {
     "data": {
      "text/plain": [
       "array([[7, 6, 4, 3],\n",
       "       [9, 6, 6, 2],\n",
       "       [7, 7, 4, 3]])"
      ]
     },
     "execution_count": 14,
     "metadata": {},
     "output_type": "execute_result"
    }
   ],
   "source": [
    "np.sort(a)[:, ::-1]"
   ]
  },
  {
   "cell_type": "markdown",
   "id": "0979e0c8",
   "metadata": {},
   "source": [
    "### 2차원 배열 열 기준으로 정렬하기"
   ]
  },
  {
   "cell_type": "code",
   "execution_count": 15,
   "id": "96955bd5",
   "metadata": {
    "ExecuteTime": {
     "end_time": "2022-05-01T02:34:20.228461Z",
     "start_time": "2022-05-01T02:34:20.208516Z"
    }
   },
   "outputs": [
    {
     "data": {
      "text/plain": [
       "array([[6, 3, 2, 4],\n",
       "       [6, 4, 3, 6],\n",
       "       [7, 9, 7, 7]])"
      ]
     },
     "execution_count": 15,
     "metadata": {},
     "output_type": "execute_result"
    }
   ],
   "source": [
    "np.sort(a, axis=0)"
   ]
  },
  {
   "cell_type": "markdown",
   "id": "e4185c32",
   "metadata": {
    "ExecuteTime": {
     "end_time": "2022-05-01T02:46:17.330237Z",
     "start_time": "2022-05-01T02:46:17.322226Z"
    }
   },
   "source": [
    "### 2차원 배열 열 기준으로 역순 정렬하기"
   ]
  },
  {
   "cell_type": "code",
   "execution_count": 18,
   "id": "c17b0b0d",
   "metadata": {
    "ExecuteTime": {
     "end_time": "2022-05-01T02:35:40.062565Z",
     "start_time": "2022-05-01T02:35:40.048574Z"
    }
   },
   "outputs": [
    {
     "data": {
      "text/plain": [
       "array([[7, 9, 7, 7],\n",
       "       [6, 4, 3, 6],\n",
       "       [6, 3, 2, 4]])"
      ]
     },
     "execution_count": 18,
     "metadata": {},
     "output_type": "execute_result"
    }
   ],
   "source": [
    "np.sort(a, axis=0)[::-1, :]"
   ]
  },
  {
   "cell_type": "code",
   "execution_count": 19,
   "id": "5df7185f",
   "metadata": {
    "ExecuteTime": {
     "end_time": "2022-05-01T02:36:05.012742Z",
     "start_time": "2022-05-01T02:36:05.001772Z"
    }
   },
   "outputs": [
    {
     "data": {
      "text/plain": [
       "array([[6, 3, 7, 4],\n",
       "       [6, 9, 2, 6],\n",
       "       [7, 4, 3, 7]])"
      ]
     },
     "execution_count": 19,
     "metadata": {},
     "output_type": "execute_result"
    }
   ],
   "source": [
    "np.random.seed(42)\n",
    "a = np.random.randint(0,10,12).reshape([3,4])\n",
    "a"
   ]
  },
  {
   "cell_type": "markdown",
   "id": "78a01102",
   "metadata": {
    "ExecuteTime": {
     "end_time": "2022-05-01T02:46:56.073433Z",
     "start_time": "2022-05-01T02:46:56.059472Z"
    }
   },
   "source": [
    "### 2차원 배열의 가장 큰 값의 인덱스 반환하기"
   ]
  },
  {
   "cell_type": "code",
   "execution_count": 20,
   "id": "6d8aecf2",
   "metadata": {
    "ExecuteTime": {
     "end_time": "2022-05-01T02:36:16.609462Z",
     "start_time": "2022-05-01T02:36:16.593473Z"
    }
   },
   "outputs": [
    {
     "data": {
      "text/plain": [
       "array([[1, 3, 0, 2],\n",
       "       [2, 0, 3, 1],\n",
       "       [2, 1, 0, 3]], dtype=int64)"
      ]
     },
     "execution_count": 20,
     "metadata": {},
     "output_type": "execute_result"
    }
   ],
   "source": [
    "np.argsort(a) # 인덱스 값 반환"
   ]
  },
  {
   "cell_type": "code",
   "execution_count": 21,
   "id": "b5f155ff",
   "metadata": {
    "ExecuteTime": {
     "end_time": "2022-05-01T02:40:08.960434Z",
     "start_time": "2022-05-01T02:40:08.955445Z"
    }
   },
   "outputs": [
    {
     "data": {
      "text/plain": [
       "array([[2, 1, 0, 2],\n",
       "       [1, 2, 2, 1],\n",
       "       [0, 0, 1, 0]], dtype=int64)"
      ]
     },
     "execution_count": 21,
     "metadata": {},
     "output_type": "execute_result"
    }
   ],
   "source": [
    "np.argsort(a, axis=0)[::-1, :]"
   ]
  },
  {
   "cell_type": "markdown",
   "id": "423f52a2",
   "metadata": {
    "ExecuteTime": {
     "end_time": "2022-05-01T02:47:48.240221Z",
     "start_time": "2022-05-01T02:47:48.230213Z"
    }
   },
   "source": [
    "## concatenate"
   ]
  },
  {
   "cell_type": "code",
   "execution_count": 29,
   "id": "1a7543df",
   "metadata": {
    "ExecuteTime": {
     "end_time": "2022-05-01T02:48:18.354392Z",
     "start_time": "2022-05-01T02:48:18.344419Z"
    }
   },
   "outputs": [],
   "source": [
    "a = np.array([1,2,3,4])\n",
    "b = np.array([5,6,7,8])"
   ]
  },
  {
   "cell_type": "code",
   "execution_count": 30,
   "id": "df58df1a",
   "metadata": {
    "ExecuteTime": {
     "end_time": "2022-05-01T02:48:29.344025Z",
     "start_time": "2022-05-01T02:48:29.328077Z"
    }
   },
   "outputs": [
    {
     "data": {
      "text/plain": [
       "array([1, 2, 3, 4, 5, 6, 7, 8])"
      ]
     },
     "execution_count": 30,
     "metadata": {},
     "output_type": "execute_result"
    }
   ],
   "source": [
    "np.concatenate([a, b])"
   ]
  },
  {
   "cell_type": "code",
   "execution_count": 31,
   "id": "2f958b8d",
   "metadata": {
    "ExecuteTime": {
     "end_time": "2022-05-01T02:48:45.525890Z",
     "start_time": "2022-05-01T02:48:45.508943Z"
    }
   },
   "outputs": [
    {
     "data": {
      "text/plain": [
       "array([1, 2, 3, 4, 5, 6, 7, 8])"
      ]
     },
     "execution_count": 31,
     "metadata": {},
     "output_type": "execute_result"
    }
   ],
   "source": [
    "np.concatenate((a,b))"
   ]
  },
  {
   "cell_type": "markdown",
   "id": "cfbc3ff5",
   "metadata": {
    "ExecuteTime": {
     "end_time": "2022-05-01T02:51:45.514401Z",
     "start_time": "2022-05-01T02:51:45.506389Z"
    }
   },
   "source": [
    "### 2차원 배열 합치기"
   ]
  },
  {
   "cell_type": "code",
   "execution_count": 32,
   "id": "9f7d2802",
   "metadata": {
    "ExecuteTime": {
     "end_time": "2022-05-01T02:49:32.202964Z",
     "start_time": "2022-05-01T02:49:32.194985Z"
    }
   },
   "outputs": [
    {
     "data": {
      "text/plain": [
       "((2, 2), (1, 2))"
      ]
     },
     "execution_count": 32,
     "metadata": {},
     "output_type": "execute_result"
    }
   ],
   "source": [
    "x = np.array([[1,2], [3,4]])\n",
    "y = np.array([[5,6]])\n",
    "x.shape, y.shape"
   ]
  },
  {
   "cell_type": "code",
   "execution_count": 33,
   "id": "10e838a2",
   "metadata": {
    "ExecuteTime": {
     "end_time": "2022-05-01T02:50:16.712546Z",
     "start_time": "2022-05-01T02:50:16.697636Z"
    }
   },
   "outputs": [
    {
     "data": {
      "text/plain": [
       "array([[1, 2],\n",
       "       [3, 4],\n",
       "       [5, 6]])"
      ]
     },
     "execution_count": 33,
     "metadata": {},
     "output_type": "execute_result"
    }
   ],
   "source": [
    "np.concatenate((x,y), axis=0)"
   ]
  }
 ],
 "metadata": {
  "kernelspec": {
   "display_name": "Python 3",
   "language": "python",
   "name": "python3"
  },
  "language_info": {
   "codemirror_mode": {
    "name": "ipython",
    "version": 3
   },
   "file_extension": ".py",
   "mimetype": "text/x-python",
   "name": "python",
   "nbconvert_exporter": "python",
   "pygments_lexer": "ipython3",
   "version": "3.8.8"
  },
  "toc": {
   "base_numbering": 1,
   "nav_menu": {},
   "number_sections": true,
   "sideBar": true,
   "skip_h1_title": false,
   "title_cell": "Table of Contents",
   "title_sidebar": "Contents",
   "toc_cell": false,
   "toc_position": {},
   "toc_section_display": true,
   "toc_window_display": false
  }
 },
 "nbformat": 4,
 "nbformat_minor": 5
}
