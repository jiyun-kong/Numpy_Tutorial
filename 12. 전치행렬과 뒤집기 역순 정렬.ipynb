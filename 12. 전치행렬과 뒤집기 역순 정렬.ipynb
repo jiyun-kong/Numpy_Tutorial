{
 "cells": [
  {
   "cell_type": "code",
   "execution_count": 1,
   "id": "78653a85",
   "metadata": {
    "ExecuteTime": {
     "end_time": "2022-05-15T02:24:45.305786Z",
     "start_time": "2022-05-15T02:24:45.033441Z"
    }
   },
   "outputs": [],
   "source": [
    "import numpy as np"
   ]
  },
  {
   "cell_type": "code",
   "execution_count": 3,
   "id": "f5f0ef24",
   "metadata": {
    "ExecuteTime": {
     "end_time": "2022-05-15T02:29:18.420188Z",
     "start_time": "2022-05-15T02:29:18.390310Z"
    }
   },
   "outputs": [
    {
     "data": {
      "text/plain": [
       "array([1, 2, 3, 4, 5, 6])"
      ]
     },
     "execution_count": 3,
     "metadata": {},
     "output_type": "execute_result"
    }
   ],
   "source": [
    "data = np.arange(1, 7)\n",
    "data"
   ]
  },
  {
   "cell_type": "code",
   "execution_count": 4,
   "id": "9b340b38",
   "metadata": {
    "ExecuteTime": {
     "end_time": "2022-05-15T02:29:24.677921Z",
     "start_time": "2022-05-15T02:29:24.657975Z"
    }
   },
   "outputs": [
    {
     "data": {
      "text/plain": [
       "array([[1, 2, 3],\n",
       "       [4, 5, 6]])"
      ]
     },
     "execution_count": 4,
     "metadata": {},
     "output_type": "execute_result"
    }
   ],
   "source": [
    "data.reshape(2, 3)"
   ]
  },
  {
   "cell_type": "code",
   "execution_count": 5,
   "id": "6fe5e222",
   "metadata": {
    "ExecuteTime": {
     "end_time": "2022-05-15T02:29:34.790359Z",
     "start_time": "2022-05-15T02:29:34.780386Z"
    }
   },
   "outputs": [
    {
     "data": {
      "text/plain": [
       "array([[1, 2],\n",
       "       [3, 4],\n",
       "       [5, 6]])"
      ]
     },
     "execution_count": 5,
     "metadata": {},
     "output_type": "execute_result"
    }
   ],
   "source": [
    "data.reshape(3, 2)"
   ]
  },
  {
   "cell_type": "code",
   "execution_count": 6,
   "id": "e3d90974",
   "metadata": {
    "ExecuteTime": {
     "end_time": "2022-05-15T02:30:43.336250Z",
     "start_time": "2022-05-15T02:30:43.329307Z"
    }
   },
   "outputs": [
    {
     "data": {
      "text/plain": [
       "array([[0, 1, 2],\n",
       "       [3, 4, 5]])"
      ]
     },
     "execution_count": 6,
     "metadata": {},
     "output_type": "execute_result"
    }
   ],
   "source": [
    "arr = np.arange(6).reshape((2, 3))\n",
    "arr"
   ]
  },
  {
   "cell_type": "markdown",
   "id": "99700e97",
   "metadata": {},
   "source": [
    "# 전치행렬 :  aT*a | 전치행렬과 원래 행렬을 곱할 때 사용 ex. 내적\n",
    "* arr.T\n",
    "* arr.transpose()"
   ]
  },
  {
   "cell_type": "code",
   "execution_count": 7,
   "id": "be7cb75e",
   "metadata": {
    "ExecuteTime": {
     "end_time": "2022-05-15T02:30:55.814036Z",
     "start_time": "2022-05-15T02:30:55.802065Z"
    }
   },
   "outputs": [
    {
     "data": {
      "text/plain": [
       "array([[0, 3],\n",
       "       [1, 4],\n",
       "       [2, 5]])"
      ]
     },
     "execution_count": 7,
     "metadata": {},
     "output_type": "execute_result"
    }
   ],
   "source": [
    "arr.transpose()"
   ]
  },
  {
   "cell_type": "code",
   "execution_count": 9,
   "id": "eb8c0a55",
   "metadata": {
    "ExecuteTime": {
     "end_time": "2022-05-15T02:31:12.827386Z",
     "start_time": "2022-05-15T02:31:12.821404Z"
    }
   },
   "outputs": [
    {
     "data": {
      "text/plain": [
       "array([[0, 3],\n",
       "       [1, 4],\n",
       "       [2, 5]])"
      ]
     },
     "execution_count": 9,
     "metadata": {},
     "output_type": "execute_result"
    }
   ],
   "source": [
    "arr.T"
   ]
  },
  {
   "cell_type": "markdown",
   "id": "e40b5630",
   "metadata": {
    "ExecuteTime": {
     "end_time": "2022-05-15T02:35:34.189242Z",
     "start_time": "2022-05-15T02:35:34.172295Z"
    }
   },
   "source": [
    "# 역순정렬\n",
    "* np.flip(arr)\n",
    "* arr[::-1]"
   ]
  },
  {
   "cell_type": "code",
   "execution_count": 11,
   "id": "bc728be1",
   "metadata": {
    "ExecuteTime": {
     "end_time": "2022-05-15T02:35:54.455989Z",
     "start_time": "2022-05-15T02:35:54.446018Z"
    }
   },
   "outputs": [
    {
     "data": {
      "text/plain": [
       "array([1, 2, 3, 4, 5, 6, 7, 8])"
      ]
     },
     "execution_count": 11,
     "metadata": {},
     "output_type": "execute_result"
    }
   ],
   "source": [
    "arr = np.arange(1,9)\n",
    "arr"
   ]
  },
  {
   "cell_type": "code",
   "execution_count": 12,
   "id": "f3517388",
   "metadata": {
    "ExecuteTime": {
     "end_time": "2022-05-15T02:36:06.721567Z",
     "start_time": "2022-05-15T02:36:06.702659Z"
    }
   },
   "outputs": [
    {
     "data": {
      "text/plain": [
       "array([8, 7, 6, 5, 4, 3, 2, 1])"
      ]
     },
     "execution_count": 12,
     "metadata": {},
     "output_type": "execute_result"
    }
   ],
   "source": [
    "np.flip(arr)"
   ]
  },
  {
   "cell_type": "code",
   "execution_count": 13,
   "id": "b734dadd",
   "metadata": {
    "ExecuteTime": {
     "end_time": "2022-05-15T02:36:30.446953Z",
     "start_time": "2022-05-15T02:36:30.439971Z"
    }
   },
   "outputs": [
    {
     "data": {
      "text/plain": [
       "array([8, 7, 6, 5, 4, 3, 2, 1])"
      ]
     },
     "execution_count": 13,
     "metadata": {},
     "output_type": "execute_result"
    }
   ],
   "source": [
    "arr[::-1]"
   ]
  },
  {
   "cell_type": "code",
   "execution_count": 14,
   "id": "bf5c6145",
   "metadata": {
    "ExecuteTime": {
     "end_time": "2022-05-15T02:38:12.172313Z",
     "start_time": "2022-05-15T02:38:12.159345Z"
    }
   },
   "outputs": [
    {
     "data": {
      "text/plain": [
       "array([[ 1,  2,  3,  4],\n",
       "       [ 5,  6,  7,  8],\n",
       "       [ 9, 10, 11, 12]])"
      ]
     },
     "execution_count": 14,
     "metadata": {},
     "output_type": "execute_result"
    }
   ],
   "source": [
    "arr_2d = np.arange(1,13).reshape(3, 4)\n",
    "arr_2d"
   ]
  },
  {
   "cell_type": "code",
   "execution_count": 15,
   "id": "4c82eb45",
   "metadata": {
    "ExecuteTime": {
     "end_time": "2022-05-15T02:38:25.101952Z",
     "start_time": "2022-05-15T02:38:25.085994Z"
    }
   },
   "outputs": [
    {
     "data": {
      "text/plain": [
       "array([[12, 11, 10,  9],\n",
       "       [ 8,  7,  6,  5],\n",
       "       [ 4,  3,  2,  1]])"
      ]
     },
     "execution_count": 15,
     "metadata": {},
     "output_type": "execute_result"
    }
   ],
   "source": [
    "np.flip(arr_2d)"
   ]
  },
  {
   "cell_type": "code",
   "execution_count": 17,
   "id": "32fcb425",
   "metadata": {
    "ExecuteTime": {
     "end_time": "2022-05-15T02:39:14.584714Z",
     "start_time": "2022-05-15T02:39:14.563808Z"
    }
   },
   "outputs": [
    {
     "data": {
      "text/plain": [
       "array([[ 9, 10, 11, 12],\n",
       "       [ 5,  6,  7,  8],\n",
       "       [ 1,  2,  3,  4]])"
      ]
     },
     "execution_count": 17,
     "metadata": {},
     "output_type": "execute_result"
    }
   ],
   "source": [
    "np.flip(arr_2d, axis=0)"
   ]
  },
  {
   "cell_type": "code",
   "execution_count": 20,
   "id": "38be4ef3",
   "metadata": {
    "ExecuteTime": {
     "end_time": "2022-05-15T02:40:33.707381Z",
     "start_time": "2022-05-15T02:40:33.686475Z"
    }
   },
   "outputs": [
    {
     "data": {
      "text/plain": [
       "array([[ 1,  2,  3,  4],\n",
       "       [ 5,  6,  7,  8],\n",
       "       [ 9, 10, 11, 12]])"
      ]
     },
     "execution_count": 20,
     "metadata": {},
     "output_type": "execute_result"
    }
   ],
   "source": [
    "arr_2d"
   ]
  },
  {
   "cell_type": "code",
   "execution_count": 21,
   "id": "332bdfb8",
   "metadata": {
    "ExecuteTime": {
     "end_time": "2022-05-15T02:40:35.537578Z",
     "start_time": "2022-05-15T02:40:35.521622Z"
    }
   },
   "outputs": [
    {
     "data": {
      "text/plain": [
       "array([[ 4,  3,  2,  1],\n",
       "       [ 8,  7,  6,  5],\n",
       "       [12, 11, 10,  9]])"
      ]
     },
     "execution_count": 21,
     "metadata": {},
     "output_type": "execute_result"
    }
   ],
   "source": [
    "np.flip(arr_2d, axis=1)"
   ]
  },
  {
   "cell_type": "code",
   "execution_count": 25,
   "id": "8d5a8232",
   "metadata": {
    "ExecuteTime": {
     "end_time": "2022-05-15T02:43:08.449677Z",
     "start_time": "2022-05-15T02:43:08.434752Z"
    }
   },
   "outputs": [
    {
     "data": {
      "text/plain": [
       "array([[ 1,  2,  3,  4],\n",
       "       [ 8,  7,  6,  5],\n",
       "       [ 9, 10, 11, 12]])"
      ]
     },
     "execution_count": 25,
     "metadata": {},
     "output_type": "execute_result"
    }
   ],
   "source": [
    "arr_2d[1] = np.flip(arr_2d[1])\n",
    "arr_2d"
   ]
  },
  {
   "cell_type": "code",
   "execution_count": 26,
   "id": "5bfdb6e4",
   "metadata": {
    "ExecuteTime": {
     "end_time": "2022-05-15T02:43:55.455593Z",
     "start_time": "2022-05-15T02:43:55.448612Z"
    }
   },
   "outputs": [
    {
     "data": {
      "text/plain": [
       "array([[ 1, 10,  3,  4],\n",
       "       [ 8,  7,  6,  5],\n",
       "       [ 9,  2, 11, 12]])"
      ]
     },
     "execution_count": 26,
     "metadata": {},
     "output_type": "execute_result"
    }
   ],
   "source": [
    "arr_2d[:, 1] = np.flip(arr_2d[:, 1])\n",
    "arr_2d"
   ]
  }
 ],
 "metadata": {
  "kernelspec": {
   "display_name": "Python 3",
   "language": "python",
   "name": "python3"
  },
  "language_info": {
   "codemirror_mode": {
    "name": "ipython",
    "version": 3
   },
   "file_extension": ".py",
   "mimetype": "text/x-python",
   "name": "python",
   "nbconvert_exporter": "python",
   "pygments_lexer": "ipython3",
   "version": "3.8.8"
  },
  "toc": {
   "base_numbering": 1,
   "nav_menu": {},
   "number_sections": true,
   "sideBar": true,
   "skip_h1_title": false,
   "title_cell": "Table of Contents",
   "title_sidebar": "Contents",
   "toc_cell": false,
   "toc_position": {},
   "toc_section_display": true,
   "toc_window_display": false
  }
 },
 "nbformat": 4,
 "nbformat_minor": 5
}
