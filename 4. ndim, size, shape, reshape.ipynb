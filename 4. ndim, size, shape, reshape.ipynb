{
 "cells": [
  {
   "cell_type": "code",
   "execution_count": 2,
   "id": "0e664dcc",
   "metadata": {
    "ExecuteTime": {
     "end_time": "2022-05-07T09:47:24.652666Z",
     "start_time": "2022-05-07T09:47:23.736100Z"
    }
   },
   "outputs": [],
   "source": [
    "import numpy as np"
   ]
  },
  {
   "cell_type": "code",
   "execution_count": 3,
   "id": "7d7d9b1c",
   "metadata": {
    "ExecuteTime": {
     "end_time": "2022-05-07T09:47:27.296443Z",
     "start_time": "2022-05-07T09:47:27.281436Z"
    }
   },
   "outputs": [
    {
     "data": {
      "text/plain": [
       "array([[[0, 1, 2, 3],\n",
       "        [4, 5, 6, 7]],\n",
       "\n",
       "       [[0, 1, 2, 3],\n",
       "        [4, 5, 6, 7]],\n",
       "\n",
       "       [[0, 1, 2, 3],\n",
       "        [4, 5, 6, 7]]])"
      ]
     },
     "execution_count": 3,
     "metadata": {},
     "output_type": "execute_result"
    }
   ],
   "source": [
    "array_example = np.array ([[[0,1,2,3], [4,5,6,7]],\n",
    "                          [[0,1,2,3], [4,5,6,7]],\n",
    "                          [[0,1,2,3], [4,5,6,7]]])\n",
    "array_example"
   ]
  },
  {
   "cell_type": "markdown",
   "id": "06c6332d",
   "metadata": {},
   "source": [
    "### ndim : 배열의 차원을 알려주는 함수"
   ]
  },
  {
   "cell_type": "code",
   "execution_count": 4,
   "id": "934ff2c2",
   "metadata": {
    "ExecuteTime": {
     "end_time": "2022-05-07T09:48:31.926168Z",
     "start_time": "2022-05-07T09:48:31.907188Z"
    }
   },
   "outputs": [
    {
     "data": {
      "text/plain": [
       "3"
      ]
     },
     "execution_count": 4,
     "metadata": {},
     "output_type": "execute_result"
    }
   ],
   "source": [
    "array_example.ndim"
   ]
  },
  {
   "cell_type": "markdown",
   "id": "649febfc",
   "metadata": {
    "ExecuteTime": {
     "end_time": "2022-05-07T09:49:16.608515Z",
     "start_time": "2022-05-07T09:49:16.603529Z"
    }
   },
   "source": [
    "### size : 배열의 element 개수를 알려주는 함수"
   ]
  },
  {
   "cell_type": "code",
   "execution_count": 6,
   "id": "49a9d75e",
   "metadata": {
    "ExecuteTime": {
     "end_time": "2022-05-07T09:49:31.034829Z",
     "start_time": "2022-05-07T09:49:31.027848Z"
    }
   },
   "outputs": [
    {
     "data": {
      "text/plain": [
       "24"
      ]
     },
     "execution_count": 6,
     "metadata": {},
     "output_type": "execute_result"
    }
   ],
   "source": [
    "array_example.size"
   ]
  },
  {
   "cell_type": "markdown",
   "id": "aad61b20",
   "metadata": {
    "ExecuteTime": {
     "end_time": "2022-05-07T09:49:57.598342Z",
     "start_time": "2022-05-07T09:49:57.584349Z"
    }
   },
   "source": [
    "### shape : 배열의 형태를 알려주는 함수"
   ]
  },
  {
   "cell_type": "code",
   "execution_count": 8,
   "id": "d0b418b8",
   "metadata": {
    "ExecuteTime": {
     "end_time": "2022-05-07T09:50:16.504350Z",
     "start_time": "2022-05-07T09:50:16.491391Z"
    }
   },
   "outputs": [
    {
     "data": {
      "text/plain": [
       "(3, 2, 4)"
      ]
     },
     "execution_count": 8,
     "metadata": {},
     "output_type": "execute_result"
    }
   ],
   "source": [
    "array_example.shape"
   ]
  },
  {
   "cell_type": "markdown",
   "id": "3ea74e89",
   "metadata": {
    "ExecuteTime": {
     "end_time": "2022-05-07T09:51:09.884073Z",
     "start_time": "2022-05-07T09:51:09.868085Z"
    }
   },
   "source": [
    "### reshape : 배열을 재배열해주는 함수"
   ]
  },
  {
   "cell_type": "code",
   "execution_count": 10,
   "id": "4ee29410",
   "metadata": {
    "ExecuteTime": {
     "end_time": "2022-05-07T09:51:39.799415Z",
     "start_time": "2022-05-07T09:51:39.787442Z"
    }
   },
   "outputs": [
    {
     "data": {
      "text/plain": [
       "array([0, 1, 2, 3, 4, 5])"
      ]
     },
     "execution_count": 10,
     "metadata": {},
     "output_type": "execute_result"
    }
   ],
   "source": [
    "a = np.arange(6)\n",
    "a"
   ]
  },
  {
   "cell_type": "code",
   "execution_count": 11,
   "id": "ce6e90cf",
   "metadata": {
    "ExecuteTime": {
     "end_time": "2022-05-07T09:51:46.289135Z",
     "start_time": "2022-05-07T09:51:46.278204Z"
    }
   },
   "outputs": [
    {
     "data": {
      "text/plain": [
       "array([[0, 1, 2],\n",
       "       [3, 4, 5]])"
      ]
     },
     "execution_count": 11,
     "metadata": {},
     "output_type": "execute_result"
    }
   ],
   "source": [
    "a.reshape(2,3)"
   ]
  },
  {
   "cell_type": "code",
   "execution_count": 12,
   "id": "2c5f6860",
   "metadata": {
    "ExecuteTime": {
     "end_time": "2022-05-07T09:52:08.320846Z",
     "start_time": "2022-05-07T09:52:08.304857Z"
    }
   },
   "outputs": [
    {
     "data": {
      "text/plain": [
       "array([[0, 1],\n",
       "       [2, 3],\n",
       "       [4, 5]])"
      ]
     },
     "execution_count": 12,
     "metadata": {},
     "output_type": "execute_result"
    }
   ],
   "source": [
    "a.reshape(3,2)"
   ]
  },
  {
   "cell_type": "code",
   "execution_count": 14,
   "id": "ee408860",
   "metadata": {
    "ExecuteTime": {
     "end_time": "2022-05-07T09:53:32.021658Z",
     "start_time": "2022-05-07T09:53:32.005749Z"
    }
   },
   "outputs": [
    {
     "data": {
      "text/plain": [
       "array([0, 1, 2, 3, 4, 5])"
      ]
     },
     "execution_count": 14,
     "metadata": {},
     "output_type": "execute_result"
    }
   ],
   "source": [
    "a\n",
    "# 값이 아예 바뀌는 것이 아니라 사본이 바뀌는 것"
   ]
  }
 ],
 "metadata": {
  "kernelspec": {
   "display_name": "Python 3",
   "language": "python",
   "name": "python3"
  },
  "language_info": {
   "codemirror_mode": {
    "name": "ipython",
    "version": 3
   },
   "file_extension": ".py",
   "mimetype": "text/x-python",
   "name": "python",
   "nbconvert_exporter": "python",
   "pygments_lexer": "ipython3",
   "version": "3.8.8"
  },
  "toc": {
   "base_numbering": 1,
   "nav_menu": {},
   "number_sections": true,
   "sideBar": true,
   "skip_h1_title": false,
   "title_cell": "Table of Contents",
   "title_sidebar": "Contents",
   "toc_cell": false,
   "toc_position": {},
   "toc_section_display": true,
   "toc_window_display": false
  }
 },
 "nbformat": 4,
 "nbformat_minor": 5
}
