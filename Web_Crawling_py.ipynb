{
  "nbformat": 4,
  "nbformat_minor": 0,
  "metadata": {
    "colab": {
      "provenance": [],
      "collapsed_sections": [],
      "toc_visible": true,
      "authorship_tag": "ABX9TyMelfnHDql0rS14PSfXveXx",
      "include_colab_link": true
    },
    "kernelspec": {
      "name": "python3",
      "display_name": "Python 3"
    },
    "language_info": {
      "name": "python"
    }
  },
  "cells": [
    {
      "cell_type": "markdown",
      "metadata": {
        "id": "view-in-github",
        "colab_type": "text"
      },
      "source": [
        "<a href=\"https://colab.research.google.com/github/jiyun-kong/Numpy_Tutorial/blob/main/Web_Crawling_py.ipynb\" target=\"_parent\"><img src=\"https://colab.research.google.com/assets/colab-badge.svg\" alt=\"Open In Colab\"/></a>"
      ]
    },
    {
      "cell_type": "markdown",
      "source": [
        "# 연습"
      ],
      "metadata": {
        "id": "tCY8dYFdauJP"
      }
    },
    {
      "cell_type": "code",
      "execution_count": null,
      "metadata": {
        "id": "uLIEc5FZkdW6"
      },
      "outputs": [],
      "source": [
        "import requests"
      ]
    },
    {
      "cell_type": "code",
      "source": [
        "headers = {'User-Agent': 'Mozilla/5.0 (Windows NT 10.0; Win64; x64) AppleWebKit/537.36 (KHTML, like Gecko) Chrome/104.0.0.0 Safari/537.36'}\n",
        "url = \"https://www.naver.com/\"\n",
        "\n",
        "r = requests.get(url, headers=headers)\n",
        "r.status_code"
      ],
      "metadata": {
        "colab": {
          "base_uri": "https://localhost:8080/"
        },
        "id": "Fk8n_UoLkmVa",
        "outputId": "b882cdd1-5a4a-4af2-bdae-4d82d7408289"
      },
      "execution_count": null,
      "outputs": [
        {
          "output_type": "execute_result",
          "data": {
            "text/plain": [
              "200"
            ]
          },
          "metadata": {},
          "execution_count": 2
        }
      ]
    },
    {
      "cell_type": "code",
      "source": [
        "html_doc = \"\"\"<html><head><title>The Dormouse's story</title></head>\n",
        "<body>\n",
        "<p class=\"title\"><b>The Dormouse's story</b></p>\n",
        "\n",
        "<p class=\"story\">Once upon a time there were three little sisters; and their names were\n",
        "<a href=\"http://example.com/elsie\" class=\"sister\" id=\"link1\">Elsie</a>,\n",
        "<a href=\"http://example.com/lacie\" class=\"sister\" id=\"link2\">Lacie</a> and\n",
        "<a href=\"http://example.com/tillie\" class=\"sister\" id=\"link3\">Tillie</a>;\n",
        "and they lived at the bottom of a well.</p>\n",
        "\n",
        "<p class=\"story\">...</p>\n",
        "\"\"\""
      ],
      "metadata": {
        "id": "TUOWhlh2kqi_"
      },
      "execution_count": null,
      "outputs": []
    },
    {
      "cell_type": "code",
      "source": [
        "from bs4 import BeautifulSoup\n",
        "soup = BeautifulSoup(html_doc, 'html.parser')\n",
        "\n",
        "print(soup.prettify())"
      ],
      "metadata": {
        "colab": {
          "base_uri": "https://localhost:8080/"
        },
        "id": "rfZFb79RktSS",
        "outputId": "bf313edf-b3d8-4a1e-bea5-6266989c53a8"
      },
      "execution_count": null,
      "outputs": [
        {
          "output_type": "stream",
          "name": "stdout",
          "text": [
            "<html>\n",
            " <head>\n",
            "  <title>\n",
            "   The Dormouse's story\n",
            "  </title>\n",
            " </head>\n",
            " <body>\n",
            "  <p class=\"title\">\n",
            "   <b>\n",
            "    The Dormouse's story\n",
            "   </b>\n",
            "  </p>\n",
            "  <p class=\"story\">\n",
            "   Once upon a time there were three little sisters; and their names were\n",
            "   <a class=\"sister\" href=\"http://example.com/elsie\" id=\"link1\">\n",
            "    Elsie\n",
            "   </a>\n",
            "   ,\n",
            "   <a class=\"sister\" href=\"http://example.com/lacie\" id=\"link2\">\n",
            "    Lacie\n",
            "   </a>\n",
            "   and\n",
            "   <a class=\"sister\" href=\"http://example.com/tillie\" id=\"link3\">\n",
            "    Tillie\n",
            "   </a>\n",
            "   ;\n",
            "and they lived at the bottom of a well.\n",
            "  </p>\n",
            "  <p class=\"story\">\n",
            "   ...\n",
            "  </p>\n",
            " </body>\n",
            "</html>\n"
          ]
        }
      ]
    },
    {
      "cell_type": "code",
      "source": [
        "soup.title\n",
        "# <title>The Dormouse's story</title>\n",
        "\n",
        "soup.title.name\n",
        "# u'title'\n",
        "\n",
        "soup.title.string\n",
        "# u'The Dormouse's story'\n",
        "\n",
        "soup.title.parent.name\n",
        "# u'head'\n",
        "\n",
        "soup.p\n",
        "# <p class=\"title\"><b>The Dormouse's story</b></p>\n",
        "\n",
        "soup.p['class']\n",
        "# u'title'\n",
        "\n",
        "soup.a\n",
        "# <a class=\"sister\" href=\"http://example.com/elsie\" id=\"link1\">Elsie</a>\n",
        "\n",
        "soup.find_all('a')\n",
        "# [<a class=\"sister\" href=\"http://example.com/elsie\" id=\"link1\">Elsie</a>,\n",
        "#  <a class=\"sister\" href=\"http://example.com/lacie\" id=\"link2\">Lacie</a>,\n",
        "#  <a class=\"sister\" href=\"http://example.com/tillie\" id=\"link3\">Tillie</a>]\n",
        "\n",
        "soup.find(id=\"link3\")\n",
        "# <a class=\"sister\" href=\"http://example.com/tillie\" id=\"link3\">Tillie</a>"
      ],
      "metadata": {
        "colab": {
          "base_uri": "https://localhost:8080/"
        },
        "id": "vr_DjxqYkvhk",
        "outputId": "e560b450-66df-4796-fd3e-ee8eb5703c10"
      },
      "execution_count": null,
      "outputs": [
        {
          "output_type": "execute_result",
          "data": {
            "text/plain": [
              "<a class=\"sister\" href=\"http://example.com/tillie\" id=\"link3\">Tillie</a>"
            ]
          },
          "metadata": {},
          "execution_count": 5
        }
      ]
    },
    {
      "cell_type": "code",
      "source": [
        "soup.title"
      ],
      "metadata": {
        "colab": {
          "base_uri": "https://localhost:8080/"
        },
        "id": "S31nubUck32e",
        "outputId": "e910a208-8e32-43da-cf84-27170a519cac"
      },
      "execution_count": null,
      "outputs": [
        {
          "output_type": "execute_result",
          "data": {
            "text/plain": [
              "<title>The Dormouse's story</title>"
            ]
          },
          "metadata": {},
          "execution_count": 6
        }
      ]
    },
    {
      "cell_type": "code",
      "source": [
        "soup.title.string"
      ],
      "metadata": {
        "colab": {
          "base_uri": "https://localhost:8080/",
          "height": 36
        },
        "id": "kkykZg-ooG4k",
        "outputId": "295f825a-3671-45e9-ace3-95e50250c53d"
      },
      "execution_count": null,
      "outputs": [
        {
          "output_type": "execute_result",
          "data": {
            "text/plain": [
              "\"The Dormouse's story\""
            ],
            "application/vnd.google.colaboratory.intrinsic+json": {
              "type": "string"
            }
          },
          "metadata": {},
          "execution_count": 8
        }
      ]
    },
    {
      "cell_type": "code",
      "source": [
        "soup.p"
      ],
      "metadata": {
        "colab": {
          "base_uri": "https://localhost:8080/"
        },
        "id": "KXS4LvQLoNr5",
        "outputId": "3a316e09-a9b4-481a-f4a5-219f2d53ff82"
      },
      "execution_count": null,
      "outputs": [
        {
          "output_type": "execute_result",
          "data": {
            "text/plain": [
              "<p class=\"title\"><b>The Dormouse's story</b></p>"
            ]
          },
          "metadata": {},
          "execution_count": 9
        }
      ]
    },
    {
      "cell_type": "code",
      "source": [
        "soup.find_all('a')"
      ],
      "metadata": {
        "colab": {
          "base_uri": "https://localhost:8080/"
        },
        "id": "VRkcWP-_oaoB",
        "outputId": "3f18ee91-e59a-49c3-98d1-b5d152834104"
      },
      "execution_count": null,
      "outputs": [
        {
          "output_type": "execute_result",
          "data": {
            "text/plain": [
              "[<a class=\"sister\" href=\"http://example.com/elsie\" id=\"link1\">Elsie</a>,\n",
              " <a class=\"sister\" href=\"http://example.com/lacie\" id=\"link2\">Lacie</a>,\n",
              " <a class=\"sister\" href=\"http://example.com/tillie\" id=\"link3\">Tillie</a>]"
            ]
          },
          "metadata": {},
          "execution_count": 12
        }
      ]
    },
    {
      "cell_type": "code",
      "source": [
        "soup.find(id=\"link3\")"
      ],
      "metadata": {
        "colab": {
          "base_uri": "https://localhost:8080/"
        },
        "id": "qrJ6WZzhoqfn",
        "outputId": "6b8e14d7-9d62-4aab-d484-6f2df9c5abc1"
      },
      "execution_count": null,
      "outputs": [
        {
          "output_type": "execute_result",
          "data": {
            "text/plain": [
              "<a class=\"sister\" href=\"http://example.com/tillie\" id=\"link3\">Tillie</a>"
            ]
          },
          "metadata": {},
          "execution_count": 13
        }
      ]
    },
    {
      "cell_type": "code",
      "source": [
        "soup.find('a').string"
      ],
      "metadata": {
        "colab": {
          "base_uri": "https://localhost:8080/",
          "height": 36
        },
        "id": "0u0p0WVio87a",
        "outputId": "c6f32469-3ce1-404b-98dd-2d69bbfc8dd5"
      },
      "execution_count": null,
      "outputs": [
        {
          "output_type": "execute_result",
          "data": {
            "text/plain": [
              "'Elsie'"
            ],
            "application/vnd.google.colaboratory.intrinsic+json": {
              "type": "string"
            }
          },
          "metadata": {},
          "execution_count": 15
        }
      ]
    },
    {
      "cell_type": "code",
      "source": [
        "str_lst = soup.find_all('a')\n",
        "\n",
        "for i in str_lst:\n",
        "  print(i.string)"
      ],
      "metadata": {
        "colab": {
          "base_uri": "https://localhost:8080/"
        },
        "id": "n8RIxZDjp9S_",
        "outputId": "571ecebe-56fd-49da-cc42-60b0dd6b4752"
      },
      "execution_count": null,
      "outputs": [
        {
          "output_type": "stream",
          "name": "stdout",
          "text": [
            "Elsie\n",
            "Lacie\n",
            "Tillie\n"
          ]
        }
      ]
    },
    {
      "cell_type": "code",
      "source": [
        "# 처음 나오는 것 한 개의 p 태그 가져오기\n",
        "soup.find('p')"
      ],
      "metadata": {
        "colab": {
          "base_uri": "https://localhost:8080/"
        },
        "id": "SxKnykHNru34",
        "outputId": "f1fd1c9e-0f9a-46a3-c7fb-58d87797fad8"
      },
      "execution_count": null,
      "outputs": [
        {
          "output_type": "execute_result",
          "data": {
            "text/plain": [
              "<p class=\"title\"><b>The Dormouse's story</b></p>"
            ]
          },
          "metadata": {},
          "execution_count": 21
        }
      ]
    },
    {
      "cell_type": "code",
      "source": [
        "soup.p"
      ],
      "metadata": {
        "colab": {
          "base_uri": "https://localhost:8080/"
        },
        "id": "jtTQ-geGsIU6",
        "outputId": "73865fa1-3646-4eca-b1a4-cd35b0206db5"
      },
      "execution_count": null,
      "outputs": [
        {
          "output_type": "execute_result",
          "data": {
            "text/plain": [
              "<p class=\"title\"><b>The Dormouse's story</b></p>"
            ]
          },
          "metadata": {},
          "execution_count": 22
        }
      ]
    },
    {
      "cell_type": "code",
      "source": [
        "# a 태그에 있는 href 속성값 가져오기\n",
        "soup.find('a')['href']"
      ],
      "metadata": {
        "colab": {
          "base_uri": "https://localhost:8080/",
          "height": 36
        },
        "id": "zOKqNXGBsLAu",
        "outputId": "3e16cfc9-51bc-48d0-d534-14e70c69a8c3"
      },
      "execution_count": null,
      "outputs": [
        {
          "output_type": "execute_result",
          "data": {
            "text/plain": [
              "'http://example.com/elsie'"
            ],
            "application/vnd.google.colaboratory.intrinsic+json": {
              "type": "string"
            }
          },
          "metadata": {},
          "execution_count": 23
        }
      ]
    },
    {
      "cell_type": "code",
      "source": [
        "soup.a.text"
      ],
      "metadata": {
        "colab": {
          "base_uri": "https://localhost:8080/",
          "height": 36
        },
        "id": "WWVQFGHMsX1i",
        "outputId": "31cb7d70-dc25-4024-b1d8-fab0373be190"
      },
      "execution_count": null,
      "outputs": [
        {
          "output_type": "execute_result",
          "data": {
            "text/plain": [
              "'Elsie'"
            ],
            "application/vnd.google.colaboratory.intrinsic+json": {
              "type": "string"
            }
          },
          "metadata": {},
          "execution_count": 24
        }
      ]
    },
    {
      "cell_type": "code",
      "source": [
        "soup.find('a').text"
      ],
      "metadata": {
        "colab": {
          "base_uri": "https://localhost:8080/",
          "height": 36
        },
        "id": "eRjFId67sczs",
        "outputId": "7eb29a11-d242-46fa-89bf-134ee3bcf7d9"
      },
      "execution_count": null,
      "outputs": [
        {
          "output_type": "execute_result",
          "data": {
            "text/plain": [
              "'Elsie'"
            ],
            "application/vnd.google.colaboratory.intrinsic+json": {
              "type": "string"
            }
          },
          "metadata": {},
          "execution_count": 25
        }
      ]
    },
    {
      "cell_type": "code",
      "source": [
        "soup.find_all('a')"
      ],
      "metadata": {
        "colab": {
          "base_uri": "https://localhost:8080/"
        },
        "id": "8ldPCjKqsfIx",
        "outputId": "7f333b1a-242b-478a-ec5b-da8fbaf79fb2"
      },
      "execution_count": null,
      "outputs": [
        {
          "output_type": "execute_result",
          "data": {
            "text/plain": [
              "[<a class=\"sister\" href=\"http://example.com/elsie\" id=\"link1\">Elsie</a>,\n",
              " <a class=\"sister\" href=\"http://example.com/lacie\" id=\"link2\">Lacie</a>,\n",
              " <a class=\"sister\" href=\"http://example.com/tillie\" id=\"link3\">Tillie</a>]"
            ]
          },
          "metadata": {},
          "execution_count": 26
        }
      ]
    },
    {
      "cell_type": "code",
      "source": [
        "soup.find_all('a')[1].get_text()"
      ],
      "metadata": {
        "colab": {
          "base_uri": "https://localhost:8080/",
          "height": 36
        },
        "id": "JXld1NbisjFa",
        "outputId": "0eb40c4e-2927-4894-c77f-df65edecfa08"
      },
      "execution_count": null,
      "outputs": [
        {
          "output_type": "execute_result",
          "data": {
            "text/plain": [
              "'Lacie'"
            ],
            "application/vnd.google.colaboratory.intrinsic+json": {
              "type": "string"
            }
          },
          "metadata": {},
          "execution_count": 28
        }
      ]
    },
    {
      "cell_type": "code",
      "source": [
        "soup_lst = soup.find_all('a')\n",
        "\n",
        "for i in soup_lst:\n",
        "  print(i['href'])"
      ],
      "metadata": {
        "colab": {
          "base_uri": "https://localhost:8080/"
        },
        "id": "t93ck5IAspDF",
        "outputId": "68a48527-51ac-4114-8dfb-377d92568c4c"
      },
      "execution_count": null,
      "outputs": [
        {
          "output_type": "stream",
          "name": "stdout",
          "text": [
            "http://example.com/elsie\n",
            "http://example.com/lacie\n",
            "http://example.com/tillie\n"
          ]
        }
      ]
    },
    {
      "cell_type": "code",
      "source": [
        "for i in soup_lst:\n",
        "  print(i.get_text())"
      ],
      "metadata": {
        "colab": {
          "base_uri": "https://localhost:8080/"
        },
        "id": "HrfXlbWds_lm",
        "outputId": "7b68713d-dbd1-49b0-b039-2541c62b9d3b"
      },
      "execution_count": null,
      "outputs": [
        {
          "output_type": "stream",
          "name": "stdout",
          "text": [
            "Elsie\n",
            "Lacie\n",
            "Tillie\n"
          ]
        }
      ]
    },
    {
      "cell_type": "code",
      "source": [
        "# a 태그이면서 class가 sister인 값 모두 찾아오기\n",
        "soup_lst = soup.find_all('a')\n",
        "\n",
        "for i in soup_lst:\n",
        "  if i['href'] == 'http://example.com/lacie':\n",
        "    print(i.text)"
      ],
      "metadata": {
        "colab": {
          "base_uri": "https://localhost:8080/"
        },
        "id": "0OE0ZyIMtJdV",
        "outputId": "3f86d8b0-d25a-422e-f7c2-32de14f4f287"
      },
      "execution_count": null,
      "outputs": [
        {
          "output_type": "stream",
          "name": "stdout",
          "text": [
            "Lacie\n"
          ]
        }
      ]
    },
    {
      "cell_type": "code",
      "source": [
        "# a 태그이면서 id가 link3인 요소들 모두 찾기\n",
        "soup.find_all('a', id='link3')"
      ],
      "metadata": {
        "colab": {
          "base_uri": "https://localhost:8080/"
        },
        "id": "4gEmsJknthg8",
        "outputId": "0bc8db78-d3f3-49b4-c92a-f8e838088ab7"
      },
      "execution_count": null,
      "outputs": [
        {
          "output_type": "execute_result",
          "data": {
            "text/plain": [
              "[<a class=\"sister\" href=\"http://example.com/tillie\" id=\"link3\">Tillie</a>]"
            ]
          },
          "metadata": {},
          "execution_count": 33
        }
      ]
    },
    {
      "cell_type": "code",
      "source": [
        "soup.find_all('a', {'id':'link3'})"
      ],
      "metadata": {
        "colab": {
          "base_uri": "https://localhost:8080/"
        },
        "id": "PVfEixDquFFg",
        "outputId": "61454599-fb38-4eac-c9bc-45381bfda7cc"
      },
      "execution_count": null,
      "outputs": [
        {
          "output_type": "execute_result",
          "data": {
            "text/plain": [
              "[<a class=\"sister\" href=\"http://example.com/tillie\" id=\"link3\">Tillie</a>]"
            ]
          },
          "metadata": {},
          "execution_count": 34
        }
      ]
    },
    {
      "cell_type": "markdown",
      "source": [
        "# 실전 (1) : Transfermarkt 크롤링\n",
        "- 첫페이지 25명 정보"
      ],
      "metadata": {
        "id": "FsNw3tDBa3Ie"
      }
    },
    {
      "cell_type": "code",
      "source": [
        "import requests\n",
        "from bs4 import BeautifulSoup\n",
        "\n",
        "import pandas as pd\n",
        "import time"
      ],
      "metadata": {
        "id": "oLt_k0SykgHl"
      },
      "execution_count": 2,
      "outputs": []
    },
    {
      "cell_type": "code",
      "source": [
        "headers = {'User-Agent': 'Mozilla/5.0 (Windows NT 10.0; Win64; x64) AppleWebKit/537.36 (KHTML, like Gecko) Chrome/104.0.0.0 Safari/537.36'}\n",
        "url = \"https://www.transfermarkt.com/spieler-statistik/wertvollstespieler/marktwertetop\"\n",
        "\n",
        "r = requests.get(url, headers=headers)\n",
        "r.status_code"
      ],
      "metadata": {
        "colab": {
          "base_uri": "https://localhost:8080/"
        },
        "id": "ZLlzcpkokRgC",
        "outputId": "6d9c2c88-ddc9-407f-906d-1d3085fe158e"
      },
      "execution_count": 3,
      "outputs": [
        {
          "output_type": "execute_result",
          "data": {
            "text/plain": [
              "200"
            ]
          },
          "metadata": {},
          "execution_count": 3
        }
      ]
    },
    {
      "cell_type": "code",
      "source": [
        "# BeautifulSoup()으로 웹페이지 분석 준비하기\n",
        "soup = BeautifulSoup(r.content, 'html.parser')  # r.text도 가능\n",
        "print(soup)"
      ],
      "metadata": {
        "id": "9vrJ7abQkcdU"
      },
      "execution_count": null,
      "outputs": []
    },
    {
      "cell_type": "code",
      "source": [
        "player_lst = soup.find_all('tr', {'class':['odd', 'even']})\n",
        "player_lst"
      ],
      "metadata": {
        "id": "nhimUDo5kskr"
      },
      "execution_count": null,
      "outputs": []
    },
    {
      "cell_type": "code",
      "source": [
        "rank = []\n",
        "name = []\n",
        "position = []\n",
        "age = []\n",
        "nation = []\n",
        "team = []\n",
        "value = []"
      ],
      "metadata": {
        "id": "vfZ1oSSek4_F"
      },
      "execution_count": 6,
      "outputs": []
    },
    {
      "cell_type": "code",
      "source": [
        "for p in player_lst:\n",
        "  # rank\n",
        "  td_player = p.find_all('td')\n",
        "  rank.append(td_player[0].text)\n",
        "\n",
        "\n",
        "print(rank)"
      ],
      "metadata": {
        "id": "RTung1ujrUsn",
        "colab": {
          "base_uri": "https://localhost:8080/"
        },
        "outputId": "3a1fa8f6-e47b-473c-e2fb-a6b8579ac446"
      },
      "execution_count": 7,
      "outputs": [
        {
          "output_type": "stream",
          "name": "stdout",
          "text": [
            "['1', '2', '3', '4', '5', '6', '7', '8', '9', '10', '11', '12', '13', '14', '15', '16', '17', '18', '19', '20', '21', '22', '23', '24', '25']\n"
          ]
        }
      ]
    },
    {
      "cell_type": "code",
      "source": [
        "for p in player_lst: \n",
        "  # name\n",
        "  a_player = p.find('a')\n",
        "  name.append(a_player.img['title'])\n",
        "print(name)"
      ],
      "metadata": {
        "colab": {
          "base_uri": "https://localhost:8080/"
        },
        "id": "HfqT8XCRk6Bf",
        "outputId": "209d4562-d9de-496e-bf1e-70235ef0e418"
      },
      "execution_count": 8,
      "outputs": [
        {
          "output_type": "stream",
          "name": "stdout",
          "text": [
            "['Kylian Mbappé', 'Erling Haaland', 'Vinicius Junior', 'Phil Foden', 'Mohamed Salah', 'Harry Kane', 'Dušan Vlahović', 'Bruno Fernandes', 'Kevin De Bruyne', 'Pedri', 'Jude Bellingham', 'Declan Rice', 'Rodri', 'Christopher Nkunku', 'Trent Alexander-Arnold', 'Bernardo Silva', 'Joshua Kimmich', 'Lautaro Martínez', 'Jadon Sancho', 'Mason Mount', 'Rúben Dias', 'Heung-min Son', 'Neymar', 'Florian Wirtz', 'João Félix']\n"
          ]
        }
      ]
    },
    {
      "cell_type": "code",
      "source": [
        "for p in player_lst: \n",
        "  # position\n",
        "  a_player = p.find_all('tr')\n",
        "  position.append(a_player[1].text)\n",
        "print(position)"
      ],
      "metadata": {
        "colab": {
          "base_uri": "https://localhost:8080/"
        },
        "id": "_uIAFOwPnpiS",
        "outputId": "089c6fb2-8a27-461a-d01d-01935903a11d"
      },
      "execution_count": 9,
      "outputs": [
        {
          "output_type": "stream",
          "name": "stdout",
          "text": [
            "['Centre-Forward', 'Centre-Forward', 'Left Winger', 'Central Midfield', 'Right Winger', 'Centre-Forward', 'Centre-Forward', 'Attacking Midfield', 'Attacking Midfield', 'Central Midfield', 'Central Midfield', 'Defensive Midfield', 'Defensive Midfield', 'Second Striker', 'Right-Back', 'Attacking Midfield', 'Defensive Midfield', 'Centre-Forward', 'Left Winger', 'Attacking Midfield', 'Centre-Back', 'Left Winger', 'Left Winger', 'Attacking Midfield', 'Second Striker']\n"
          ]
        }
      ]
    },
    {
      "cell_type": "code",
      "source": [
        "for p in player_lst: \n",
        "  # age\n",
        "  a_player = p.find_all('td')\n",
        "  age.append(a_player[5].text)\n",
        "print(age)"
      ],
      "metadata": {
        "colab": {
          "base_uri": "https://localhost:8080/"
        },
        "id": "Ypm59oljpdLD",
        "outputId": "d5966d4d-b691-4db8-a3ac-f1ab521629d9"
      },
      "execution_count": 10,
      "outputs": [
        {
          "output_type": "stream",
          "name": "stdout",
          "text": [
            "['23', '22', '22', '22', '30', '29', '22', '27', '31', '19', '19', '23', '26', '24', '23', '28', '27', '25', '22', '23', '25', '30', '30', '19', '22']\n"
          ]
        }
      ]
    },
    {
      "cell_type": "code",
      "source": [
        "for p in player_lst: \n",
        "  # nation\n",
        "  a_player = p.find_all('td')\n",
        "  nation.append(a_player[6].img['alt'])\n",
        "print(nation)"
      ],
      "metadata": {
        "colab": {
          "base_uri": "https://localhost:8080/"
        },
        "id": "CKB1IiuIpxi4",
        "outputId": "adc48bb8-dd60-44e2-fc10-e8c84c0c1ea1"
      },
      "execution_count": 11,
      "outputs": [
        {
          "output_type": "stream",
          "name": "stdout",
          "text": [
            "['France', 'Norway', 'Brazil', 'England', 'Egypt', 'England', 'Serbia', 'Portugal', 'Belgium', 'Spain', 'England', 'England', 'Spain', 'France', 'England', 'Portugal', 'Germany', 'Argentina', 'England', 'England', 'Portugal', 'Korea, South', 'Brazil', 'Germany', 'Portugal']\n"
          ]
        }
      ]
    },
    {
      "cell_type": "code",
      "source": [
        "for p in player_lst: \n",
        "  # team\n",
        "  a_player = p.find_all('td')\n",
        "  team.append(a_player[7].img['title'])\n",
        "print(team)"
      ],
      "metadata": {
        "colab": {
          "base_uri": "https://localhost:8080/"
        },
        "id": "3i6IZNVMqT0g",
        "outputId": "90f52b16-494c-446f-def0-dd1d6b644fbd"
      },
      "execution_count": 12,
      "outputs": [
        {
          "output_type": "stream",
          "name": "stdout",
          "text": [
            "['Paris Saint-Germain', 'Manchester City', 'Real Madrid', 'Manchester City', 'Liverpool FC', 'Tottenham Hotspur', 'Juventus FC', 'Manchester United', 'Manchester City', 'FC Barcelona', 'Borussia Dortmund', 'West Ham United', 'Manchester City', 'RB Leipzig', 'Liverpool FC', 'Manchester City', 'Bayern Munich', 'Inter Milan', 'Manchester United', 'Chelsea FC', 'Manchester City', 'Tottenham Hotspur', 'Paris Saint-Germain', 'Bayer 04 Leverkusen', 'Atlético de Madrid']\n"
          ]
        }
      ]
    },
    {
      "cell_type": "code",
      "source": [
        "for p in player_lst: \n",
        "  # value\n",
        "  a_player = p.find_all('td')\n",
        "  value.append(a_player[8].text)\n",
        "print(value)"
      ],
      "metadata": {
        "colab": {
          "base_uri": "https://localhost:8080/"
        },
        "id": "TiaZ-Uamquvz",
        "outputId": "76bd677e-4b52-441e-df1e-c22e00c83f62"
      },
      "execution_count": 13,
      "outputs": [
        {
          "output_type": "stream",
          "name": "stdout",
          "text": [
            "['€160.00m\\xa0', '€150.00m\\xa0', '€100.00m\\xa0', '€90.00m\\xa0', '€90.00m\\xa0', '€90.00m\\xa0', '€85.00m\\xa0', '€85.00m\\xa0', '€85.00m\\xa0', '€80.00m\\xa0', '€80.00m\\xa0', '€80.00m\\xa0', '€80.00m\\xa0', '€80.00m\\xa0', '€80.00m\\xa0', '€80.00m\\xa0', '€80.00m\\xa0', '€75.00m\\xa0', '€75.00m\\xa0', '€75.00m\\xa0', '€75.00m\\xa0', '€75.00m\\xa0', '€75.00m\\xa0', '€70.00m\\xa0', '€70.00m\\xa0']\n"
          ]
        }
      ]
    },
    {
      "cell_type": "code",
      "source": [
        "# pd.DataFrame()으로 저장하기\n",
        "df = pd.DataFrame(\n",
        "    {\n",
        "        \"rank\" : rank,\n",
        "        \"name\" : name,\n",
        "        \"position\" : position,\n",
        "        \"age\" : age,\n",
        "        \"nation\" : nation,\n",
        "        \"team\" : team,\n",
        "        \"value\" : value\n",
        "    }\n",
        "\n",
        ")"
      ],
      "metadata": {
        "id": "TocXXokorAhs"
      },
      "execution_count": 14,
      "outputs": []
    },
    {
      "cell_type": "code",
      "source": [
        "df"
      ],
      "metadata": {
        "colab": {
          "base_uri": "https://localhost:8080/",
          "height": 833
        },
        "id": "g65PfZi5UWAG",
        "outputId": "81bbb5b7-4536-4c0a-9f94-cff7cc3f8f08"
      },
      "execution_count": 15,
      "outputs": [
        {
          "output_type": "execute_result",
          "data": {
            "text/plain": [
              "   rank                    name            position age        nation  \\\n",
              "0     1           Kylian Mbappé      Centre-Forward  23        France   \n",
              "1     2          Erling Haaland      Centre-Forward  22        Norway   \n",
              "2     3         Vinicius Junior         Left Winger  22        Brazil   \n",
              "3     4              Phil Foden    Central Midfield  22       England   \n",
              "4     5           Mohamed Salah        Right Winger  30         Egypt   \n",
              "5     6              Harry Kane      Centre-Forward  29       England   \n",
              "6     7          Dušan Vlahović      Centre-Forward  22        Serbia   \n",
              "7     8         Bruno Fernandes  Attacking Midfield  27      Portugal   \n",
              "8     9         Kevin De Bruyne  Attacking Midfield  31       Belgium   \n",
              "9    10                   Pedri    Central Midfield  19         Spain   \n",
              "10   11         Jude Bellingham    Central Midfield  19       England   \n",
              "11   12             Declan Rice  Defensive Midfield  23       England   \n",
              "12   13                   Rodri  Defensive Midfield  26         Spain   \n",
              "13   14      Christopher Nkunku      Second Striker  24        France   \n",
              "14   15  Trent Alexander-Arnold          Right-Back  23       England   \n",
              "15   16          Bernardo Silva  Attacking Midfield  28      Portugal   \n",
              "16   17          Joshua Kimmich  Defensive Midfield  27       Germany   \n",
              "17   18        Lautaro Martínez      Centre-Forward  25     Argentina   \n",
              "18   19            Jadon Sancho         Left Winger  22       England   \n",
              "19   20             Mason Mount  Attacking Midfield  23       England   \n",
              "20   21              Rúben Dias         Centre-Back  25      Portugal   \n",
              "21   22           Heung-min Son         Left Winger  30  Korea, South   \n",
              "22   23                  Neymar         Left Winger  30        Brazil   \n",
              "23   24           Florian Wirtz  Attacking Midfield  19       Germany   \n",
              "24   25              João Félix      Second Striker  22      Portugal   \n",
              "\n",
              "                   team      value  \n",
              "0   Paris Saint-Germain  €160.00m   \n",
              "1       Manchester City  €150.00m   \n",
              "2           Real Madrid  €100.00m   \n",
              "3       Manchester City   €90.00m   \n",
              "4          Liverpool FC   €90.00m   \n",
              "5     Tottenham Hotspur   €90.00m   \n",
              "6           Juventus FC   €85.00m   \n",
              "7     Manchester United   €85.00m   \n",
              "8       Manchester City   €85.00m   \n",
              "9          FC Barcelona   €80.00m   \n",
              "10    Borussia Dortmund   €80.00m   \n",
              "11      West Ham United   €80.00m   \n",
              "12      Manchester City   €80.00m   \n",
              "13           RB Leipzig   €80.00m   \n",
              "14         Liverpool FC   €80.00m   \n",
              "15      Manchester City   €80.00m   \n",
              "16        Bayern Munich   €80.00m   \n",
              "17          Inter Milan   €75.00m   \n",
              "18    Manchester United   €75.00m   \n",
              "19           Chelsea FC   €75.00m   \n",
              "20      Manchester City   €75.00m   \n",
              "21    Tottenham Hotspur   €75.00m   \n",
              "22  Paris Saint-Germain   €75.00m   \n",
              "23  Bayer 04 Leverkusen   €70.00m   \n",
              "24   Atlético de Madrid   €70.00m   "
            ],
            "text/html": [
              "\n",
              "  <div id=\"df-3b11373a-d131-45a2-a499-c83ec027bd7b\">\n",
              "    <div class=\"colab-df-container\">\n",
              "      <div>\n",
              "<style scoped>\n",
              "    .dataframe tbody tr th:only-of-type {\n",
              "        vertical-align: middle;\n",
              "    }\n",
              "\n",
              "    .dataframe tbody tr th {\n",
              "        vertical-align: top;\n",
              "    }\n",
              "\n",
              "    .dataframe thead th {\n",
              "        text-align: right;\n",
              "    }\n",
              "</style>\n",
              "<table border=\"1\" class=\"dataframe\">\n",
              "  <thead>\n",
              "    <tr style=\"text-align: right;\">\n",
              "      <th></th>\n",
              "      <th>rank</th>\n",
              "      <th>name</th>\n",
              "      <th>position</th>\n",
              "      <th>age</th>\n",
              "      <th>nation</th>\n",
              "      <th>team</th>\n",
              "      <th>value</th>\n",
              "    </tr>\n",
              "  </thead>\n",
              "  <tbody>\n",
              "    <tr>\n",
              "      <th>0</th>\n",
              "      <td>1</td>\n",
              "      <td>Kylian Mbappé</td>\n",
              "      <td>Centre-Forward</td>\n",
              "      <td>23</td>\n",
              "      <td>France</td>\n",
              "      <td>Paris Saint-Germain</td>\n",
              "      <td>€160.00m</td>\n",
              "    </tr>\n",
              "    <tr>\n",
              "      <th>1</th>\n",
              "      <td>2</td>\n",
              "      <td>Erling Haaland</td>\n",
              "      <td>Centre-Forward</td>\n",
              "      <td>22</td>\n",
              "      <td>Norway</td>\n",
              "      <td>Manchester City</td>\n",
              "      <td>€150.00m</td>\n",
              "    </tr>\n",
              "    <tr>\n",
              "      <th>2</th>\n",
              "      <td>3</td>\n",
              "      <td>Vinicius Junior</td>\n",
              "      <td>Left Winger</td>\n",
              "      <td>22</td>\n",
              "      <td>Brazil</td>\n",
              "      <td>Real Madrid</td>\n",
              "      <td>€100.00m</td>\n",
              "    </tr>\n",
              "    <tr>\n",
              "      <th>3</th>\n",
              "      <td>4</td>\n",
              "      <td>Phil Foden</td>\n",
              "      <td>Central Midfield</td>\n",
              "      <td>22</td>\n",
              "      <td>England</td>\n",
              "      <td>Manchester City</td>\n",
              "      <td>€90.00m</td>\n",
              "    </tr>\n",
              "    <tr>\n",
              "      <th>4</th>\n",
              "      <td>5</td>\n",
              "      <td>Mohamed Salah</td>\n",
              "      <td>Right Winger</td>\n",
              "      <td>30</td>\n",
              "      <td>Egypt</td>\n",
              "      <td>Liverpool FC</td>\n",
              "      <td>€90.00m</td>\n",
              "    </tr>\n",
              "    <tr>\n",
              "      <th>5</th>\n",
              "      <td>6</td>\n",
              "      <td>Harry Kane</td>\n",
              "      <td>Centre-Forward</td>\n",
              "      <td>29</td>\n",
              "      <td>England</td>\n",
              "      <td>Tottenham Hotspur</td>\n",
              "      <td>€90.00m</td>\n",
              "    </tr>\n",
              "    <tr>\n",
              "      <th>6</th>\n",
              "      <td>7</td>\n",
              "      <td>Dušan Vlahović</td>\n",
              "      <td>Centre-Forward</td>\n",
              "      <td>22</td>\n",
              "      <td>Serbia</td>\n",
              "      <td>Juventus FC</td>\n",
              "      <td>€85.00m</td>\n",
              "    </tr>\n",
              "    <tr>\n",
              "      <th>7</th>\n",
              "      <td>8</td>\n",
              "      <td>Bruno Fernandes</td>\n",
              "      <td>Attacking Midfield</td>\n",
              "      <td>27</td>\n",
              "      <td>Portugal</td>\n",
              "      <td>Manchester United</td>\n",
              "      <td>€85.00m</td>\n",
              "    </tr>\n",
              "    <tr>\n",
              "      <th>8</th>\n",
              "      <td>9</td>\n",
              "      <td>Kevin De Bruyne</td>\n",
              "      <td>Attacking Midfield</td>\n",
              "      <td>31</td>\n",
              "      <td>Belgium</td>\n",
              "      <td>Manchester City</td>\n",
              "      <td>€85.00m</td>\n",
              "    </tr>\n",
              "    <tr>\n",
              "      <th>9</th>\n",
              "      <td>10</td>\n",
              "      <td>Pedri</td>\n",
              "      <td>Central Midfield</td>\n",
              "      <td>19</td>\n",
              "      <td>Spain</td>\n",
              "      <td>FC Barcelona</td>\n",
              "      <td>€80.00m</td>\n",
              "    </tr>\n",
              "    <tr>\n",
              "      <th>10</th>\n",
              "      <td>11</td>\n",
              "      <td>Jude Bellingham</td>\n",
              "      <td>Central Midfield</td>\n",
              "      <td>19</td>\n",
              "      <td>England</td>\n",
              "      <td>Borussia Dortmund</td>\n",
              "      <td>€80.00m</td>\n",
              "    </tr>\n",
              "    <tr>\n",
              "      <th>11</th>\n",
              "      <td>12</td>\n",
              "      <td>Declan Rice</td>\n",
              "      <td>Defensive Midfield</td>\n",
              "      <td>23</td>\n",
              "      <td>England</td>\n",
              "      <td>West Ham United</td>\n",
              "      <td>€80.00m</td>\n",
              "    </tr>\n",
              "    <tr>\n",
              "      <th>12</th>\n",
              "      <td>13</td>\n",
              "      <td>Rodri</td>\n",
              "      <td>Defensive Midfield</td>\n",
              "      <td>26</td>\n",
              "      <td>Spain</td>\n",
              "      <td>Manchester City</td>\n",
              "      <td>€80.00m</td>\n",
              "    </tr>\n",
              "    <tr>\n",
              "      <th>13</th>\n",
              "      <td>14</td>\n",
              "      <td>Christopher Nkunku</td>\n",
              "      <td>Second Striker</td>\n",
              "      <td>24</td>\n",
              "      <td>France</td>\n",
              "      <td>RB Leipzig</td>\n",
              "      <td>€80.00m</td>\n",
              "    </tr>\n",
              "    <tr>\n",
              "      <th>14</th>\n",
              "      <td>15</td>\n",
              "      <td>Trent Alexander-Arnold</td>\n",
              "      <td>Right-Back</td>\n",
              "      <td>23</td>\n",
              "      <td>England</td>\n",
              "      <td>Liverpool FC</td>\n",
              "      <td>€80.00m</td>\n",
              "    </tr>\n",
              "    <tr>\n",
              "      <th>15</th>\n",
              "      <td>16</td>\n",
              "      <td>Bernardo Silva</td>\n",
              "      <td>Attacking Midfield</td>\n",
              "      <td>28</td>\n",
              "      <td>Portugal</td>\n",
              "      <td>Manchester City</td>\n",
              "      <td>€80.00m</td>\n",
              "    </tr>\n",
              "    <tr>\n",
              "      <th>16</th>\n",
              "      <td>17</td>\n",
              "      <td>Joshua Kimmich</td>\n",
              "      <td>Defensive Midfield</td>\n",
              "      <td>27</td>\n",
              "      <td>Germany</td>\n",
              "      <td>Bayern Munich</td>\n",
              "      <td>€80.00m</td>\n",
              "    </tr>\n",
              "    <tr>\n",
              "      <th>17</th>\n",
              "      <td>18</td>\n",
              "      <td>Lautaro Martínez</td>\n",
              "      <td>Centre-Forward</td>\n",
              "      <td>25</td>\n",
              "      <td>Argentina</td>\n",
              "      <td>Inter Milan</td>\n",
              "      <td>€75.00m</td>\n",
              "    </tr>\n",
              "    <tr>\n",
              "      <th>18</th>\n",
              "      <td>19</td>\n",
              "      <td>Jadon Sancho</td>\n",
              "      <td>Left Winger</td>\n",
              "      <td>22</td>\n",
              "      <td>England</td>\n",
              "      <td>Manchester United</td>\n",
              "      <td>€75.00m</td>\n",
              "    </tr>\n",
              "    <tr>\n",
              "      <th>19</th>\n",
              "      <td>20</td>\n",
              "      <td>Mason Mount</td>\n",
              "      <td>Attacking Midfield</td>\n",
              "      <td>23</td>\n",
              "      <td>England</td>\n",
              "      <td>Chelsea FC</td>\n",
              "      <td>€75.00m</td>\n",
              "    </tr>\n",
              "    <tr>\n",
              "      <th>20</th>\n",
              "      <td>21</td>\n",
              "      <td>Rúben Dias</td>\n",
              "      <td>Centre-Back</td>\n",
              "      <td>25</td>\n",
              "      <td>Portugal</td>\n",
              "      <td>Manchester City</td>\n",
              "      <td>€75.00m</td>\n",
              "    </tr>\n",
              "    <tr>\n",
              "      <th>21</th>\n",
              "      <td>22</td>\n",
              "      <td>Heung-min Son</td>\n",
              "      <td>Left Winger</td>\n",
              "      <td>30</td>\n",
              "      <td>Korea, South</td>\n",
              "      <td>Tottenham Hotspur</td>\n",
              "      <td>€75.00m</td>\n",
              "    </tr>\n",
              "    <tr>\n",
              "      <th>22</th>\n",
              "      <td>23</td>\n",
              "      <td>Neymar</td>\n",
              "      <td>Left Winger</td>\n",
              "      <td>30</td>\n",
              "      <td>Brazil</td>\n",
              "      <td>Paris Saint-Germain</td>\n",
              "      <td>€75.00m</td>\n",
              "    </tr>\n",
              "    <tr>\n",
              "      <th>23</th>\n",
              "      <td>24</td>\n",
              "      <td>Florian Wirtz</td>\n",
              "      <td>Attacking Midfield</td>\n",
              "      <td>19</td>\n",
              "      <td>Germany</td>\n",
              "      <td>Bayer 04 Leverkusen</td>\n",
              "      <td>€70.00m</td>\n",
              "    </tr>\n",
              "    <tr>\n",
              "      <th>24</th>\n",
              "      <td>25</td>\n",
              "      <td>João Félix</td>\n",
              "      <td>Second Striker</td>\n",
              "      <td>22</td>\n",
              "      <td>Portugal</td>\n",
              "      <td>Atlético de Madrid</td>\n",
              "      <td>€70.00m</td>\n",
              "    </tr>\n",
              "  </tbody>\n",
              "</table>\n",
              "</div>\n",
              "      <button class=\"colab-df-convert\" onclick=\"convertToInteractive('df-3b11373a-d131-45a2-a499-c83ec027bd7b')\"\n",
              "              title=\"Convert this dataframe to an interactive table.\"\n",
              "              style=\"display:none;\">\n",
              "        \n",
              "  <svg xmlns=\"http://www.w3.org/2000/svg\" height=\"24px\"viewBox=\"0 0 24 24\"\n",
              "       width=\"24px\">\n",
              "    <path d=\"M0 0h24v24H0V0z\" fill=\"none\"/>\n",
              "    <path d=\"M18.56 5.44l.94 2.06.94-2.06 2.06-.94-2.06-.94-.94-2.06-.94 2.06-2.06.94zm-11 1L8.5 8.5l.94-2.06 2.06-.94-2.06-.94L8.5 2.5l-.94 2.06-2.06.94zm10 10l.94 2.06.94-2.06 2.06-.94-2.06-.94-.94-2.06-.94 2.06-2.06.94z\"/><path d=\"M17.41 7.96l-1.37-1.37c-.4-.4-.92-.59-1.43-.59-.52 0-1.04.2-1.43.59L10.3 9.45l-7.72 7.72c-.78.78-.78 2.05 0 2.83L4 21.41c.39.39.9.59 1.41.59.51 0 1.02-.2 1.41-.59l7.78-7.78 2.81-2.81c.8-.78.8-2.07 0-2.86zM5.41 20L4 18.59l7.72-7.72 1.47 1.35L5.41 20z\"/>\n",
              "  </svg>\n",
              "      </button>\n",
              "      \n",
              "  <style>\n",
              "    .colab-df-container {\n",
              "      display:flex;\n",
              "      flex-wrap:wrap;\n",
              "      gap: 12px;\n",
              "    }\n",
              "\n",
              "    .colab-df-convert {\n",
              "      background-color: #E8F0FE;\n",
              "      border: none;\n",
              "      border-radius: 50%;\n",
              "      cursor: pointer;\n",
              "      display: none;\n",
              "      fill: #1967D2;\n",
              "      height: 32px;\n",
              "      padding: 0 0 0 0;\n",
              "      width: 32px;\n",
              "    }\n",
              "\n",
              "    .colab-df-convert:hover {\n",
              "      background-color: #E2EBFA;\n",
              "      box-shadow: 0px 1px 2px rgba(60, 64, 67, 0.3), 0px 1px 3px 1px rgba(60, 64, 67, 0.15);\n",
              "      fill: #174EA6;\n",
              "    }\n",
              "\n",
              "    [theme=dark] .colab-df-convert {\n",
              "      background-color: #3B4455;\n",
              "      fill: #D2E3FC;\n",
              "    }\n",
              "\n",
              "    [theme=dark] .colab-df-convert:hover {\n",
              "      background-color: #434B5C;\n",
              "      box-shadow: 0px 1px 3px 1px rgba(0, 0, 0, 0.15);\n",
              "      filter: drop-shadow(0px 1px 2px rgba(0, 0, 0, 0.3));\n",
              "      fill: #FFFFFF;\n",
              "    }\n",
              "  </style>\n",
              "\n",
              "      <script>\n",
              "        const buttonEl =\n",
              "          document.querySelector('#df-3b11373a-d131-45a2-a499-c83ec027bd7b button.colab-df-convert');\n",
              "        buttonEl.style.display =\n",
              "          google.colab.kernel.accessAllowed ? 'block' : 'none';\n",
              "\n",
              "        async function convertToInteractive(key) {\n",
              "          const element = document.querySelector('#df-3b11373a-d131-45a2-a499-c83ec027bd7b');\n",
              "          const dataTable =\n",
              "            await google.colab.kernel.invokeFunction('convertToInteractive',\n",
              "                                                     [key], {});\n",
              "          if (!dataTable) return;\n",
              "\n",
              "          const docLinkHtml = 'Like what you see? Visit the ' +\n",
              "            '<a target=\"_blank\" href=https://colab.research.google.com/notebooks/data_table.ipynb>data table notebook</a>'\n",
              "            + ' to learn more about interactive tables.';\n",
              "          element.innerHTML = '';\n",
              "          dataTable['output_type'] = 'display_data';\n",
              "          await google.colab.output.renderOutput(dataTable, element);\n",
              "          const docLink = document.createElement('div');\n",
              "          docLink.innerHTML = docLinkHtml;\n",
              "          element.appendChild(docLink);\n",
              "        }\n",
              "      </script>\n",
              "    </div>\n",
              "  </div>\n",
              "  "
            ]
          },
          "metadata": {},
          "execution_count": 15
        }
      ]
    },
    {
      "cell_type": "code",
      "source": [
        "# df.to_csv()로 csv 파일로 저장하기\n",
        "df.to_csv('transfermarkt25.csv', index=False)"
      ],
      "metadata": {
        "id": "fo5X6Nn_UXf6"
      },
      "execution_count": 17,
      "outputs": []
    },
    {
      "cell_type": "markdown",
      "source": [
        "# 실전 (2) : 여러 페이지 크롤링하기\n",
        "- 첫번째 페이지 ~ 두번째 페이지 총 50명 정보"
      ],
      "metadata": {
        "id": "9qHv5gfZgiCV"
      }
    },
    {
      "cell_type": "code",
      "source": [
        "import requests\n",
        "from bs4 import BeautifulSoup\n",
        "import pandas as pd\n",
        "import time\n",
        "\n",
        "headers = {'User-Agent': 'Mozilla/5.0 (Windows NT 10.0; Win64; x64) AppleWebKit/537.36 (KHTML, like Gecko) Chrome/104.0.0.0 Safari/537.36'}\n",
        "\n",
        "rank = []\n",
        "name = []\n",
        "position = []\n",
        "age = []\n",
        "nation = []\n",
        "team = []\n",
        "value = []\n",
        "\n",
        "for i in range(1, 3):\n",
        "    url = f\"https://www.transfermarkt.com/spieler-statistik/wertvollstespieler/marktwertetop?ajax=yw1&page={i}\"\n",
        "\n",
        "    r = requests.get(url, headers=headers)\n",
        "    r.status_code\n",
        "\n",
        "    soup = BeautifulSoup(r.content, 'html.parser')  # r.text도 가능\n",
        "    player_lst = soup.find_all('tr', {'class':['odd', 'even']})\n",
        "\n",
        "  \n",
        "    for p in player_lst:\n",
        "      # rank\n",
        "      td_player = p.find_all('td')\n",
        "      rank.append(td_player[0].text)\n",
        "\n",
        "      # name\n",
        "      a_player = p.find('a')\n",
        "      name.append(a_player.img['title'])\n",
        "\n",
        "      # position\n",
        "      tr_player = p.find_all('tr')\n",
        "      position.append(tr_player[1].text)\n",
        "\n",
        "      # age\n",
        "      age.append(td_player[5].text)\n",
        "\n",
        "      # nation\n",
        "      nation.append(td_player[6].img['alt'])\n",
        "\n",
        "      # team\n",
        "      team.append(td_player[7].img['title'])\n",
        "\n",
        "      # value\n",
        "      value.append(td_player[8].text)\n",
        "      \n",
        "    time.sleep(1)\n",
        "\n",
        "# pd.DataFrame()으로 저장하기\n",
        "df = pd.DataFrame(\n",
        "    {\n",
        "        \"rank\" : rank,\n",
        "        \"name\" : name,\n",
        "        \"position\" : position,\n",
        "        \"age\" : age,\n",
        "        \"nation\" : nation,\n",
        "        \"team\" : team,\n",
        "        \"value\" : value\n",
        "    }\n",
        "\n",
        ")"
      ],
      "metadata": {
        "id": "kypPBjPYU3-9"
      },
      "execution_count": 20,
      "outputs": []
    },
    {
      "cell_type": "code",
      "source": [
        "df"
      ],
      "metadata": {
        "colab": {
          "base_uri": "https://localhost:8080/",
          "height": 1000
        },
        "id": "Nd2ExgMFd5zl",
        "outputId": "551525b5-2414-48b0-ecc0-787228ace5ab"
      },
      "execution_count": 21,
      "outputs": [
        {
          "output_type": "execute_result",
          "data": {
            "text/plain": [
              "   rank                     name            position age        nation  \\\n",
              "0     1            Kylian Mbappé      Centre-Forward  23        France   \n",
              "1     2           Erling Haaland      Centre-Forward  22        Norway   \n",
              "2     3          Vinicius Junior         Left Winger  22        Brazil   \n",
              "3     4               Phil Foden    Central Midfield  22       England   \n",
              "4     5            Mohamed Salah        Right Winger  30         Egypt   \n",
              "5     6               Harry Kane      Centre-Forward  29       England   \n",
              "6     7           Dušan Vlahović      Centre-Forward  22        Serbia   \n",
              "7     8          Bruno Fernandes  Attacking Midfield  27      Portugal   \n",
              "8     9          Kevin De Bruyne  Attacking Midfield  31       Belgium   \n",
              "9    10                    Pedri    Central Midfield  19         Spain   \n",
              "10   11          Jude Bellingham    Central Midfield  19       England   \n",
              "11   12              Declan Rice  Defensive Midfield  23       England   \n",
              "12   13                    Rodri  Defensive Midfield  26         Spain   \n",
              "13   14       Christopher Nkunku      Second Striker  24        France   \n",
              "14   15   Trent Alexander-Arnold          Right-Back  23       England   \n",
              "15   16           Bernardo Silva  Attacking Midfield  28      Portugal   \n",
              "16   17           Joshua Kimmich  Defensive Midfield  27       Germany   \n",
              "17   18         Lautaro Martínez      Centre-Forward  25     Argentina   \n",
              "18   19             Jadon Sancho         Left Winger  22       England   \n",
              "19   20              Mason Mount  Attacking Midfield  23       England   \n",
              "20   21               Rúben Dias         Centre-Back  25      Portugal   \n",
              "21   22            Heung-min Son         Left Winger  30  Korea, South   \n",
              "22   23                   Neymar         Left Winger  30        Brazil   \n",
              "23   24            Florian Wirtz  Attacking Midfield  19       Germany   \n",
              "24   25               João Félix      Second Striker  22      Portugal   \n",
              "25   26          Alphonso Davies           Left-Back  21        Canada   \n",
              "26   27        Federico Valverde    Central Midfield  24       Uruguay   \n",
              "27   28              Rafael Leão         Left Winger  23      Portugal   \n",
              "28   29         Matthijs de Ligt         Centre-Back  23   Netherlands   \n",
              "29   30              Kai Havertz  Attacking Midfield  23       Germany   \n",
              "30   31  Sergej Milinković-Savić    Central Midfield  27        Serbia   \n",
              "31   32           Nicolò Barella    Central Midfield  25         Italy   \n",
              "32   33            Jack Grealish         Left Winger  26       England   \n",
              "33   34               Sadio Mané         Left Winger  30       Senegal   \n",
              "34   35               Marquinhos         Centre-Back  28        Brazil   \n",
              "35   36          Raheem Sterling         Left Winger  27       England   \n",
              "36   37            Romelu Lukaku      Centre-Forward  29       Belgium   \n",
              "37   38            Jamal Musiala  Attacking Midfield  19       Germany   \n",
              "38   39                Luis Díaz         Left Winger  25      Colombia   \n",
              "39   40              Bukayo Saka      Right Midfield  20       England   \n",
              "40   41           Victor Osimhen      Centre-Forward  23       Nigeria   \n",
              "41   42            Achraf Hakimi          Right-Back  23       Morocco   \n",
              "42   43          Federico Chiesa        Right Winger  24         Italy   \n",
              "43   44         Andrew Robertson           Left-Back  28      Scotland   \n",
              "44   45           Milan Skriniar         Centre-Back  27      Slovakia   \n",
              "45   46             João Cancelo          Right-Back  28      Portugal   \n",
              "46   47             Serge Gnabry        Right Winger  27       Germany   \n",
              "47   48            Leon Goretzka    Central Midfield  27       Germany   \n",
              "48   49                     Gavi    Central Midfield  18         Spain   \n",
              "49   50              Reece James          Right-Back  22       England   \n",
              "\n",
              "                   team      value  \n",
              "0   Paris Saint-Germain  €160.00m   \n",
              "1       Manchester City  €150.00m   \n",
              "2           Real Madrid  €100.00m   \n",
              "3       Manchester City   €90.00m   \n",
              "4          Liverpool FC   €90.00m   \n",
              "5     Tottenham Hotspur   €90.00m   \n",
              "6           Juventus FC   €85.00m   \n",
              "7     Manchester United   €85.00m   \n",
              "8       Manchester City   €85.00m   \n",
              "9          FC Barcelona   €80.00m   \n",
              "10    Borussia Dortmund   €80.00m   \n",
              "11      West Ham United   €80.00m   \n",
              "12      Manchester City   €80.00m   \n",
              "13           RB Leipzig   €80.00m   \n",
              "14         Liverpool FC   €80.00m   \n",
              "15      Manchester City   €80.00m   \n",
              "16        Bayern Munich   €80.00m   \n",
              "17          Inter Milan   €75.00m   \n",
              "18    Manchester United   €75.00m   \n",
              "19           Chelsea FC   €75.00m   \n",
              "20      Manchester City   €75.00m   \n",
              "21    Tottenham Hotspur   €75.00m   \n",
              "22  Paris Saint-Germain   €75.00m   \n",
              "23  Bayer 04 Leverkusen   €70.00m   \n",
              "24   Atlético de Madrid   €70.00m   \n",
              "25        Bayern Munich   €70.00m   \n",
              "26          Real Madrid   €70.00m   \n",
              "27             AC Milan   €70.00m   \n",
              "28        Bayern Munich   €70.00m   \n",
              "29           Chelsea FC   €70.00m   \n",
              "30             SS Lazio   €70.00m   \n",
              "31          Inter Milan   €70.00m   \n",
              "32      Manchester City   €70.00m   \n",
              "33        Bayern Munich   €70.00m   \n",
              "34  Paris Saint-Germain   €70.00m   \n",
              "35           Chelsea FC   €70.00m   \n",
              "36          Inter Milan   €70.00m   \n",
              "37        Bayern Munich   €65.00m   \n",
              "38         Liverpool FC   €65.00m   \n",
              "39           Arsenal FC   €65.00m   \n",
              "40           SSC Napoli   €65.00m   \n",
              "41  Paris Saint-Germain   €65.00m   \n",
              "42          Juventus FC   €65.00m   \n",
              "43         Liverpool FC   €65.00m   \n",
              "44          Inter Milan   €65.00m   \n",
              "45      Manchester City   €65.00m   \n",
              "46        Bayern Munich   €65.00m   \n",
              "47        Bayern Munich   €65.00m   \n",
              "48         FC Barcelona   €60.00m   \n",
              "49           Chelsea FC   €60.00m   "
            ],
            "text/html": [
              "\n",
              "  <div id=\"df-683b8640-aa05-4f92-bb3b-cd7ff7bb7429\">\n",
              "    <div class=\"colab-df-container\">\n",
              "      <div>\n",
              "<style scoped>\n",
              "    .dataframe tbody tr th:only-of-type {\n",
              "        vertical-align: middle;\n",
              "    }\n",
              "\n",
              "    .dataframe tbody tr th {\n",
              "        vertical-align: top;\n",
              "    }\n",
              "\n",
              "    .dataframe thead th {\n",
              "        text-align: right;\n",
              "    }\n",
              "</style>\n",
              "<table border=\"1\" class=\"dataframe\">\n",
              "  <thead>\n",
              "    <tr style=\"text-align: right;\">\n",
              "      <th></th>\n",
              "      <th>rank</th>\n",
              "      <th>name</th>\n",
              "      <th>position</th>\n",
              "      <th>age</th>\n",
              "      <th>nation</th>\n",
              "      <th>team</th>\n",
              "      <th>value</th>\n",
              "    </tr>\n",
              "  </thead>\n",
              "  <tbody>\n",
              "    <tr>\n",
              "      <th>0</th>\n",
              "      <td>1</td>\n",
              "      <td>Kylian Mbappé</td>\n",
              "      <td>Centre-Forward</td>\n",
              "      <td>23</td>\n",
              "      <td>France</td>\n",
              "      <td>Paris Saint-Germain</td>\n",
              "      <td>€160.00m</td>\n",
              "    </tr>\n",
              "    <tr>\n",
              "      <th>1</th>\n",
              "      <td>2</td>\n",
              "      <td>Erling Haaland</td>\n",
              "      <td>Centre-Forward</td>\n",
              "      <td>22</td>\n",
              "      <td>Norway</td>\n",
              "      <td>Manchester City</td>\n",
              "      <td>€150.00m</td>\n",
              "    </tr>\n",
              "    <tr>\n",
              "      <th>2</th>\n",
              "      <td>3</td>\n",
              "      <td>Vinicius Junior</td>\n",
              "      <td>Left Winger</td>\n",
              "      <td>22</td>\n",
              "      <td>Brazil</td>\n",
              "      <td>Real Madrid</td>\n",
              "      <td>€100.00m</td>\n",
              "    </tr>\n",
              "    <tr>\n",
              "      <th>3</th>\n",
              "      <td>4</td>\n",
              "      <td>Phil Foden</td>\n",
              "      <td>Central Midfield</td>\n",
              "      <td>22</td>\n",
              "      <td>England</td>\n",
              "      <td>Manchester City</td>\n",
              "      <td>€90.00m</td>\n",
              "    </tr>\n",
              "    <tr>\n",
              "      <th>4</th>\n",
              "      <td>5</td>\n",
              "      <td>Mohamed Salah</td>\n",
              "      <td>Right Winger</td>\n",
              "      <td>30</td>\n",
              "      <td>Egypt</td>\n",
              "      <td>Liverpool FC</td>\n",
              "      <td>€90.00m</td>\n",
              "    </tr>\n",
              "    <tr>\n",
              "      <th>5</th>\n",
              "      <td>6</td>\n",
              "      <td>Harry Kane</td>\n",
              "      <td>Centre-Forward</td>\n",
              "      <td>29</td>\n",
              "      <td>England</td>\n",
              "      <td>Tottenham Hotspur</td>\n",
              "      <td>€90.00m</td>\n",
              "    </tr>\n",
              "    <tr>\n",
              "      <th>6</th>\n",
              "      <td>7</td>\n",
              "      <td>Dušan Vlahović</td>\n",
              "      <td>Centre-Forward</td>\n",
              "      <td>22</td>\n",
              "      <td>Serbia</td>\n",
              "      <td>Juventus FC</td>\n",
              "      <td>€85.00m</td>\n",
              "    </tr>\n",
              "    <tr>\n",
              "      <th>7</th>\n",
              "      <td>8</td>\n",
              "      <td>Bruno Fernandes</td>\n",
              "      <td>Attacking Midfield</td>\n",
              "      <td>27</td>\n",
              "      <td>Portugal</td>\n",
              "      <td>Manchester United</td>\n",
              "      <td>€85.00m</td>\n",
              "    </tr>\n",
              "    <tr>\n",
              "      <th>8</th>\n",
              "      <td>9</td>\n",
              "      <td>Kevin De Bruyne</td>\n",
              "      <td>Attacking Midfield</td>\n",
              "      <td>31</td>\n",
              "      <td>Belgium</td>\n",
              "      <td>Manchester City</td>\n",
              "      <td>€85.00m</td>\n",
              "    </tr>\n",
              "    <tr>\n",
              "      <th>9</th>\n",
              "      <td>10</td>\n",
              "      <td>Pedri</td>\n",
              "      <td>Central Midfield</td>\n",
              "      <td>19</td>\n",
              "      <td>Spain</td>\n",
              "      <td>FC Barcelona</td>\n",
              "      <td>€80.00m</td>\n",
              "    </tr>\n",
              "    <tr>\n",
              "      <th>10</th>\n",
              "      <td>11</td>\n",
              "      <td>Jude Bellingham</td>\n",
              "      <td>Central Midfield</td>\n",
              "      <td>19</td>\n",
              "      <td>England</td>\n",
              "      <td>Borussia Dortmund</td>\n",
              "      <td>€80.00m</td>\n",
              "    </tr>\n",
              "    <tr>\n",
              "      <th>11</th>\n",
              "      <td>12</td>\n",
              "      <td>Declan Rice</td>\n",
              "      <td>Defensive Midfield</td>\n",
              "      <td>23</td>\n",
              "      <td>England</td>\n",
              "      <td>West Ham United</td>\n",
              "      <td>€80.00m</td>\n",
              "    </tr>\n",
              "    <tr>\n",
              "      <th>12</th>\n",
              "      <td>13</td>\n",
              "      <td>Rodri</td>\n",
              "      <td>Defensive Midfield</td>\n",
              "      <td>26</td>\n",
              "      <td>Spain</td>\n",
              "      <td>Manchester City</td>\n",
              "      <td>€80.00m</td>\n",
              "    </tr>\n",
              "    <tr>\n",
              "      <th>13</th>\n",
              "      <td>14</td>\n",
              "      <td>Christopher Nkunku</td>\n",
              "      <td>Second Striker</td>\n",
              "      <td>24</td>\n",
              "      <td>France</td>\n",
              "      <td>RB Leipzig</td>\n",
              "      <td>€80.00m</td>\n",
              "    </tr>\n",
              "    <tr>\n",
              "      <th>14</th>\n",
              "      <td>15</td>\n",
              "      <td>Trent Alexander-Arnold</td>\n",
              "      <td>Right-Back</td>\n",
              "      <td>23</td>\n",
              "      <td>England</td>\n",
              "      <td>Liverpool FC</td>\n",
              "      <td>€80.00m</td>\n",
              "    </tr>\n",
              "    <tr>\n",
              "      <th>15</th>\n",
              "      <td>16</td>\n",
              "      <td>Bernardo Silva</td>\n",
              "      <td>Attacking Midfield</td>\n",
              "      <td>28</td>\n",
              "      <td>Portugal</td>\n",
              "      <td>Manchester City</td>\n",
              "      <td>€80.00m</td>\n",
              "    </tr>\n",
              "    <tr>\n",
              "      <th>16</th>\n",
              "      <td>17</td>\n",
              "      <td>Joshua Kimmich</td>\n",
              "      <td>Defensive Midfield</td>\n",
              "      <td>27</td>\n",
              "      <td>Germany</td>\n",
              "      <td>Bayern Munich</td>\n",
              "      <td>€80.00m</td>\n",
              "    </tr>\n",
              "    <tr>\n",
              "      <th>17</th>\n",
              "      <td>18</td>\n",
              "      <td>Lautaro Martínez</td>\n",
              "      <td>Centre-Forward</td>\n",
              "      <td>25</td>\n",
              "      <td>Argentina</td>\n",
              "      <td>Inter Milan</td>\n",
              "      <td>€75.00m</td>\n",
              "    </tr>\n",
              "    <tr>\n",
              "      <th>18</th>\n",
              "      <td>19</td>\n",
              "      <td>Jadon Sancho</td>\n",
              "      <td>Left Winger</td>\n",
              "      <td>22</td>\n",
              "      <td>England</td>\n",
              "      <td>Manchester United</td>\n",
              "      <td>€75.00m</td>\n",
              "    </tr>\n",
              "    <tr>\n",
              "      <th>19</th>\n",
              "      <td>20</td>\n",
              "      <td>Mason Mount</td>\n",
              "      <td>Attacking Midfield</td>\n",
              "      <td>23</td>\n",
              "      <td>England</td>\n",
              "      <td>Chelsea FC</td>\n",
              "      <td>€75.00m</td>\n",
              "    </tr>\n",
              "    <tr>\n",
              "      <th>20</th>\n",
              "      <td>21</td>\n",
              "      <td>Rúben Dias</td>\n",
              "      <td>Centre-Back</td>\n",
              "      <td>25</td>\n",
              "      <td>Portugal</td>\n",
              "      <td>Manchester City</td>\n",
              "      <td>€75.00m</td>\n",
              "    </tr>\n",
              "    <tr>\n",
              "      <th>21</th>\n",
              "      <td>22</td>\n",
              "      <td>Heung-min Son</td>\n",
              "      <td>Left Winger</td>\n",
              "      <td>30</td>\n",
              "      <td>Korea, South</td>\n",
              "      <td>Tottenham Hotspur</td>\n",
              "      <td>€75.00m</td>\n",
              "    </tr>\n",
              "    <tr>\n",
              "      <th>22</th>\n",
              "      <td>23</td>\n",
              "      <td>Neymar</td>\n",
              "      <td>Left Winger</td>\n",
              "      <td>30</td>\n",
              "      <td>Brazil</td>\n",
              "      <td>Paris Saint-Germain</td>\n",
              "      <td>€75.00m</td>\n",
              "    </tr>\n",
              "    <tr>\n",
              "      <th>23</th>\n",
              "      <td>24</td>\n",
              "      <td>Florian Wirtz</td>\n",
              "      <td>Attacking Midfield</td>\n",
              "      <td>19</td>\n",
              "      <td>Germany</td>\n",
              "      <td>Bayer 04 Leverkusen</td>\n",
              "      <td>€70.00m</td>\n",
              "    </tr>\n",
              "    <tr>\n",
              "      <th>24</th>\n",
              "      <td>25</td>\n",
              "      <td>João Félix</td>\n",
              "      <td>Second Striker</td>\n",
              "      <td>22</td>\n",
              "      <td>Portugal</td>\n",
              "      <td>Atlético de Madrid</td>\n",
              "      <td>€70.00m</td>\n",
              "    </tr>\n",
              "    <tr>\n",
              "      <th>25</th>\n",
              "      <td>26</td>\n",
              "      <td>Alphonso Davies</td>\n",
              "      <td>Left-Back</td>\n",
              "      <td>21</td>\n",
              "      <td>Canada</td>\n",
              "      <td>Bayern Munich</td>\n",
              "      <td>€70.00m</td>\n",
              "    </tr>\n",
              "    <tr>\n",
              "      <th>26</th>\n",
              "      <td>27</td>\n",
              "      <td>Federico Valverde</td>\n",
              "      <td>Central Midfield</td>\n",
              "      <td>24</td>\n",
              "      <td>Uruguay</td>\n",
              "      <td>Real Madrid</td>\n",
              "      <td>€70.00m</td>\n",
              "    </tr>\n",
              "    <tr>\n",
              "      <th>27</th>\n",
              "      <td>28</td>\n",
              "      <td>Rafael Leão</td>\n",
              "      <td>Left Winger</td>\n",
              "      <td>23</td>\n",
              "      <td>Portugal</td>\n",
              "      <td>AC Milan</td>\n",
              "      <td>€70.00m</td>\n",
              "    </tr>\n",
              "    <tr>\n",
              "      <th>28</th>\n",
              "      <td>29</td>\n",
              "      <td>Matthijs de Ligt</td>\n",
              "      <td>Centre-Back</td>\n",
              "      <td>23</td>\n",
              "      <td>Netherlands</td>\n",
              "      <td>Bayern Munich</td>\n",
              "      <td>€70.00m</td>\n",
              "    </tr>\n",
              "    <tr>\n",
              "      <th>29</th>\n",
              "      <td>30</td>\n",
              "      <td>Kai Havertz</td>\n",
              "      <td>Attacking Midfield</td>\n",
              "      <td>23</td>\n",
              "      <td>Germany</td>\n",
              "      <td>Chelsea FC</td>\n",
              "      <td>€70.00m</td>\n",
              "    </tr>\n",
              "    <tr>\n",
              "      <th>30</th>\n",
              "      <td>31</td>\n",
              "      <td>Sergej Milinković-Savić</td>\n",
              "      <td>Central Midfield</td>\n",
              "      <td>27</td>\n",
              "      <td>Serbia</td>\n",
              "      <td>SS Lazio</td>\n",
              "      <td>€70.00m</td>\n",
              "    </tr>\n",
              "    <tr>\n",
              "      <th>31</th>\n",
              "      <td>32</td>\n",
              "      <td>Nicolò Barella</td>\n",
              "      <td>Central Midfield</td>\n",
              "      <td>25</td>\n",
              "      <td>Italy</td>\n",
              "      <td>Inter Milan</td>\n",
              "      <td>€70.00m</td>\n",
              "    </tr>\n",
              "    <tr>\n",
              "      <th>32</th>\n",
              "      <td>33</td>\n",
              "      <td>Jack Grealish</td>\n",
              "      <td>Left Winger</td>\n",
              "      <td>26</td>\n",
              "      <td>England</td>\n",
              "      <td>Manchester City</td>\n",
              "      <td>€70.00m</td>\n",
              "    </tr>\n",
              "    <tr>\n",
              "      <th>33</th>\n",
              "      <td>34</td>\n",
              "      <td>Sadio Mané</td>\n",
              "      <td>Left Winger</td>\n",
              "      <td>30</td>\n",
              "      <td>Senegal</td>\n",
              "      <td>Bayern Munich</td>\n",
              "      <td>€70.00m</td>\n",
              "    </tr>\n",
              "    <tr>\n",
              "      <th>34</th>\n",
              "      <td>35</td>\n",
              "      <td>Marquinhos</td>\n",
              "      <td>Centre-Back</td>\n",
              "      <td>28</td>\n",
              "      <td>Brazil</td>\n",
              "      <td>Paris Saint-Germain</td>\n",
              "      <td>€70.00m</td>\n",
              "    </tr>\n",
              "    <tr>\n",
              "      <th>35</th>\n",
              "      <td>36</td>\n",
              "      <td>Raheem Sterling</td>\n",
              "      <td>Left Winger</td>\n",
              "      <td>27</td>\n",
              "      <td>England</td>\n",
              "      <td>Chelsea FC</td>\n",
              "      <td>€70.00m</td>\n",
              "    </tr>\n",
              "    <tr>\n",
              "      <th>36</th>\n",
              "      <td>37</td>\n",
              "      <td>Romelu Lukaku</td>\n",
              "      <td>Centre-Forward</td>\n",
              "      <td>29</td>\n",
              "      <td>Belgium</td>\n",
              "      <td>Inter Milan</td>\n",
              "      <td>€70.00m</td>\n",
              "    </tr>\n",
              "    <tr>\n",
              "      <th>37</th>\n",
              "      <td>38</td>\n",
              "      <td>Jamal Musiala</td>\n",
              "      <td>Attacking Midfield</td>\n",
              "      <td>19</td>\n",
              "      <td>Germany</td>\n",
              "      <td>Bayern Munich</td>\n",
              "      <td>€65.00m</td>\n",
              "    </tr>\n",
              "    <tr>\n",
              "      <th>38</th>\n",
              "      <td>39</td>\n",
              "      <td>Luis Díaz</td>\n",
              "      <td>Left Winger</td>\n",
              "      <td>25</td>\n",
              "      <td>Colombia</td>\n",
              "      <td>Liverpool FC</td>\n",
              "      <td>€65.00m</td>\n",
              "    </tr>\n",
              "    <tr>\n",
              "      <th>39</th>\n",
              "      <td>40</td>\n",
              "      <td>Bukayo Saka</td>\n",
              "      <td>Right Midfield</td>\n",
              "      <td>20</td>\n",
              "      <td>England</td>\n",
              "      <td>Arsenal FC</td>\n",
              "      <td>€65.00m</td>\n",
              "    </tr>\n",
              "    <tr>\n",
              "      <th>40</th>\n",
              "      <td>41</td>\n",
              "      <td>Victor Osimhen</td>\n",
              "      <td>Centre-Forward</td>\n",
              "      <td>23</td>\n",
              "      <td>Nigeria</td>\n",
              "      <td>SSC Napoli</td>\n",
              "      <td>€65.00m</td>\n",
              "    </tr>\n",
              "    <tr>\n",
              "      <th>41</th>\n",
              "      <td>42</td>\n",
              "      <td>Achraf Hakimi</td>\n",
              "      <td>Right-Back</td>\n",
              "      <td>23</td>\n",
              "      <td>Morocco</td>\n",
              "      <td>Paris Saint-Germain</td>\n",
              "      <td>€65.00m</td>\n",
              "    </tr>\n",
              "    <tr>\n",
              "      <th>42</th>\n",
              "      <td>43</td>\n",
              "      <td>Federico Chiesa</td>\n",
              "      <td>Right Winger</td>\n",
              "      <td>24</td>\n",
              "      <td>Italy</td>\n",
              "      <td>Juventus FC</td>\n",
              "      <td>€65.00m</td>\n",
              "    </tr>\n",
              "    <tr>\n",
              "      <th>43</th>\n",
              "      <td>44</td>\n",
              "      <td>Andrew Robertson</td>\n",
              "      <td>Left-Back</td>\n",
              "      <td>28</td>\n",
              "      <td>Scotland</td>\n",
              "      <td>Liverpool FC</td>\n",
              "      <td>€65.00m</td>\n",
              "    </tr>\n",
              "    <tr>\n",
              "      <th>44</th>\n",
              "      <td>45</td>\n",
              "      <td>Milan Skriniar</td>\n",
              "      <td>Centre-Back</td>\n",
              "      <td>27</td>\n",
              "      <td>Slovakia</td>\n",
              "      <td>Inter Milan</td>\n",
              "      <td>€65.00m</td>\n",
              "    </tr>\n",
              "    <tr>\n",
              "      <th>45</th>\n",
              "      <td>46</td>\n",
              "      <td>João Cancelo</td>\n",
              "      <td>Right-Back</td>\n",
              "      <td>28</td>\n",
              "      <td>Portugal</td>\n",
              "      <td>Manchester City</td>\n",
              "      <td>€65.00m</td>\n",
              "    </tr>\n",
              "    <tr>\n",
              "      <th>46</th>\n",
              "      <td>47</td>\n",
              "      <td>Serge Gnabry</td>\n",
              "      <td>Right Winger</td>\n",
              "      <td>27</td>\n",
              "      <td>Germany</td>\n",
              "      <td>Bayern Munich</td>\n",
              "      <td>€65.00m</td>\n",
              "    </tr>\n",
              "    <tr>\n",
              "      <th>47</th>\n",
              "      <td>48</td>\n",
              "      <td>Leon Goretzka</td>\n",
              "      <td>Central Midfield</td>\n",
              "      <td>27</td>\n",
              "      <td>Germany</td>\n",
              "      <td>Bayern Munich</td>\n",
              "      <td>€65.00m</td>\n",
              "    </tr>\n",
              "    <tr>\n",
              "      <th>48</th>\n",
              "      <td>49</td>\n",
              "      <td>Gavi</td>\n",
              "      <td>Central Midfield</td>\n",
              "      <td>18</td>\n",
              "      <td>Spain</td>\n",
              "      <td>FC Barcelona</td>\n",
              "      <td>€60.00m</td>\n",
              "    </tr>\n",
              "    <tr>\n",
              "      <th>49</th>\n",
              "      <td>50</td>\n",
              "      <td>Reece James</td>\n",
              "      <td>Right-Back</td>\n",
              "      <td>22</td>\n",
              "      <td>England</td>\n",
              "      <td>Chelsea FC</td>\n",
              "      <td>€60.00m</td>\n",
              "    </tr>\n",
              "  </tbody>\n",
              "</table>\n",
              "</div>\n",
              "      <button class=\"colab-df-convert\" onclick=\"convertToInteractive('df-683b8640-aa05-4f92-bb3b-cd7ff7bb7429')\"\n",
              "              title=\"Convert this dataframe to an interactive table.\"\n",
              "              style=\"display:none;\">\n",
              "        \n",
              "  <svg xmlns=\"http://www.w3.org/2000/svg\" height=\"24px\"viewBox=\"0 0 24 24\"\n",
              "       width=\"24px\">\n",
              "    <path d=\"M0 0h24v24H0V0z\" fill=\"none\"/>\n",
              "    <path d=\"M18.56 5.44l.94 2.06.94-2.06 2.06-.94-2.06-.94-.94-2.06-.94 2.06-2.06.94zm-11 1L8.5 8.5l.94-2.06 2.06-.94-2.06-.94L8.5 2.5l-.94 2.06-2.06.94zm10 10l.94 2.06.94-2.06 2.06-.94-2.06-.94-.94-2.06-.94 2.06-2.06.94z\"/><path d=\"M17.41 7.96l-1.37-1.37c-.4-.4-.92-.59-1.43-.59-.52 0-1.04.2-1.43.59L10.3 9.45l-7.72 7.72c-.78.78-.78 2.05 0 2.83L4 21.41c.39.39.9.59 1.41.59.51 0 1.02-.2 1.41-.59l7.78-7.78 2.81-2.81c.8-.78.8-2.07 0-2.86zM5.41 20L4 18.59l7.72-7.72 1.47 1.35L5.41 20z\"/>\n",
              "  </svg>\n",
              "      </button>\n",
              "      \n",
              "  <style>\n",
              "    .colab-df-container {\n",
              "      display:flex;\n",
              "      flex-wrap:wrap;\n",
              "      gap: 12px;\n",
              "    }\n",
              "\n",
              "    .colab-df-convert {\n",
              "      background-color: #E8F0FE;\n",
              "      border: none;\n",
              "      border-radius: 50%;\n",
              "      cursor: pointer;\n",
              "      display: none;\n",
              "      fill: #1967D2;\n",
              "      height: 32px;\n",
              "      padding: 0 0 0 0;\n",
              "      width: 32px;\n",
              "    }\n",
              "\n",
              "    .colab-df-convert:hover {\n",
              "      background-color: #E2EBFA;\n",
              "      box-shadow: 0px 1px 2px rgba(60, 64, 67, 0.3), 0px 1px 3px 1px rgba(60, 64, 67, 0.15);\n",
              "      fill: #174EA6;\n",
              "    }\n",
              "\n",
              "    [theme=dark] .colab-df-convert {\n",
              "      background-color: #3B4455;\n",
              "      fill: #D2E3FC;\n",
              "    }\n",
              "\n",
              "    [theme=dark] .colab-df-convert:hover {\n",
              "      background-color: #434B5C;\n",
              "      box-shadow: 0px 1px 3px 1px rgba(0, 0, 0, 0.15);\n",
              "      filter: drop-shadow(0px 1px 2px rgba(0, 0, 0, 0.3));\n",
              "      fill: #FFFFFF;\n",
              "    }\n",
              "  </style>\n",
              "\n",
              "      <script>\n",
              "        const buttonEl =\n",
              "          document.querySelector('#df-683b8640-aa05-4f92-bb3b-cd7ff7bb7429 button.colab-df-convert');\n",
              "        buttonEl.style.display =\n",
              "          google.colab.kernel.accessAllowed ? 'block' : 'none';\n",
              "\n",
              "        async function convertToInteractive(key) {\n",
              "          const element = document.querySelector('#df-683b8640-aa05-4f92-bb3b-cd7ff7bb7429');\n",
              "          const dataTable =\n",
              "            await google.colab.kernel.invokeFunction('convertToInteractive',\n",
              "                                                     [key], {});\n",
              "          if (!dataTable) return;\n",
              "\n",
              "          const docLinkHtml = 'Like what you see? Visit the ' +\n",
              "            '<a target=\"_blank\" href=https://colab.research.google.com/notebooks/data_table.ipynb>data table notebook</a>'\n",
              "            + ' to learn more about interactive tables.';\n",
              "          element.innerHTML = '';\n",
              "          dataTable['output_type'] = 'display_data';\n",
              "          await google.colab.output.renderOutput(dataTable, element);\n",
              "          const docLink = document.createElement('div');\n",
              "          docLink.innerHTML = docLinkHtml;\n",
              "          element.appendChild(docLink);\n",
              "        }\n",
              "      </script>\n",
              "    </div>\n",
              "  </div>\n",
              "  "
            ]
          },
          "metadata": {},
          "execution_count": 21
        }
      ]
    },
    {
      "cell_type": "code",
      "source": [
        "df.to_csv('transmarkt50.csv')"
      ],
      "metadata": {
        "id": "tDFQKcNyfd7O"
      },
      "execution_count": 22,
      "outputs": []
    },
    {
      "cell_type": "code",
      "source": [],
      "metadata": {
        "id": "65CBK8Kzg2j8"
      },
      "execution_count": null,
      "outputs": []
    }
  ]
}