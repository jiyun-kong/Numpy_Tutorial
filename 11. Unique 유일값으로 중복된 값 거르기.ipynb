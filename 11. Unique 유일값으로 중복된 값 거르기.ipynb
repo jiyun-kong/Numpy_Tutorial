{
 "cells": [
  {
   "cell_type": "code",
   "execution_count": 1,
   "id": "0ca96b99",
   "metadata": {
    "ExecuteTime": {
     "end_time": "2022-05-15T01:27:28.575667Z",
     "start_time": "2022-05-15T01:27:26.937952Z"
    }
   },
   "outputs": [],
   "source": [
    "import numpy as np"
   ]
  },
  {
   "cell_type": "markdown",
   "id": "c039a695",
   "metadata": {
    "ExecuteTime": {
     "end_time": "2022-05-15T01:39:27.008292Z",
     "start_time": "2022-05-15T01:39:26.994546Z"
    }
   },
   "source": [
    "# 일차원 array"
   ]
  },
  {
   "cell_type": "code",
   "execution_count": 3,
   "id": "492d2172",
   "metadata": {
    "ExecuteTime": {
     "end_time": "2022-05-15T01:28:01.109413Z",
     "start_time": "2022-05-15T01:28:01.086438Z"
    }
   },
   "outputs": [
    {
     "data": {
      "text/plain": [
       "array([11, 11, 12, 13, 14, 15, 16, 17, 12, 13, 11, 14, 18, 19, 20])"
      ]
     },
     "execution_count": 3,
     "metadata": {},
     "output_type": "execute_result"
    }
   ],
   "source": [
    "a = np.array([11, 11, 12, 13, 14, 15, 16, 17, 12, 13, 11, 14, 18, 19, 20])\n",
    "a"
   ]
  },
  {
   "cell_type": "markdown",
   "id": "ae2153f3",
   "metadata": {
    "ExecuteTime": {
     "end_time": "2022-05-15T01:29:16.213941Z",
     "start_time": "2022-05-15T01:29:16.195495Z"
    }
   },
   "source": [
    "## 중복된 값 제거하기"
   ]
  },
  {
   "cell_type": "code",
   "execution_count": 5,
   "id": "f873e8e2",
   "metadata": {
    "ExecuteTime": {
     "end_time": "2022-05-15T01:28:51.236031Z",
     "start_time": "2022-05-15T01:28:51.221854Z"
    }
   },
   "outputs": [
    {
     "data": {
      "text/plain": [
       "array([11, 12, 13, 14, 15, 16, 17, 18, 19, 20])"
      ]
     },
     "execution_count": 5,
     "metadata": {},
     "output_type": "execute_result"
    }
   ],
   "source": [
    "unique_values = np.unique(a)\n",
    "unique_values"
   ]
  },
  {
   "cell_type": "markdown",
   "id": "3c18a851",
   "metadata": {
    "ExecuteTime": {
     "end_time": "2022-05-15T01:29:49.166478Z",
     "start_time": "2022-05-15T01:29:49.155157Z"
    }
   },
   "source": [
    "## 중복된 값 제거하고, 처음 등장하는 값의 인덱스 반환하기"
   ]
  },
  {
   "cell_type": "code",
   "execution_count": 9,
   "id": "cf42f963",
   "metadata": {
    "ExecuteTime": {
     "end_time": "2022-05-15T01:30:48.502935Z",
     "start_time": "2022-05-15T01:30:48.482501Z"
    }
   },
   "outputs": [
    {
     "name": "stdout",
     "output_type": "stream",
     "text": [
      "[ 0  2  3  4  5  6  7 12 13 14]\n"
     ]
    }
   ],
   "source": [
    "unique_values, indices_list = np.unique(a, return_index = True) # return_index=False, axis=False가 기본값\n",
    "print(indices_list)"
   ]
  },
  {
   "cell_type": "markdown",
   "id": "96da6031",
   "metadata": {
    "ExecuteTime": {
     "end_time": "2022-05-15T01:35:46.203175Z",
     "start_time": "2022-05-15T01:35:46.189817Z"
    }
   },
   "source": [
    "## 중복된 값 제거하고, 해당 값이 몇개 존재하는지 반환하기"
   ]
  },
  {
   "cell_type": "code",
   "execution_count": 11,
   "id": "7f585eae",
   "metadata": {
    "ExecuteTime": {
     "end_time": "2022-05-15T01:34:04.726903Z",
     "start_time": "2022-05-15T01:34:04.718315Z"
    }
   },
   "outputs": [
    {
     "name": "stdout",
     "output_type": "stream",
     "text": [
      "[3 2 2 2 1 1 1 1 1 1]\n"
     ]
    }
   ],
   "source": [
    "unique_values, occurrence_count = np.unique(a, return_counts = True)\n",
    "print(occurrence_count)"
   ]
  },
  {
   "cell_type": "markdown",
   "id": "d2f0b172",
   "metadata": {
    "ExecuteTime": {
     "end_time": "2022-05-15T01:39:59.532086Z",
     "start_time": "2022-05-15T01:39:59.515890Z"
    }
   },
   "source": [
    "# 2차원 array"
   ]
  },
  {
   "cell_type": "code",
   "execution_count": 13,
   "id": "6b541726",
   "metadata": {
    "ExecuteTime": {
     "end_time": "2022-05-15T01:38:27.597836Z",
     "start_time": "2022-05-15T01:38:27.575436Z"
    }
   },
   "outputs": [
    {
     "data": {
      "text/plain": [
       "array([[ 1,  2,  3,  4],\n",
       "       [ 5,  6,  7,  8],\n",
       "       [ 9, 10, 11, 12],\n",
       "       [ 1,  2,  3,  4]])"
      ]
     },
     "execution_count": 13,
     "metadata": {},
     "output_type": "execute_result"
    }
   ],
   "source": [
    "a_2d = np.array([[1, 2, 3, 4], [5, 6, 7, 8], [9, 10, 11, 12], [1, 2, 3, 4]])\n",
    "a_2d"
   ]
  },
  {
   "cell_type": "code",
   "execution_count": 17,
   "id": "7fbedcb3",
   "metadata": {
    "ExecuteTime": {
     "end_time": "2022-05-15T01:40:26.421565Z",
     "start_time": "2022-05-15T01:40:26.400720Z"
    }
   },
   "outputs": [
    {
     "data": {
      "text/plain": [
       "array([ 1,  2,  3,  4,  5,  6,  7,  8,  9, 10, 11, 12])"
      ]
     },
     "execution_count": 17,
     "metadata": {},
     "output_type": "execute_result"
    }
   ],
   "source": [
    "unique_values = np.unique(a_2d) # 1차원 형태로 반환됨\n",
    "unique_values"
   ]
  },
  {
   "cell_type": "code",
   "execution_count": 18,
   "id": "6330cfc8",
   "metadata": {
    "ExecuteTime": {
     "end_time": "2022-05-15T01:45:12.312477Z",
     "start_time": "2022-05-15T01:45:12.298447Z"
    }
   },
   "outputs": [
    {
     "data": {
      "text/plain": [
       "array([[ 1,  2,  3,  4],\n",
       "       [ 5,  6,  7,  8],\n",
       "       [ 9, 10, 11, 12]])"
      ]
     },
     "execution_count": 18,
     "metadata": {},
     "output_type": "execute_result"
    }
   ],
   "source": [
    "unique_rows = np.unique(a_2d, axis=0)\n",
    "unique_rows"
   ]
  },
  {
   "cell_type": "code",
   "execution_count": 19,
   "id": "6f145bb0",
   "metadata": {
    "ExecuteTime": {
     "end_time": "2022-05-15T01:45:46.387843Z",
     "start_time": "2022-05-15T01:45:46.367693Z"
    }
   },
   "outputs": [
    {
     "data": {
      "text/plain": [
       "array([[ 1,  2,  3,  4],\n",
       "       [ 5,  6,  7,  8],\n",
       "       [ 9, 10, 11, 12],\n",
       "       [ 1,  2,  3,  4]])"
      ]
     },
     "execution_count": 19,
     "metadata": {},
     "output_type": "execute_result"
    }
   ],
   "source": [
    "unique_columns = np.unique(a_2d, axis=1)\n",
    "unique_columns"
   ]
  },
  {
   "cell_type": "code",
   "execution_count": 20,
   "id": "1928a4e6",
   "metadata": {
    "ExecuteTime": {
     "end_time": "2022-05-15T01:49:48.784480Z",
     "start_time": "2022-05-15T01:49:48.768057Z"
    }
   },
   "outputs": [
    {
     "name": "stdout",
     "output_type": "stream",
     "text": [
      "[0 1 2]\n",
      "[2 1 1]\n"
     ]
    }
   ],
   "source": [
    "unique_rows, unique_indices, unique_counts = np.unique(a_2d, axis=0, return_index=True, return_counts=True)\n",
    "print(unique_indices)\n",
    "print(unique_counts)"
   ]
  },
  {
   "cell_type": "markdown",
   "id": "aa03da25",
   "metadata": {},
   "source": [
    "* 2차원 배열에서 return_index 추가 설명 : 3번째 행은 중복이기 때문에, 중복을 제거하고 유니크한 행이 0, 1, 2번째 행이 됨.\n",
    "* 2차원 배열에서 return_counts 추가 설명 : 유니크한 행에 대한 빈도를 보면 0번 행이 중복되어 2회, 1, 2번 행은 중복되지 않아서 1회.\n",
    "<br/>\n",
    "* 축 기준 자체로 두고 보기. 하나하나의 원소로 보는 것이 아니다!!"
   ]
  }
 ],
 "metadata": {
  "kernelspec": {
   "display_name": "Python 3",
   "language": "python",
   "name": "python3"
  },
  "language_info": {
   "codemirror_mode": {
    "name": "ipython",
    "version": 3
   },
   "file_extension": ".py",
   "mimetype": "text/x-python",
   "name": "python",
   "nbconvert_exporter": "python",
   "pygments_lexer": "ipython3",
   "version": "3.8.8"
  },
  "toc": {
   "base_numbering": 1,
   "nav_menu": {},
   "number_sections": true,
   "sideBar": true,
   "skip_h1_title": false,
   "title_cell": "Table of Contents",
   "title_sidebar": "Contents",
   "toc_cell": false,
   "toc_position": {},
   "toc_section_display": true,
   "toc_window_display": false
  }
 },
 "nbformat": 4,
 "nbformat_minor": 5
}
