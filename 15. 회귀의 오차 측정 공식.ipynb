{
 "cells": [
  {
   "cell_type": "markdown",
   "id": "68816765",
   "metadata": {},
   "source": [
    "# MSE (Mean Square Error)\n",
    "* 회귀 (regression) 문제를 풀 때, 예측한 값과 실제 측정 값 사이의 오차를 구할 때 사용\n",
    "![meansquareerror](https://numpy.org/doc/stable/_images/np_MSE_formula.png)\n",
    "* (실제값 - 예측값)^2의 평균"
   ]
  },
  {
   "cell_type": "code",
   "execution_count": 1,
   "id": "d1b4bd44",
   "metadata": {
    "ExecuteTime": {
     "end_time": "2022-05-16T05:23:09.362649Z",
     "start_time": "2022-05-16T05:23:09.204894Z"
    }
   },
   "outputs": [],
   "source": [
    "import numpy as np"
   ]
  },
  {
   "cell_type": "code",
   "execution_count": 3,
   "id": "43c3753a",
   "metadata": {
    "ExecuteTime": {
     "end_time": "2022-05-16T05:23:29.566688Z",
     "start_time": "2022-05-16T05:23:29.546741Z"
    }
   },
   "outputs": [
    {
     "data": {
      "text/plain": [
       "array([1, 1, 1])"
      ]
     },
     "execution_count": 3,
     "metadata": {},
     "output_type": "execute_result"
    }
   ],
   "source": [
    "predictions = np.ones(3, dtype=int)\n",
    "predictions"
   ]
  },
  {
   "cell_type": "code",
   "execution_count": 4,
   "id": "116a9937",
   "metadata": {
    "ExecuteTime": {
     "end_time": "2022-05-16T05:23:43.689550Z",
     "start_time": "2022-05-16T05:23:43.675593Z"
    }
   },
   "outputs": [
    {
     "data": {
      "text/plain": [
       "array([1, 2, 3])"
      ]
     },
     "execution_count": 4,
     "metadata": {},
     "output_type": "execute_result"
    }
   ],
   "source": [
    "labels = np.arange(1, 4)\n",
    "labels"
   ]
  },
  {
   "cell_type": "code",
   "execution_count": 5,
   "id": "6f67e46a",
   "metadata": {
    "ExecuteTime": {
     "end_time": "2022-05-16T05:24:33.017349Z",
     "start_time": "2022-05-16T05:24:32.996405Z"
    }
   },
   "outputs": [
    {
     "data": {
      "text/plain": [
       "array([ 0, -1, -2])"
      ]
     },
     "execution_count": 5,
     "metadata": {},
     "output_type": "execute_result"
    }
   ],
   "source": [
    "predictions - labels"
   ]
  },
  {
   "cell_type": "code",
   "execution_count": 6,
   "id": "7c9ae532",
   "metadata": {
    "ExecuteTime": {
     "end_time": "2022-05-16T05:24:34.524811Z",
     "start_time": "2022-05-16T05:24:34.513806Z"
    }
   },
   "outputs": [
    {
     "data": {
      "text/plain": [
       "array([0, 1, 4], dtype=int32)"
      ]
     },
     "execution_count": 6,
     "metadata": {},
     "output_type": "execute_result"
    }
   ],
   "source": [
    "np.square(predictions - labels)"
   ]
  },
  {
   "cell_type": "code",
   "execution_count": 7,
   "id": "d429a46d",
   "metadata": {
    "ExecuteTime": {
     "end_time": "2022-05-16T05:24:51.439605Z",
     "start_time": "2022-05-16T05:24:51.422688Z"
    }
   },
   "outputs": [
    {
     "data": {
      "text/plain": [
       "5"
      ]
     },
     "execution_count": 7,
     "metadata": {},
     "output_type": "execute_result"
    }
   ],
   "source": [
    "np.sum(np.square(predictions - labels))"
   ]
  },
  {
   "cell_type": "code",
   "execution_count": 9,
   "id": "dffb285a",
   "metadata": {
    "ExecuteTime": {
     "end_time": "2022-05-16T05:25:19.612853Z",
     "start_time": "2022-05-16T05:25:19.600883Z"
    }
   },
   "outputs": [
    {
     "data": {
      "text/plain": [
       "1.6666666666666665"
      ]
     },
     "execution_count": 9,
     "metadata": {},
     "output_type": "execute_result"
    }
   ],
   "source": [
    "mse = np.sum(np.square(predictions - labels)) * (1/3)\n",
    "mse"
   ]
  },
  {
   "cell_type": "markdown",
   "id": "8db00ff9",
   "metadata": {
    "ExecuteTime": {
     "end_time": "2022-05-16T05:26:26.777645Z",
     "start_time": "2022-05-16T05:26:26.759729Z"
    }
   },
   "source": [
    "# RMSE (Root Mean Squared Error)"
   ]
  },
  {
   "cell_type": "code",
   "execution_count": 14,
   "id": "a2afe789",
   "metadata": {
    "ExecuteTime": {
     "end_time": "2022-05-16T05:27:01.023636Z",
     "start_time": "2022-05-16T05:27:01.009677Z"
    }
   },
   "outputs": [
    {
     "data": {
      "text/plain": [
       "1.2909944487358056"
      ]
     },
     "execution_count": 14,
     "metadata": {},
     "output_type": "execute_result"
    }
   ],
   "source": [
    "rmse = np.sqrt(mse)\n",
    "rmse"
   ]
  },
  {
   "cell_type": "markdown",
   "id": "32696261",
   "metadata": {},
   "source": [
    "# MAE (Mean Absolute Error)\n",
    "* 예측값과 실제값의 차이에 대한 절대값의 평균"
   ]
  },
  {
   "cell_type": "code",
   "execution_count": 16,
   "id": "4b89e047",
   "metadata": {
    "ExecuteTime": {
     "end_time": "2022-05-16T05:28:49.974128Z",
     "start_time": "2022-05-16T05:28:49.954180Z"
    }
   },
   "outputs": [
    {
     "data": {
      "text/plain": [
       "array([ 0, -1, -2])"
      ]
     },
     "execution_count": 16,
     "metadata": {},
     "output_type": "execute_result"
    }
   ],
   "source": [
    "error = predictions - labels\n",
    "error"
   ]
  },
  {
   "cell_type": "code",
   "execution_count": 17,
   "id": "4995fad4",
   "metadata": {
    "ExecuteTime": {
     "end_time": "2022-05-16T05:28:54.745387Z",
     "start_time": "2022-05-16T05:28:54.736408Z"
    }
   },
   "outputs": [
    {
     "data": {
      "text/plain": [
       "array([0, 1, 2])"
      ]
     },
     "execution_count": 17,
     "metadata": {},
     "output_type": "execute_result"
    }
   ],
   "source": [
    "np.abs(error)"
   ]
  },
  {
   "cell_type": "code",
   "execution_count": 19,
   "id": "e506e86c",
   "metadata": {
    "ExecuteTime": {
     "end_time": "2022-05-16T05:29:08.723714Z",
     "start_time": "2022-05-16T05:29:08.710767Z"
    }
   },
   "outputs": [
    {
     "data": {
      "text/plain": [
       "1.0"
      ]
     },
     "execution_count": 19,
     "metadata": {},
     "output_type": "execute_result"
    }
   ],
   "source": [
    "mae = np.mean(np.abs(error))\n",
    "mae"
   ]
  },
  {
   "cell_type": "markdown",
   "id": "30d926ba",
   "metadata": {},
   "source": [
    "# MAPE (Mean Absolute Percentage Error)\n",
    "* (실제값 - 예측값) / 실제값의 절대값에 대한 평균"
   ]
  },
  {
   "cell_type": "code",
   "execution_count": 20,
   "id": "de1fe88b",
   "metadata": {
    "ExecuteTime": {
     "end_time": "2022-05-16T05:30:17.263009Z",
     "start_time": "2022-05-16T05:30:17.242063Z"
    }
   },
   "outputs": [
    {
     "data": {
      "text/plain": [
       "array([ 0.        , -0.5       , -0.66666667])"
      ]
     },
     "execution_count": 20,
     "metadata": {},
     "output_type": "execute_result"
    }
   ],
   "source": [
    "(predictions - labels) / labels"
   ]
  },
  {
   "cell_type": "code",
   "execution_count": 21,
   "id": "187b5ef1",
   "metadata": {
    "ExecuteTime": {
     "end_time": "2022-05-16T05:30:31.951360Z",
     "start_time": "2022-05-16T05:30:31.945328Z"
    }
   },
   "outputs": [
    {
     "data": {
      "text/plain": [
       "array([0.        , 0.5       , 0.66666667])"
      ]
     },
     "execution_count": 21,
     "metadata": {},
     "output_type": "execute_result"
    }
   ],
   "source": [
    "np.abs((predictions - labels) / labels)"
   ]
  },
  {
   "cell_type": "code",
   "execution_count": 23,
   "id": "8be63bc4",
   "metadata": {
    "ExecuteTime": {
     "end_time": "2022-05-16T05:30:57.825346Z",
     "start_time": "2022-05-16T05:30:57.817333Z"
    }
   },
   "outputs": [
    {
     "data": {
      "text/plain": [
       "0.38888888888888884"
      ]
     },
     "execution_count": 23,
     "metadata": {},
     "output_type": "execute_result"
    }
   ],
   "source": [
    "mape = np.mean(np.abs((predictions - labels) / labels))\n",
    "mape"
   ]
  },
  {
   "cell_type": "markdown",
   "id": "ee00f6b1",
   "metadata": {},
   "source": [
    "* 위의 값들은 작을 수록 정확도가 높음을 의미한다."
   ]
  }
 ],
 "metadata": {
  "kernelspec": {
   "display_name": "Python 3",
   "language": "python",
   "name": "python3"
  },
  "language_info": {
   "codemirror_mode": {
    "name": "ipython",
    "version": 3
   },
   "file_extension": ".py",
   "mimetype": "text/x-python",
   "name": "python",
   "nbconvert_exporter": "python",
   "pygments_lexer": "ipython3",
   "version": "3.8.8"
  },
  "toc": {
   "base_numbering": 1,
   "nav_menu": {},
   "number_sections": true,
   "sideBar": true,
   "skip_h1_title": false,
   "title_cell": "Table of Contents",
   "title_sidebar": "Contents",
   "toc_cell": false,
   "toc_position": {},
   "toc_section_display": true,
   "toc_window_display": false
  }
 },
 "nbformat": 4,
 "nbformat_minor": 5
}
