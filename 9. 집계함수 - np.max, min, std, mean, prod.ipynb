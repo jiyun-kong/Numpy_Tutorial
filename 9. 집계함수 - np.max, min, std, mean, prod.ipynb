{
 "cells": [
  {
   "cell_type": "code",
   "execution_count": 1,
   "id": "81d0fad6",
   "metadata": {
    "ExecuteTime": {
     "end_time": "2022-05-14T04:37:18.605045Z",
     "start_time": "2022-05-14T04:37:18.447359Z"
    }
   },
   "outputs": [],
   "source": [
    "import numpy as np"
   ]
  },
  {
   "cell_type": "code",
   "execution_count": 2,
   "id": "4d89ecc3",
   "metadata": {
    "ExecuteTime": {
     "end_time": "2022-05-14T04:37:30.801031Z",
     "start_time": "2022-05-14T04:37:30.781082Z"
    }
   },
   "outputs": [
    {
     "data": {
      "text/plain": [
       "array([1, 2, 3])"
      ]
     },
     "execution_count": 2,
     "metadata": {},
     "output_type": "execute_result"
    }
   ],
   "source": [
    "data = np.array([1,2,3])\n",
    "data"
   ]
  },
  {
   "cell_type": "code",
   "execution_count": 4,
   "id": "49e22036",
   "metadata": {
    "ExecuteTime": {
     "end_time": "2022-05-14T04:37:43.392891Z",
     "start_time": "2022-05-14T04:37:43.384878Z"
    }
   },
   "outputs": [
    {
     "data": {
      "text/plain": [
       "3"
      ]
     },
     "execution_count": 4,
     "metadata": {},
     "output_type": "execute_result"
    }
   ],
   "source": [
    "data.max()"
   ]
  },
  {
   "cell_type": "code",
   "execution_count": 5,
   "id": "bace96cf",
   "metadata": {
    "ExecuteTime": {
     "end_time": "2022-05-14T04:37:47.582645Z",
     "start_time": "2022-05-14T04:37:47.569680Z"
    }
   },
   "outputs": [
    {
     "data": {
      "text/plain": [
       "1"
      ]
     },
     "execution_count": 5,
     "metadata": {},
     "output_type": "execute_result"
    }
   ],
   "source": [
    "data.min()"
   ]
  },
  {
   "cell_type": "code",
   "execution_count": 6,
   "id": "936080b4",
   "metadata": {
    "ExecuteTime": {
     "end_time": "2022-05-14T04:37:51.625872Z",
     "start_time": "2022-05-14T04:37:51.608918Z"
    }
   },
   "outputs": [
    {
     "data": {
      "text/plain": [
       "6"
      ]
     },
     "execution_count": 6,
     "metadata": {},
     "output_type": "execute_result"
    }
   ],
   "source": [
    "data.sum()"
   ]
  },
  {
   "cell_type": "code",
   "execution_count": 7,
   "id": "775eb1fd",
   "metadata": {
    "ExecuteTime": {
     "end_time": "2022-05-14T04:37:57.334657Z",
     "start_time": "2022-05-14T04:37:57.318668Z"
    }
   },
   "outputs": [
    {
     "data": {
      "text/plain": [
       "2.0"
      ]
     },
     "execution_count": 7,
     "metadata": {},
     "output_type": "execute_result"
    }
   ],
   "source": [
    "data.mean()"
   ]
  },
  {
   "cell_type": "code",
   "execution_count": 8,
   "id": "f973fa4a",
   "metadata": {
    "ExecuteTime": {
     "end_time": "2022-05-14T04:38:02.164589Z",
     "start_time": "2022-05-14T04:38:02.150663Z"
    }
   },
   "outputs": [
    {
     "data": {
      "text/plain": [
       "6"
      ]
     },
     "execution_count": 8,
     "metadata": {},
     "output_type": "execute_result"
    }
   ],
   "source": [
    "data.prod()"
   ]
  },
  {
   "cell_type": "code",
   "execution_count": 9,
   "id": "6ed3cf6a",
   "metadata": {
    "ExecuteTime": {
     "end_time": "2022-05-14T04:38:06.999999Z",
     "start_time": "2022-05-14T04:38:06.988988Z"
    }
   },
   "outputs": [
    {
     "data": {
      "text/plain": [
       "0.816496580927726"
      ]
     },
     "execution_count": 9,
     "metadata": {},
     "output_type": "execute_result"
    }
   ],
   "source": [
    "data.std() # 표준편차"
   ]
  },
  {
   "cell_type": "code",
   "execution_count": 10,
   "id": "de06efd4",
   "metadata": {
    "ExecuteTime": {
     "end_time": "2022-05-14T04:38:12.431489Z",
     "start_time": "2022-05-14T04:38:12.418494Z"
    }
   },
   "outputs": [
    {
     "data": {
      "text/plain": [
       "0.6666666666666666"
      ]
     },
     "execution_count": 10,
     "metadata": {},
     "output_type": "execute_result"
    }
   ],
   "source": [
    "data.var() # 분산"
   ]
  },
  {
   "cell_type": "code",
   "execution_count": 12,
   "id": "c926fc47",
   "metadata": {
    "ExecuteTime": {
     "end_time": "2022-05-14T04:40:16.689290Z",
     "start_time": "2022-05-14T04:40:16.673368Z"
    }
   },
   "outputs": [
    {
     "data": {
      "text/plain": [
       "array([[0.45053314, 0.17296777, 0.34376245, 0.5510652 ],\n",
       "       [0.54627315, 0.05093587, 0.40067661, 0.55645993],\n",
       "       [0.12697628, 0.82485143, 0.26590556, 0.56917101]])"
      ]
     },
     "execution_count": 12,
     "metadata": {},
     "output_type": "execute_result"
    }
   ],
   "source": [
    "a = np.array([[0.45053314, 0.17296777, 0.34376245, 0.5510652],\n",
    "              [0.54627315, 0.05093587, 0.40067661, 0.55645993],\n",
    "              [0.12697628, 0.82485143, 0.26590556, 0.56917101]])\n",
    "a"
   ]
  },
  {
   "cell_type": "code",
   "execution_count": 13,
   "id": "0d784970",
   "metadata": {
    "ExecuteTime": {
     "end_time": "2022-05-14T04:40:20.804890Z",
     "start_time": "2022-05-14T04:40:20.798944Z"
    }
   },
   "outputs": [
    {
     "data": {
      "text/plain": [
       "(3, 4)"
      ]
     },
     "execution_count": 13,
     "metadata": {},
     "output_type": "execute_result"
    }
   ],
   "source": [
    "a.shape"
   ]
  },
  {
   "cell_type": "code",
   "execution_count": 14,
   "id": "8c7cff0f",
   "metadata": {
    "ExecuteTime": {
     "end_time": "2022-05-14T04:40:26.611135Z",
     "start_time": "2022-05-14T04:40:26.603165Z"
    }
   },
   "outputs": [
    {
     "data": {
      "text/plain": [
       "4.8595784"
      ]
     },
     "execution_count": 14,
     "metadata": {},
     "output_type": "execute_result"
    }
   ],
   "source": [
    "a.sum()"
   ]
  },
  {
   "cell_type": "code",
   "execution_count": 15,
   "id": "222d7687",
   "metadata": {
    "ExecuteTime": {
     "end_time": "2022-05-14T04:40:30.247680Z",
     "start_time": "2022-05-14T04:40:30.234686Z"
    }
   },
   "outputs": [
    {
     "data": {
      "text/plain": [
       "0.05093587"
      ]
     },
     "execution_count": 15,
     "metadata": {},
     "output_type": "execute_result"
    }
   ],
   "source": [
    "a.min()"
   ]
  },
  {
   "cell_type": "code",
   "execution_count": 16,
   "id": "e1c053c4",
   "metadata": {
    "ExecuteTime": {
     "end_time": "2022-05-14T04:41:27.692206Z",
     "start_time": "2022-05-14T04:41:27.680239Z"
    }
   },
   "outputs": [
    {
     "data": {
      "text/plain": [
       "array([0.12697628, 0.05093587, 0.26590556, 0.5510652 ])"
      ]
     },
     "execution_count": 16,
     "metadata": {},
     "output_type": "execute_result"
    }
   ],
   "source": [
    "a.min(axis=0)"
   ]
  },
  {
   "cell_type": "code",
   "execution_count": 17,
   "id": "d342d9a5",
   "metadata": {
    "ExecuteTime": {
     "end_time": "2022-05-14T04:42:01.106287Z",
     "start_time": "2022-05-14T04:42:01.099305Z"
    }
   },
   "outputs": [
    {
     "data": {
      "text/plain": [
       "array([0.17296777, 0.05093587, 0.12697628])"
      ]
     },
     "execution_count": 17,
     "metadata": {},
     "output_type": "execute_result"
    }
   ],
   "source": [
    "a.min(axis=1)"
   ]
  },
  {
   "cell_type": "code",
   "execution_count": 19,
   "id": "db7c3fc4",
   "metadata": {
    "ExecuteTime": {
     "end_time": "2022-05-14T04:47:26.708541Z",
     "start_time": "2022-05-14T04:47:26.692586Z"
    }
   },
   "outputs": [
    {
     "data": {
      "text/plain": [
       "array([[1, 2],\n",
       "       [3, 4],\n",
       "       [5, 6]])"
      ]
     },
     "execution_count": 19,
     "metadata": {},
     "output_type": "execute_result"
    }
   ],
   "source": [
    "data = np.array([[1, 2], [3, 4], [5, 6]])\n",
    "data"
   ]
  },
  {
   "cell_type": "code",
   "execution_count": 20,
   "id": "2ae552a0",
   "metadata": {
    "ExecuteTime": {
     "end_time": "2022-05-14T04:47:31.318553Z",
     "start_time": "2022-05-14T04:47:31.301599Z"
    }
   },
   "outputs": [
    {
     "data": {
      "text/plain": [
       "2"
      ]
     },
     "execution_count": 20,
     "metadata": {},
     "output_type": "execute_result"
    }
   ],
   "source": [
    "data.ndim"
   ]
  },
  {
   "cell_type": "code",
   "execution_count": 21,
   "id": "16fe533b",
   "metadata": {
    "ExecuteTime": {
     "end_time": "2022-05-14T04:47:34.790688Z",
     "start_time": "2022-05-14T04:47:34.773772Z"
    }
   },
   "outputs": [
    {
     "data": {
      "text/plain": [
       "(3, 2)"
      ]
     },
     "execution_count": 21,
     "metadata": {},
     "output_type": "execute_result"
    }
   ],
   "source": [
    "data.shape"
   ]
  },
  {
   "cell_type": "code",
   "execution_count": 22,
   "id": "ed450fcd",
   "metadata": {
    "ExecuteTime": {
     "end_time": "2022-05-14T04:47:43.413548Z",
     "start_time": "2022-05-14T04:47:43.400588Z"
    }
   },
   "outputs": [
    {
     "data": {
      "text/plain": [
       "2"
      ]
     },
     "execution_count": 22,
     "metadata": {},
     "output_type": "execute_result"
    }
   ],
   "source": [
    "data[0, 1]"
   ]
  },
  {
   "cell_type": "code",
   "execution_count": 23,
   "id": "01ac6735",
   "metadata": {
    "ExecuteTime": {
     "end_time": "2022-05-14T04:47:53.228387Z",
     "start_time": "2022-05-14T04:47:53.222435Z"
    }
   },
   "outputs": [
    {
     "data": {
      "text/plain": [
       "array([1, 2])"
      ]
     },
     "execution_count": 23,
     "metadata": {},
     "output_type": "execute_result"
    }
   ],
   "source": [
    "data[0]"
   ]
  },
  {
   "cell_type": "code",
   "execution_count": 24,
   "id": "a6918076",
   "metadata": {
    "ExecuteTime": {
     "end_time": "2022-05-14T04:48:31.735477Z",
     "start_time": "2022-05-14T04:48:31.723507Z"
    }
   },
   "outputs": [
    {
     "data": {
      "text/plain": [
       "array([[3, 4],\n",
       "       [5, 6]])"
      ]
     },
     "execution_count": 24,
     "metadata": {},
     "output_type": "execute_result"
    }
   ],
   "source": [
    "data[1:3]"
   ]
  },
  {
   "cell_type": "code",
   "execution_count": 25,
   "id": "a2ad7719",
   "metadata": {
    "ExecuteTime": {
     "end_time": "2022-05-14T04:49:39.447806Z",
     "start_time": "2022-05-14T04:49:39.438792Z"
    }
   },
   "outputs": [
    {
     "data": {
      "text/plain": [
       "array([1, 3])"
      ]
     },
     "execution_count": 25,
     "metadata": {},
     "output_type": "execute_result"
    }
   ],
   "source": [
    "data[0:2, 0]"
   ]
  },
  {
   "cell_type": "markdown",
   "id": "655f320c",
   "metadata": {},
   "source": [
    "+ 3차원 배열 : 맨 앞에 있는 축이 가장 늦게 생성되고, 맨 뒤에 있는 축이 가장 빠르게 생성된다."
   ]
  },
  {
   "cell_type": "code",
   "execution_count": 26,
   "id": "d73eb81a",
   "metadata": {
    "ExecuteTime": {
     "end_time": "2022-05-14T04:51:57.317179Z",
     "start_time": "2022-05-14T04:51:57.301186Z"
    }
   },
   "outputs": [
    {
     "data": {
      "text/plain": [
       "array([[[1., 1.],\n",
       "        [1., 1.],\n",
       "        [1., 1.]],\n",
       "\n",
       "       [[1., 1.],\n",
       "        [1., 1.],\n",
       "        [1., 1.]],\n",
       "\n",
       "       [[1., 1.],\n",
       "        [1., 1.],\n",
       "        [1., 1.]],\n",
       "\n",
       "       [[1., 1.],\n",
       "        [1., 1.],\n",
       "        [1., 1.]]])"
      ]
     },
     "execution_count": 26,
     "metadata": {},
     "output_type": "execute_result"
    }
   ],
   "source": [
    "np.ones((4,3,2))"
   ]
  }
 ],
 "metadata": {
  "kernelspec": {
   "display_name": "Python 3",
   "language": "python",
   "name": "python3"
  },
  "language_info": {
   "codemirror_mode": {
    "name": "ipython",
    "version": 3
   },
   "file_extension": ".py",
   "mimetype": "text/x-python",
   "name": "python",
   "nbconvert_exporter": "python",
   "pygments_lexer": "ipython3",
   "version": "3.8.8"
  },
  "toc": {
   "base_numbering": 1,
   "nav_menu": {},
   "number_sections": true,
   "sideBar": true,
   "skip_h1_title": false,
   "title_cell": "Table of Contents",
   "title_sidebar": "Contents",
   "toc_cell": false,
   "toc_position": {},
   "toc_section_display": true,
   "toc_window_display": false
  }
 },
 "nbformat": 4,
 "nbformat_minor": 5
}
