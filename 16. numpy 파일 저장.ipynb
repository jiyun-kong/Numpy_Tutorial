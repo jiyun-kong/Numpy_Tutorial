{
 "cells": [
  {
   "cell_type": "code",
   "execution_count": 1,
   "id": "ab96004f",
   "metadata": {
    "ExecuteTime": {
     "end_time": "2022-05-16T05:43:34.476648Z",
     "start_time": "2022-05-16T05:43:34.315115Z"
    }
   },
   "outputs": [],
   "source": [
    "import numpy as np"
   ]
  },
  {
   "cell_type": "code",
   "execution_count": 2,
   "id": "970252bf",
   "metadata": {
    "ExecuteTime": {
     "end_time": "2022-05-16T05:44:01.062922Z",
     "start_time": "2022-05-16T05:44:01.031025Z"
    }
   },
   "outputs": [
    {
     "data": {
      "text/plain": [
       "array([1, 2, 3, 4, 5, 6])"
      ]
     },
     "execution_count": 2,
     "metadata": {},
     "output_type": "execute_result"
    }
   ],
   "source": [
    "a = np.array([1,2,3,4,5,6])\n",
    "a"
   ]
  },
  {
   "cell_type": "code",
   "execution_count": 3,
   "id": "31ce6cda",
   "metadata": {
    "ExecuteTime": {
     "end_time": "2022-05-16T05:44:34.662665Z",
     "start_time": "2022-05-16T05:44:34.648662Z"
    }
   },
   "outputs": [],
   "source": [
    "np.save('filename', a)"
   ]
  },
  {
   "cell_type": "code",
   "execution_count": 4,
   "id": "36aa3920",
   "metadata": {
    "ExecuteTime": {
     "end_time": "2022-05-16T05:44:46.376607Z",
     "start_time": "2022-05-16T05:44:46.348682Z"
    }
   },
   "outputs": [
    {
     "data": {
      "text/plain": [
       "array([1, 2, 3, 4, 5, 6])"
      ]
     },
     "execution_count": 4,
     "metadata": {},
     "output_type": "execute_result"
    }
   ],
   "source": [
    "np.load('filename.npy')"
   ]
  },
  {
   "cell_type": "code",
   "execution_count": 5,
   "id": "5390ef2a",
   "metadata": {
    "ExecuteTime": {
     "end_time": "2022-05-16T05:45:03.991189Z",
     "start_time": "2022-05-16T05:45:03.972240Z"
    }
   },
   "outputs": [
    {
     "data": {
      "text/plain": [
       "array([1, 2, 3, 4, 5, 6])"
      ]
     },
     "execution_count": 5,
     "metadata": {},
     "output_type": "execute_result"
    }
   ],
   "source": [
    "b = np.load('filename.npy')\n",
    "b"
   ]
  },
  {
   "cell_type": "code",
   "execution_count": 6,
   "id": "7ab523a3",
   "metadata": {
    "ExecuteTime": {
     "end_time": "2022-05-16T05:45:25.901825Z",
     "start_time": "2022-05-16T05:45:25.883828Z"
    }
   },
   "outputs": [
    {
     "data": {
      "text/plain": [
       "array([1, 2, 3, 4, 5, 6, 7, 8])"
      ]
     },
     "execution_count": 6,
     "metadata": {},
     "output_type": "execute_result"
    }
   ],
   "source": [
    "csv_arr = np.array([1,2,3,4,5,6,7,8])\n",
    "csv_arr"
   ]
  },
  {
   "cell_type": "code",
   "execution_count": 7,
   "id": "39065c90",
   "metadata": {
    "ExecuteTime": {
     "end_time": "2022-05-16T05:45:48.155788Z",
     "start_time": "2022-05-16T05:45:48.143812Z"
    }
   },
   "outputs": [],
   "source": [
    "np.savetxt('new_file.csv', csv_arr)"
   ]
  },
  {
   "cell_type": "code",
   "execution_count": 8,
   "id": "860b97f0",
   "metadata": {
    "ExecuteTime": {
     "end_time": "2022-05-16T05:46:01.710546Z",
     "start_time": "2022-05-16T05:46:01.683606Z"
    }
   },
   "outputs": [
    {
     "data": {
      "text/plain": [
       "array([1., 2., 3., 4., 5., 6., 7., 8.])"
      ]
     },
     "execution_count": 8,
     "metadata": {},
     "output_type": "execute_result"
    }
   ],
   "source": [
    "np.loadtxt('new_file.csv')"
   ]
  },
  {
   "cell_type": "markdown",
   "id": "ab62ab18",
   "metadata": {
    "ExecuteTime": {
     "end_time": "2022-05-16T05:47:35.256724Z",
     "start_time": "2022-05-16T05:47:35.245711Z"
    }
   },
   "source": [
    "# Pandas를 활용한 파일 저장 (추천하는 방식)\n",
    "    a = np.array([1, 2, 3, '4', 5, 6])\n",
    "* 배열의 한 요소만 문자이더라도 결국에는 배열의 모든 원소가 문자로 바뀜 (하나의 동일한 데이터 타입만 취급한다.)\n",
    "* np.savetxt의 경우, 에러가 발생함 (문자를 저장할 수 없음)"
   ]
  },
  {
   "cell_type": "code",
   "execution_count": 10,
   "id": "f9ab3b24",
   "metadata": {
    "ExecuteTime": {
     "end_time": "2022-05-16T05:48:57.584127Z",
     "start_time": "2022-05-16T05:48:56.301595Z"
    }
   },
   "outputs": [],
   "source": [
    "import pandas as pd"
   ]
  },
  {
   "cell_type": "code",
   "execution_count": 13,
   "id": "870487ab",
   "metadata": {
    "ExecuteTime": {
     "end_time": "2022-05-16T05:52:09.006792Z",
     "start_time": "2022-05-16T05:52:08.995866Z"
    }
   },
   "outputs": [
    {
     "data": {
      "text/plain": [
       "[['Billie Holiday', 'Jazz', 1300000, 27000000],\n",
       " ['Jimmie Hendrix', 'Rock', 2700000, 70000000],\n",
       " ['Miles Davis', 'Jazz', 1500000, 48000000],\n",
       " ['SIA', 'Pop', 2000000, 74000000]]"
      ]
     },
     "execution_count": 13,
     "metadata": {},
     "output_type": "execute_result"
    }
   ],
   "source": [
    "music = [['Billie Holiday', 'Jazz', 1300000, 27000000], \n",
    "         ['Jimmie Hendrix', 'Rock', 2700000, 70000000],\n",
    "         ['Miles Davis', 'Jazz', 1500000, 48000000],\n",
    "         ['SIA', 'Pop', 2000000, 74000000]]\n",
    "music"
   ]
  },
  {
   "cell_type": "code",
   "execution_count": 14,
   "id": "0e022607",
   "metadata": {
    "ExecuteTime": {
     "end_time": "2022-05-16T05:52:18.606067Z",
     "start_time": "2022-05-16T05:52:18.582132Z"
    }
   },
   "outputs": [
    {
     "data": {
      "text/html": [
       "<div>\n",
       "<style scoped>\n",
       "    .dataframe tbody tr th:only-of-type {\n",
       "        vertical-align: middle;\n",
       "    }\n",
       "\n",
       "    .dataframe tbody tr th {\n",
       "        vertical-align: top;\n",
       "    }\n",
       "\n",
       "    .dataframe thead th {\n",
       "        text-align: right;\n",
       "    }\n",
       "</style>\n",
       "<table border=\"1\" class=\"dataframe\">\n",
       "  <thead>\n",
       "    <tr style=\"text-align: right;\">\n",
       "      <th></th>\n",
       "      <th>0</th>\n",
       "      <th>1</th>\n",
       "      <th>2</th>\n",
       "      <th>3</th>\n",
       "    </tr>\n",
       "  </thead>\n",
       "  <tbody>\n",
       "    <tr>\n",
       "      <th>0</th>\n",
       "      <td>Billie Holiday</td>\n",
       "      <td>Jazz</td>\n",
       "      <td>1300000</td>\n",
       "      <td>27000000</td>\n",
       "    </tr>\n",
       "    <tr>\n",
       "      <th>1</th>\n",
       "      <td>Jimmie Hendrix</td>\n",
       "      <td>Rock</td>\n",
       "      <td>2700000</td>\n",
       "      <td>70000000</td>\n",
       "    </tr>\n",
       "    <tr>\n",
       "      <th>2</th>\n",
       "      <td>Miles Davis</td>\n",
       "      <td>Jazz</td>\n",
       "      <td>1500000</td>\n",
       "      <td>48000000</td>\n",
       "    </tr>\n",
       "    <tr>\n",
       "      <th>3</th>\n",
       "      <td>SIA</td>\n",
       "      <td>Pop</td>\n",
       "      <td>2000000</td>\n",
       "      <td>74000000</td>\n",
       "    </tr>\n",
       "  </tbody>\n",
       "</table>\n",
       "</div>"
      ],
      "text/plain": [
       "                0     1        2         3\n",
       "0  Billie Holiday  Jazz  1300000  27000000\n",
       "1  Jimmie Hendrix  Rock  2700000  70000000\n",
       "2     Miles Davis  Jazz  1500000  48000000\n",
       "3             SIA   Pop  2000000  74000000"
      ]
     },
     "execution_count": 14,
     "metadata": {},
     "output_type": "execute_result"
    }
   ],
   "source": [
    "pd.DataFrame(music)"
   ]
  },
  {
   "cell_type": "code",
   "execution_count": 16,
   "id": "487eaa79",
   "metadata": {
    "ExecuteTime": {
     "end_time": "2022-05-16T05:52:31.469068Z",
     "start_time": "2022-05-16T05:52:31.451087Z"
    }
   },
   "outputs": [
    {
     "data": {
      "text/html": [
       "<div>\n",
       "<style scoped>\n",
       "    .dataframe tbody tr th:only-of-type {\n",
       "        vertical-align: middle;\n",
       "    }\n",
       "\n",
       "    .dataframe tbody tr th {\n",
       "        vertical-align: top;\n",
       "    }\n",
       "\n",
       "    .dataframe thead th {\n",
       "        text-align: right;\n",
       "    }\n",
       "</style>\n",
       "<table border=\"1\" class=\"dataframe\">\n",
       "  <thead>\n",
       "    <tr style=\"text-align: right;\">\n",
       "      <th></th>\n",
       "      <th>0</th>\n",
       "      <th>1</th>\n",
       "      <th>2</th>\n",
       "      <th>3</th>\n",
       "    </tr>\n",
       "  </thead>\n",
       "  <tbody>\n",
       "    <tr>\n",
       "      <th>0</th>\n",
       "      <td>Billie Holiday</td>\n",
       "      <td>Jazz</td>\n",
       "      <td>1300000</td>\n",
       "      <td>27000000</td>\n",
       "    </tr>\n",
       "    <tr>\n",
       "      <th>1</th>\n",
       "      <td>Jimmie Hendrix</td>\n",
       "      <td>Rock</td>\n",
       "      <td>2700000</td>\n",
       "      <td>70000000</td>\n",
       "    </tr>\n",
       "    <tr>\n",
       "      <th>2</th>\n",
       "      <td>Miles Davis</td>\n",
       "      <td>Jazz</td>\n",
       "      <td>1500000</td>\n",
       "      <td>48000000</td>\n",
       "    </tr>\n",
       "    <tr>\n",
       "      <th>3</th>\n",
       "      <td>SIA</td>\n",
       "      <td>Pop</td>\n",
       "      <td>2000000</td>\n",
       "      <td>74000000</td>\n",
       "    </tr>\n",
       "  </tbody>\n",
       "</table>\n",
       "</div>"
      ],
      "text/plain": [
       "                0     1        2         3\n",
       "0  Billie Holiday  Jazz  1300000  27000000\n",
       "1  Jimmie Hendrix  Rock  2700000  70000000\n",
       "2     Miles Davis  Jazz  1500000  48000000\n",
       "3             SIA   Pop  2000000  74000000"
      ]
     },
     "execution_count": 16,
     "metadata": {},
     "output_type": "execute_result"
    }
   ],
   "source": [
    "df = pd.DataFrame(music)\n",
    "df"
   ]
  },
  {
   "cell_type": "code",
   "execution_count": 21,
   "id": "816f63ef",
   "metadata": {
    "ExecuteTime": {
     "end_time": "2022-05-16T05:53:33.065473Z",
     "start_time": "2022-05-16T05:53:33.055503Z"
    }
   },
   "outputs": [],
   "source": [
    "df.to_csv('music.csv', index=False)"
   ]
  },
  {
   "cell_type": "code",
   "execution_count": 22,
   "id": "1102adef",
   "metadata": {
    "ExecuteTime": {
     "end_time": "2022-05-16T05:53:35.052705Z",
     "start_time": "2022-05-16T05:53:35.030767Z"
    }
   },
   "outputs": [
    {
     "data": {
      "text/html": [
       "<div>\n",
       "<style scoped>\n",
       "    .dataframe tbody tr th:only-of-type {\n",
       "        vertical-align: middle;\n",
       "    }\n",
       "\n",
       "    .dataframe tbody tr th {\n",
       "        vertical-align: top;\n",
       "    }\n",
       "\n",
       "    .dataframe thead th {\n",
       "        text-align: right;\n",
       "    }\n",
       "</style>\n",
       "<table border=\"1\" class=\"dataframe\">\n",
       "  <thead>\n",
       "    <tr style=\"text-align: right;\">\n",
       "      <th></th>\n",
       "      <th>0</th>\n",
       "      <th>1</th>\n",
       "      <th>2</th>\n",
       "      <th>3</th>\n",
       "    </tr>\n",
       "  </thead>\n",
       "  <tbody>\n",
       "    <tr>\n",
       "      <th>0</th>\n",
       "      <td>Billie Holiday</td>\n",
       "      <td>Jazz</td>\n",
       "      <td>1300000</td>\n",
       "      <td>27000000</td>\n",
       "    </tr>\n",
       "    <tr>\n",
       "      <th>1</th>\n",
       "      <td>Jimmie Hendrix</td>\n",
       "      <td>Rock</td>\n",
       "      <td>2700000</td>\n",
       "      <td>70000000</td>\n",
       "    </tr>\n",
       "    <tr>\n",
       "      <th>2</th>\n",
       "      <td>Miles Davis</td>\n",
       "      <td>Jazz</td>\n",
       "      <td>1500000</td>\n",
       "      <td>48000000</td>\n",
       "    </tr>\n",
       "    <tr>\n",
       "      <th>3</th>\n",
       "      <td>SIA</td>\n",
       "      <td>Pop</td>\n",
       "      <td>2000000</td>\n",
       "      <td>74000000</td>\n",
       "    </tr>\n",
       "  </tbody>\n",
       "</table>\n",
       "</div>"
      ],
      "text/plain": [
       "                0     1        2         3\n",
       "0  Billie Holiday  Jazz  1300000  27000000\n",
       "1  Jimmie Hendrix  Rock  2700000  70000000\n",
       "2     Miles Davis  Jazz  1500000  48000000\n",
       "3             SIA   Pop  2000000  74000000"
      ]
     },
     "execution_count": 22,
     "metadata": {},
     "output_type": "execute_result"
    }
   ],
   "source": [
    "pd.read_csv('music.csv')"
   ]
  },
  {
   "cell_type": "code",
   "execution_count": 23,
   "id": "6a62a8a1",
   "metadata": {
    "ExecuteTime": {
     "end_time": "2022-05-16T05:54:07.617456Z",
     "start_time": "2022-05-16T05:54:07.596515Z"
    }
   },
   "outputs": [
    {
     "data": {
      "text/plain": [
       "array([[-2.58289208,  0.43014843, -1.24082018,  1.59572603],\n",
       "       [ 0.99027828,  1.17150989,  0.94125714, -0.14692469],\n",
       "       [ 0.76989341,  0.81299683, -0.95068423,  0.11769564],\n",
       "       [ 0.20484034,  0.34784527,  1.96979195,  0.51992837]])"
      ]
     },
     "execution_count": 23,
     "metadata": {},
     "output_type": "execute_result"
    }
   ],
   "source": [
    "a = np.array([[-2.58289208,  0.43014843, -1.24082018, 1.59572603],\n",
    "              [ 0.99027828, 1.17150989,  0.94125714, -0.14692469],\n",
    "              [ 0.76989341,  0.81299683, -0.95068423, 0.11769564],\n",
    "              [ 0.20484034,  0.34784527,  1.96979195, 0.51992837]])\n",
    "a"
   ]
  },
  {
   "cell_type": "code",
   "execution_count": 28,
   "id": "dd67beee",
   "metadata": {
    "ExecuteTime": {
     "end_time": "2022-05-16T05:55:03.912051Z",
     "start_time": "2022-05-16T05:55:03.890110Z"
    }
   },
   "outputs": [
    {
     "name": "stdout",
     "output_type": "stream",
     "text": [
      "          0         1         2         3\n",
      "0 -2.582892  0.430148 -1.240820  1.595726\n",
      "1  0.990278  1.171510  0.941257 -0.146925\n",
      "2  0.769893  0.812997 -0.950684  0.117696\n",
      "3  0.204840  0.347845  1.969792  0.519928\n"
     ]
    }
   ],
   "source": [
    "df = pd.DataFrame(a)\n",
    "print(df)"
   ]
  },
  {
   "cell_type": "code",
   "execution_count": 31,
   "id": "93240c4d",
   "metadata": {
    "ExecuteTime": {
     "end_time": "2022-05-16T05:56:25.077241Z",
     "start_time": "2022-05-16T05:56:25.068224Z"
    }
   },
   "outputs": [],
   "source": [
    "df.to_csv('pd.csv', index=False)"
   ]
  },
  {
   "cell_type": "code",
   "execution_count": 32,
   "id": "06a105a8",
   "metadata": {
    "ExecuteTime": {
     "end_time": "2022-05-16T05:56:27.146276Z",
     "start_time": "2022-05-16T05:56:27.111369Z"
    }
   },
   "outputs": [
    {
     "data": {
      "text/html": [
       "<div>\n",
       "<style scoped>\n",
       "    .dataframe tbody tr th:only-of-type {\n",
       "        vertical-align: middle;\n",
       "    }\n",
       "\n",
       "    .dataframe tbody tr th {\n",
       "        vertical-align: top;\n",
       "    }\n",
       "\n",
       "    .dataframe thead th {\n",
       "        text-align: right;\n",
       "    }\n",
       "</style>\n",
       "<table border=\"1\" class=\"dataframe\">\n",
       "  <thead>\n",
       "    <tr style=\"text-align: right;\">\n",
       "      <th></th>\n",
       "      <th>0</th>\n",
       "      <th>1</th>\n",
       "      <th>2</th>\n",
       "      <th>3</th>\n",
       "    </tr>\n",
       "  </thead>\n",
       "  <tbody>\n",
       "    <tr>\n",
       "      <th>0</th>\n",
       "      <td>-2.582892</td>\n",
       "      <td>0.430148</td>\n",
       "      <td>-1.240820</td>\n",
       "      <td>1.595726</td>\n",
       "    </tr>\n",
       "    <tr>\n",
       "      <th>1</th>\n",
       "      <td>0.990278</td>\n",
       "      <td>1.171510</td>\n",
       "      <td>0.941257</td>\n",
       "      <td>-0.146925</td>\n",
       "    </tr>\n",
       "    <tr>\n",
       "      <th>2</th>\n",
       "      <td>0.769893</td>\n",
       "      <td>0.812997</td>\n",
       "      <td>-0.950684</td>\n",
       "      <td>0.117696</td>\n",
       "    </tr>\n",
       "    <tr>\n",
       "      <th>3</th>\n",
       "      <td>0.204840</td>\n",
       "      <td>0.347845</td>\n",
       "      <td>1.969792</td>\n",
       "      <td>0.519928</td>\n",
       "    </tr>\n",
       "  </tbody>\n",
       "</table>\n",
       "</div>"
      ],
      "text/plain": [
       "          0         1         2         3\n",
       "0 -2.582892  0.430148 -1.240820  1.595726\n",
       "1  0.990278  1.171510  0.941257 -0.146925\n",
       "2  0.769893  0.812997 -0.950684  0.117696\n",
       "3  0.204840  0.347845  1.969792  0.519928"
      ]
     },
     "execution_count": 32,
     "metadata": {},
     "output_type": "execute_result"
    }
   ],
   "source": [
    "pd.read_csv('pd.csv')"
   ]
  }
 ],
 "metadata": {
  "kernelspec": {
   "display_name": "Python 3",
   "language": "python",
   "name": "python3"
  },
  "language_info": {
   "codemirror_mode": {
    "name": "ipython",
    "version": 3
   },
   "file_extension": ".py",
   "mimetype": "text/x-python",
   "name": "python",
   "nbconvert_exporter": "python",
   "pygments_lexer": "ipython3",
   "version": "3.8.8"
  },
  "toc": {
   "base_numbering": 1,
   "nav_menu": {},
   "number_sections": true,
   "sideBar": true,
   "skip_h1_title": false,
   "title_cell": "Table of Contents",
   "title_sidebar": "Contents",
   "toc_cell": false,
   "toc_position": {},
   "toc_section_display": true,
   "toc_window_display": false
  }
 },
 "nbformat": 4,
 "nbformat_minor": 5
}
