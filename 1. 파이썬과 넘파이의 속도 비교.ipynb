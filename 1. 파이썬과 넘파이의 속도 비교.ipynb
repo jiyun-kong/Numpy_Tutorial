{
 "cells": [
  {
   "cell_type": "markdown",
   "id": "549c3a7a",
   "metadata": {},
   "source": [
    "## 파이썬과 넘파이의 속도 비교\n",
    "* Numpy는 컴파일된 C 코드의 뒤에서 발생하여 백터화된 코드로, 더 간결하며 읽기 쉽다. "
   ]
  },
  {
   "cell_type": "markdown",
   "id": "bbdfe722",
   "metadata": {},
   "source": [
    "### 파이썬"
   ]
  },
  {
   "cell_type": "code",
   "execution_count": 2,
   "id": "0a8578aa",
   "metadata": {
    "ExecuteTime": {
     "end_time": "2022-05-01T01:29:56.918385Z",
     "start_time": "2022-05-01T01:29:56.084469Z"
    }
   },
   "outputs": [],
   "source": [
    "import numpy as np"
   ]
  },
  {
   "cell_type": "code",
   "execution_count": 5,
   "id": "20a824b2",
   "metadata": {
    "ExecuteTime": {
     "end_time": "2022-05-01T01:30:24.298304Z",
     "start_time": "2022-05-01T01:30:24.282337Z"
    }
   },
   "outputs": [
    {
     "data": {
      "text/plain": [
       "array([0, 1, 2, 3, 4])"
      ]
     },
     "execution_count": 5,
     "metadata": {},
     "output_type": "execute_result"
    }
   ],
   "source": [
    "a = np.arange(5)\n",
    "a"
   ]
  },
  {
   "cell_type": "code",
   "execution_count": 6,
   "id": "a9252edc",
   "metadata": {
    "ExecuteTime": {
     "end_time": "2022-05-01T01:30:46.368039Z",
     "start_time": "2022-05-01T01:30:46.349092Z"
    }
   },
   "outputs": [
    {
     "data": {
      "text/plain": [
       "array([5, 6, 7, 8, 9])"
      ]
     },
     "execution_count": 6,
     "metadata": {},
     "output_type": "execute_result"
    }
   ],
   "source": [
    "b = np.arange(5,10)\n",
    "b"
   ]
  },
  {
   "cell_type": "code",
   "execution_count": 11,
   "id": "c81b8c4a",
   "metadata": {
    "ExecuteTime": {
     "end_time": "2022-05-01T01:33:09.032856Z",
     "start_time": "2022-05-01T01:32:55.433213Z"
    }
   },
   "outputs": [
    {
     "name": "stdout",
     "output_type": "stream",
     "text": [
      "1.67 µs ± 22 ns per loop (mean ± std. dev. of 7 runs, 1000000 loops each)\n"
     ]
    }
   ],
   "source": [
    "%%timeit\n",
    "c = []\n",
    "for i in range(len(a)):\n",
    "    c.append(a[i]*b[i])\n",
    "c"
   ]
  },
  {
   "cell_type": "markdown",
   "id": "38e915f8",
   "metadata": {
    "ExecuteTime": {
     "end_time": "2022-05-01T01:32:34.058890Z",
     "start_time": "2022-05-01T01:32:34.051909Z"
    }
   },
   "source": [
    "### 넘파이"
   ]
  },
  {
   "cell_type": "code",
   "execution_count": 12,
   "id": "ee455e80",
   "metadata": {
    "ExecuteTime": {
     "end_time": "2022-05-01T01:33:22.441330Z",
     "start_time": "2022-05-01T01:33:19.400456Z"
    }
   },
   "outputs": [
    {
     "name": "stdout",
     "output_type": "stream",
     "text": [
      "371 ns ± 16.1 ns per loop (mean ± std. dev. of 7 runs, 1000000 loops each)\n"
     ]
    }
   ],
   "source": [
    "%%timeit\n",
    "c = a * b\n",
    "c"
   ]
  }
 ],
 "metadata": {
  "kernelspec": {
   "display_name": "Python 3",
   "language": "python",
   "name": "python3"
  },
  "language_info": {
   "codemirror_mode": {
    "name": "ipython",
    "version": 3
   },
   "file_extension": ".py",
   "mimetype": "text/x-python",
   "name": "python",
   "nbconvert_exporter": "python",
   "pygments_lexer": "ipython3",
   "version": "3.8.8"
  },
  "toc": {
   "base_numbering": 1,
   "nav_menu": {},
   "number_sections": true,
   "sideBar": true,
   "skip_h1_title": false,
   "title_cell": "Table of Contents",
   "title_sidebar": "Contents",
   "toc_cell": false,
   "toc_position": {},
   "toc_section_display": true,
   "toc_window_display": false
  }
 },
 "nbformat": 4,
 "nbformat_minor": 5
}
