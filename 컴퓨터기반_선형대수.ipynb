{
  "nbformat": 4,
  "nbformat_minor": 0,
  "metadata": {
    "colab": {
      "provenance": [],
      "collapsed_sections": [],
      "toc_visible": true,
      "authorship_tag": "ABX9TyOZueTfJp/ukp4kWmGmHvEU",
      "include_colab_link": true
    },
    "kernelspec": {
      "name": "python3",
      "display_name": "Python 3"
    },
    "language_info": {
      "name": "python"
    }
  },
  "cells": [
    {
      "cell_type": "markdown",
      "metadata": {
        "id": "view-in-github",
        "colab_type": "text"
      },
      "source": [
        "<a href=\"https://colab.research.google.com/github/jiyun-kong/Numpy_Tutorial/blob/main/%EC%BB%B4%ED%93%A8%ED%84%B0%EA%B8%B0%EB%B0%98_%EC%84%A0%ED%98%95%EB%8C%80%EC%88%98.ipynb\" target=\"_parent\"><img src=\"https://colab.research.google.com/assets/colab-badge.svg\" alt=\"Open In Colab\"/></a>"
      ]
    },
    {
      "cell_type": "markdown",
      "source": [
        "# **1. Introduction to Linear Algebra**\n",
        "## 1) Basic math concepts"
      ],
      "metadata": {
        "id": "g4DmW9dwRGNS"
      }
    },
    {
      "cell_type": "markdown",
      "source": [
        "### Types of Matrices with Python"
      ],
      "metadata": {
        "id": "irSwLoyQRQew"
      }
    },
    {
      "cell_type": "code",
      "source": [
        "import numpy as np\n",
        "A = np.array ([[2, 3, 4],\n",
        "               [4, 8, 2],\n",
        "               [1, 2, 1]])"
      ],
      "metadata": {
        "id": "pOcrrm2vRF1b"
      },
      "execution_count": 1,
      "outputs": []
    },
    {
      "cell_type": "code",
      "execution_count": 2,
      "metadata": {
        "colab": {
          "base_uri": "https://localhost:8080/"
        },
        "id": "t4t8Ej8vRB4L",
        "outputId": "f7a18dcb-04a5-4100-d215-66706391b01a"
      },
      "outputs": [
        {
          "output_type": "execute_result",
          "data": {
            "text/plain": [
              "array([[2, 3, 4],\n",
              "       [4, 8, 2],\n",
              "       [1, 2, 1]])"
            ]
          },
          "metadata": {},
          "execution_count": 2
        }
      ],
      "source": [
        "A"
      ]
    },
    {
      "cell_type": "code",
      "source": [
        "A[1, ]"
      ],
      "metadata": {
        "colab": {
          "base_uri": "https://localhost:8080/"
        },
        "id": "oVSSpVDURe4d",
        "outputId": "5ad2471e-7b69-4d5d-a848-21d3c50d0197"
      },
      "execution_count": 3,
      "outputs": [
        {
          "output_type": "execute_result",
          "data": {
            "text/plain": [
              "array([4, 8, 2])"
            ]
          },
          "metadata": {},
          "execution_count": 3
        }
      ]
    },
    {
      "cell_type": "code",
      "source": [
        "A[:, 2]"
      ],
      "metadata": {
        "colab": {
          "base_uri": "https://localhost:8080/"
        },
        "id": "P8QZKrttRgkA",
        "outputId": "d071d50e-5c34-41ae-f11e-80a3451d111f"
      },
      "execution_count": 4,
      "outputs": [
        {
          "output_type": "execute_result",
          "data": {
            "text/plain": [
              "array([4, 2, 1])"
            ]
          },
          "metadata": {},
          "execution_count": 4
        }
      ]
    },
    {
      "cell_type": "code",
      "source": [
        "A.transpose()"
      ],
      "metadata": {
        "colab": {
          "base_uri": "https://localhost:8080/"
        },
        "id": "ZmAoOha1RifA",
        "outputId": "2c7dd90a-a8a2-44ba-a093-385a555b76ee"
      },
      "execution_count": 5,
      "outputs": [
        {
          "output_type": "execute_result",
          "data": {
            "text/plain": [
              "array([[2, 4, 1],\n",
              "       [3, 8, 2],\n",
              "       [4, 2, 1]])"
            ]
          },
          "metadata": {},
          "execution_count": 5
        }
      ]
    },
    {
      "cell_type": "markdown",
      "source": [
        "### Basic operations of Matrix & Vector with Python"
      ],
      "metadata": {
        "id": "mmigLExTRnWn"
      }
    },
    {
      "cell_type": "code",
      "source": [
        "A = np.array([[3, 0],\n",
        "              [-1, 2],\n",
        "              [1, 1]])\n",
        "B = np.array([[-3, 1],\n",
        "              [2, 1],\n",
        "              [4, 3]])\n",
        "C = np.array([[1, 2, 3],\n",
        "              [2, 0, 1]])\n",
        "D = np.array([[1],\n",
        "              [2],\n",
        "              [3]])"
      ],
      "metadata": {
        "id": "OxVATqUARkLb"
      },
      "execution_count": 6,
      "outputs": []
    },
    {
      "cell_type": "code",
      "source": [
        "A + 2*B"
      ],
      "metadata": {
        "colab": {
          "base_uri": "https://localhost:8080/"
        },
        "id": "VNXS1VR9R_sa",
        "outputId": "bf76248a-5098-40f3-b2cc-c4e27bb63fac"
      },
      "execution_count": 7,
      "outputs": [
        {
          "output_type": "execute_result",
          "data": {
            "text/plain": [
              "array([[-3,  2],\n",
              "       [ 3,  4],\n",
              "       [ 9,  7]])"
            ]
          },
          "metadata": {},
          "execution_count": 7
        }
      ]
    },
    {
      "cell_type": "code",
      "source": [
        "np.dot(A, C)"
      ],
      "metadata": {
        "colab": {
          "base_uri": "https://localhost:8080/"
        },
        "id": "EZr8VcnESBN8",
        "outputId": "bfcaed06-a100-446b-dc24-af141f1170f5"
      },
      "execution_count": 8,
      "outputs": [
        {
          "output_type": "execute_result",
          "data": {
            "text/plain": [
              "array([[ 3,  6,  9],\n",
              "       [ 3, -2, -1],\n",
              "       [ 3,  2,  4]])"
            ]
          },
          "metadata": {},
          "execution_count": 8
        }
      ]
    },
    {
      "cell_type": "code",
      "source": [
        "3 * D"
      ],
      "metadata": {
        "colab": {
          "base_uri": "https://localhost:8080/"
        },
        "id": "cuTtoI_YSCg9",
        "outputId": "81ce6c98-6bf9-4bb0-fc6e-ed18a4c705cd"
      },
      "execution_count": 9,
      "outputs": [
        {
          "output_type": "execute_result",
          "data": {
            "text/plain": [
              "array([[3],\n",
              "       [6],\n",
              "       [9]])"
            ]
          },
          "metadata": {},
          "execution_count": 9
        }
      ]
    },
    {
      "cell_type": "code",
      "source": [
        "v = np.array([1, 2, 3])"
      ],
      "metadata": {
        "id": "j1OMaJB5SEss"
      },
      "execution_count": 10,
      "outputs": []
    },
    {
      "cell_type": "code",
      "source": [
        "A.shape"
      ],
      "metadata": {
        "colab": {
          "base_uri": "https://localhost:8080/"
        },
        "id": "z-0ffvGdSOoF",
        "outputId": "931fc9df-88f9-4148-aebb-de9420bb56ab"
      },
      "execution_count": 11,
      "outputs": [
        {
          "output_type": "execute_result",
          "data": {
            "text/plain": [
              "(3, 2)"
            ]
          },
          "metadata": {},
          "execution_count": 11
        }
      ]
    },
    {
      "cell_type": "code",
      "source": [
        "B.shape"
      ],
      "metadata": {
        "colab": {
          "base_uri": "https://localhost:8080/"
        },
        "id": "P1cgLr1fSPn8",
        "outputId": "03cd3ecf-8bc4-4926-de72-f097042a24f7"
      },
      "execution_count": 12,
      "outputs": [
        {
          "output_type": "execute_result",
          "data": {
            "text/plain": [
              "(3, 2)"
            ]
          },
          "metadata": {},
          "execution_count": 12
        }
      ]
    },
    {
      "cell_type": "code",
      "source": [
        "C.shape"
      ],
      "metadata": {
        "colab": {
          "base_uri": "https://localhost:8080/"
        },
        "id": "tuiZfehuSQMS",
        "outputId": "8ec5b038-c365-43c7-9170-79b5187122a9"
      },
      "execution_count": 13,
      "outputs": [
        {
          "output_type": "execute_result",
          "data": {
            "text/plain": [
              "(2, 3)"
            ]
          },
          "metadata": {},
          "execution_count": 13
        }
      ]
    },
    {
      "cell_type": "code",
      "source": [
        "D.shape"
      ],
      "metadata": {
        "colab": {
          "base_uri": "https://localhost:8080/"
        },
        "id": "LBv9J5i4SQ2J",
        "outputId": "b2d32a29-adb4-48c3-80c4-36454c9c142b"
      },
      "execution_count": 14,
      "outputs": [
        {
          "output_type": "execute_result",
          "data": {
            "text/plain": [
              "(3, 1)"
            ]
          },
          "metadata": {},
          "execution_count": 14
        }
      ]
    },
    {
      "cell_type": "code",
      "source": [
        "v.shape"
      ],
      "metadata": {
        "colab": {
          "base_uri": "https://localhost:8080/"
        },
        "id": "BmBw572jSRr2",
        "outputId": "421416a4-1952-46cd-cfc5-8c56ebba98ea"
      },
      "execution_count": 15,
      "outputs": [
        {
          "output_type": "execute_result",
          "data": {
            "text/plain": [
              "(3,)"
            ]
          },
          "metadata": {},
          "execution_count": 15
        }
      ]
    },
    {
      "cell_type": "markdown",
      "source": [
        "# **2. Linear Equation**"
      ],
      "metadata": {
        "id": "2AmgAzV3LS39"
      }
    },
    {
      "cell_type": "code",
      "source": [
        "import matplotlib.pyplot as plt\n",
        "import numpy as np\n",
        "\n",
        "# y = ax + b\n",
        "def draw_linear_graph(x, a, b):\n",
        "  y = [(a * num + b) for num in x]\n",
        "  return y\n",
        "\n",
        "x = np.arange(-1, 4, 0.1)\n",
        "plt.plot(x, draw_linear_graph(x, -1, 1), x, draw_linear_graph(x, 1, -1), x, draw_linear_graph(x, 1/3, 1))\n",
        "plt.show()"
      ],
      "metadata": {
        "colab": {
          "base_uri": "https://localhost:8080/",
          "height": 265
        },
        "id": "UvEHXhVjLSe2",
        "outputId": "ff816d1f-005c-4d36-e689-b3eed86fe578"
      },
      "execution_count": 25,
      "outputs": [
        {
          "output_type": "display_data",
          "data": {
            "text/plain": [
              "<Figure size 432x288 with 1 Axes>"
            ],
            "image/png": "[encoded data removed]"
          },
          "metadata": {
            "needs_background": "light"
          }
        }
      ]
    },
    {
      "cell_type": "markdown",
      "source": [
        "## Creating the special array in Numpy"
      ],
      "metadata": {
        "id": "qp3Kq5DFOtHt"
      }
    },
    {
      "cell_type": "code",
      "source": [
        "A = np.zeros((2, 3))\n",
        "A"
      ],
      "metadata": {
        "colab": {
          "base_uri": "https://localhost:8080/"
        },
        "id": "RldbhL-SOswE",
        "outputId": "231c2fcc-8a97-4c14-affd-5c35bf2a9330"
      },
      "execution_count": 28,
      "outputs": [
        {
          "output_type": "execute_result",
          "data": {
            "text/plain": [
              "array([[0., 0., 0.],\n",
              "       [0., 0., 0.]])"
            ]
          },
          "metadata": {},
          "execution_count": 28
        }
      ]
    },
    {
      "cell_type": "code",
      "source": [
        "B = np.ones((2, 2))\n",
        "B"
      ],
      "metadata": {
        "id": "FNWFWus6STIW",
        "colab": {
          "base_uri": "https://localhost:8080/"
        },
        "outputId": "22130330-280a-43fe-8481-1a9ab7d4fcd7"
      },
      "execution_count": 30,
      "outputs": [
        {
          "output_type": "execute_result",
          "data": {
            "text/plain": [
              "array([[1., 1.],\n",
              "       [1., 1.]])"
            ]
          },
          "metadata": {},
          "execution_count": 30
        }
      ]
    },
    {
      "cell_type": "code",
      "source": [
        "C = np.full((3, 2), 3)\n",
        "C"
      ],
      "metadata": {
        "colab": {
          "base_uri": "https://localhost:8080/"
        },
        "id": "LgV8pRRGO9g-",
        "outputId": "d57fff2d-7fd4-41da-8e4d-bc794a16565e"
      },
      "execution_count": 32,
      "outputs": [
        {
          "output_type": "execute_result",
          "data": {
            "text/plain": [
              "array([[3, 3],\n",
              "       [3, 3],\n",
              "       [3, 3]])"
            ]
          },
          "metadata": {},
          "execution_count": 32
        }
      ]
    },
    {
      "cell_type": "code",
      "source": [
        "D = np.eye(2) # 2X2 identity matrix\n",
        "D"
      ],
      "metadata": {
        "colab": {
          "base_uri": "https://localhost:8080/"
        },
        "id": "eJqV1lsOPEM1",
        "outputId": "8c1a1101-0db6-48e9-a819-468ffe969785"
      },
      "execution_count": 34,
      "outputs": [
        {
          "output_type": "execute_result",
          "data": {
            "text/plain": [
              "array([[1., 0.],\n",
              "       [0., 1.]])"
            ]
          },
          "metadata": {},
          "execution_count": 34
        }
      ]
    },
    {
      "cell_type": "markdown",
      "source": [
        "## 가우스 조던 소거법"
      ],
      "metadata": {
        "id": "ie3uqxMectBI"
      }
    },
    {
      "cell_type": "code",
      "source": [
        "import numpy as np\n",
        "a = [[5, 2], [2, 1]]\n",
        "b = [14, 4]\n",
        "\n",
        "result = np.linalg.solve(a, b) # linalg -> linear algebra\n",
        "print(result)"
      ],
      "metadata": {
        "colab": {
          "base_uri": "https://localhost:8080/"
        },
        "id": "Q2y6ZvrtcvQl",
        "outputId": "ef9d4fdd-840a-43a7-e444-870f22f5da7f"
      },
      "execution_count": 16,
      "outputs": [
        {
          "output_type": "stream",
          "name": "stdout",
          "text": [
            "[ 6. -8.]\n"
          ]
        }
      ]
    },
    {
      "cell_type": "code",
      "source": [
        "a = [[5, 2, 1], [2, -3, -4], [1, 5, -2]]\n",
        "b = [14, 4, 21]\n",
        "\n",
        "result = np.linalg.solve(a, b)\n",
        "print(result)"
      ],
      "metadata": {
        "colab": {
          "base_uri": "https://localhost:8080/"
        },
        "id": "Fzi_Fp4qc4vG",
        "outputId": "e60d532b-b58f-4df6-dd4a-3dda006e826a"
      },
      "execution_count": 17,
      "outputs": [
        {
          "output_type": "stream",
          "name": "stdout",
          "text": [
            "[ 2.06293706  2.92307692 -2.16083916]\n"
          ]
        }
      ]
    },
    {
      "cell_type": "code",
      "source": [
        "a = [[1, 2, -3], [2, -1, -1], [3, 2, 1]]\n",
        "b = [3, 11, -5]\n",
        "\n",
        "result = np.linalg.solve(a, b)\n",
        "print(result)"
      ],
      "metadata": {
        "colab": {
          "base_uri": "https://localhost:8080/"
        },
        "id": "B6TbPoU6dFUM",
        "outputId": "3785df08-bafa-4a15-c14e-61e9009624cd"
      },
      "execution_count": 18,
      "outputs": [
        {
          "output_type": "stream",
          "name": "stdout",
          "text": [
            "[ 2. -4. -3.]\n"
          ]
        }
      ]
    },
    {
      "cell_type": "code",
      "source": [
        "a = [[2, 2, 1], [1, -3, 4], [3, -1, 6]]\n",
        "b = [10, 0, 12]\n",
        "\n",
        "result = np.linalg.solve(a, b)\n",
        "print(result)"
      ],
      "metadata": {
        "colab": {
          "base_uri": "https://localhost:8080/"
        },
        "id": "GfR9EfJ3dYQP",
        "outputId": "789d920e-4e47-425c-9d9f-fafc30fca705"
      },
      "execution_count": 19,
      "outputs": [
        {
          "output_type": "stream",
          "name": "stdout",
          "text": [
            "[1. 3. 2.]\n"
          ]
        }
      ]
    },
    {
      "cell_type": "code",
      "source": [
        "a = [[2, 3, 1], [1, 1, 1], [3, 4, 2]]\n",
        "b = [1, 3, 4]\n",
        "\n",
        "result = np.linalg.solve(a, b)\n",
        "print(result)"
      ],
      "metadata": {
        "colab": {
          "base_uri": "https://localhost:8080/"
        },
        "id": "pU9fNxICe6M6",
        "outputId": "dc8068cf-befb-4808-cda8-3108a66ac162"
      },
      "execution_count": 21,
      "outputs": [
        {
          "output_type": "stream",
          "name": "stdout",
          "text": [
            "[ 0. -1.  4.]\n"
          ]
        }
      ]
    },
    {
      "cell_type": "code",
      "source": [
        "a = [[1, -1, 2], [2, 3, -1], [7, 3, 4]]\n",
        "b = [4, 1, 7]\n",
        "\n",
        "# result = np.linalg.solve(a, b)\n",
        "# print(result) : 해가 존재하지 않는다."
      ],
      "metadata": {
        "id": "53h5XSB6dviN"
      },
      "execution_count": 24,
      "outputs": []
    },
    {
      "cell_type": "markdown",
      "source": [
        "# **3. Matrix**"
      ],
      "metadata": {
        "id": "rFZdJkRSQbjl"
      }
    },
    {
      "cell_type": "code",
      "source": [
        "import numpy as np\n",
        "\n",
        "A = np.array([[1, 4, 7], [2, 5, 8], [6, 3, 2]])\n",
        "B = np.array([[2], [5], [8]])\n",
        "C = np.array([[-4, 9]])\n",
        "D = np.array([[2, 4, 8, 4], [4, 8, 3, 1], [7, 3, 0, 5]])"
      ],
      "metadata": {
        "id": "4yc28gjtQhdx"
      },
      "execution_count": 35,
      "outputs": []
    },
    {
      "cell_type": "code",
      "source": [
        "print(A.shape)\n",
        "print(B.shape)\n",
        "print(C.shape)"
      ],
      "metadata": {
        "colab": {
          "base_uri": "https://localhost:8080/"
        },
        "id": "vTJr7CbeRVYV",
        "outputId": "2d4da470-4b49-4191-faa9-a1aa7979359f"
      },
      "execution_count": 37,
      "outputs": [
        {
          "output_type": "stream",
          "name": "stdout",
          "text": [
            "(3, 3)\n",
            "(3, 1)\n",
            "(1, 2)\n"
          ]
        }
      ]
    },
    {
      "cell_type": "code",
      "source": [
        "print(D[1, 2])"
      ],
      "metadata": {
        "colab": {
          "base_uri": "https://localhost:8080/"
        },
        "id": "jPLisSJGRYDr",
        "outputId": "49fbb7dc-1436-4106-dbd7-17e9820a609f"
      },
      "execution_count": 38,
      "outputs": [
        {
          "output_type": "stream",
          "name": "stdout",
          "text": [
            "3\n"
          ]
        }
      ]
    },
    {
      "cell_type": "code",
      "source": [
        "print(D[2, 3])"
      ],
      "metadata": {
        "colab": {
          "base_uri": "https://localhost:8080/"
        },
        "id": "e2-5sMwjRjOC",
        "outputId": "5ffe9531-8b00-4c8d-bda8-59e2ea01ac15"
      },
      "execution_count": 39,
      "outputs": [
        {
          "output_type": "stream",
          "name": "stdout",
          "text": [
            "5\n"
          ]
        }
      ]
    },
    {
      "cell_type": "code",
      "source": [
        "print(A[1, ])"
      ],
      "metadata": {
        "colab": {
          "base_uri": "https://localhost:8080/"
        },
        "id": "EoFx5H6CRk3g",
        "outputId": "c0f5409c-b6bc-48ca-ee4f-9e7c125a21fc"
      },
      "execution_count": 40,
      "outputs": [
        {
          "output_type": "stream",
          "name": "stdout",
          "text": [
            "[2 5 8]\n"
          ]
        }
      ]
    },
    {
      "cell_type": "code",
      "source": [
        "print(D[:, 2])"
      ],
      "metadata": {
        "colab": {
          "base_uri": "https://localhost:8080/"
        },
        "id": "eDPhbaYBRnRP",
        "outputId": "3a97cf81-2ff8-42c5-daee-229da3e1147b"
      },
      "execution_count": 41,
      "outputs": [
        {
          "output_type": "stream",
          "name": "stdout",
          "text": [
            "[8 3 0]\n"
          ]
        }
      ]
    },
    {
      "cell_type": "code",
      "source": [
        "A = np.array([[1, 4, 7], [2, 5, 8], [6, 3, 2]])\n",
        "print(np.diag(A))"
      ],
      "metadata": {
        "colab": {
          "base_uri": "https://localhost:8080/"
        },
        "id": "dUn4RU56Rr8Y",
        "outputId": "cd88e221-16ed-4f27-ce0c-36e52706be2d"
      },
      "execution_count": 42,
      "outputs": [
        {
          "output_type": "stream",
          "name": "stdout",
          "text": [
            "[1 5 2]\n"
          ]
        }
      ]
    },
    {
      "cell_type": "code",
      "source": [
        "O = np.zeros((3, 3))\n",
        "print(O)"
      ],
      "metadata": {
        "colab": {
          "base_uri": "https://localhost:8080/"
        },
        "id": "D7P5t6jLR0pB",
        "outputId": "b0e6cdb1-4250-47d8-f886-e111115e418d"
      },
      "execution_count": 45,
      "outputs": [
        {
          "output_type": "stream",
          "name": "stdout",
          "text": [
            "[[0. 0. 0.]\n",
            " [0. 0. 0.]\n",
            " [0. 0. 0.]]\n"
          ]
        }
      ]
    },
    {
      "cell_type": "code",
      "source": [
        "O = np.zeros((3, 4))\n",
        "print(O)"
      ],
      "metadata": {
        "colab": {
          "base_uri": "https://localhost:8080/"
        },
        "id": "LGXQPMUtR3yQ",
        "outputId": "d9f78033-b141-4447-e922-1c4bd14ac028"
      },
      "execution_count": 46,
      "outputs": [
        {
          "output_type": "stream",
          "name": "stdout",
          "text": [
            "[[0. 0. 0. 0.]\n",
            " [0. 0. 0. 0.]\n",
            " [0. 0. 0. 0.]]\n"
          ]
        }
      ]
    },
    {
      "cell_type": "code",
      "source": [
        "I = np.eye(3)\n",
        "print(I)"
      ],
      "metadata": {
        "colab": {
          "base_uri": "https://localhost:8080/"
        },
        "id": "0EdemAJWR-aq",
        "outputId": "bad41d0a-b87a-4848-8e01-3d03252e79a3"
      },
      "execution_count": 47,
      "outputs": [
        {
          "output_type": "stream",
          "name": "stdout",
          "text": [
            "[[1. 0. 0.]\n",
            " [0. 1. 0.]\n",
            " [0. 0. 1.]]\n"
          ]
        }
      ]
    },
    {
      "cell_type": "markdown",
      "source": [
        "## Matrix Operation"
      ],
      "metadata": {
        "id": "W4HCoh8DSCzX"
      }
    },
    {
      "cell_type": "code",
      "source": [
        "A = np.array([[2, 3, 4], [1, 4, 2]])\n",
        "B = np.array([[1, 2, -2], [4, 5, 6]])"
      ],
      "metadata": {
        "id": "rO0v-2PmSBDt"
      },
      "execution_count": 48,
      "outputs": []
    },
    {
      "cell_type": "code",
      "source": [
        "C = A + B\n",
        "print(C)"
      ],
      "metadata": {
        "colab": {
          "base_uri": "https://localhost:8080/"
        },
        "id": "5nSczyWCSNOo",
        "outputId": "7f0ed5d8-3a22-46e9-d1d9-cb17a63114ac"
      },
      "execution_count": 49,
      "outputs": [
        {
          "output_type": "stream",
          "name": "stdout",
          "text": [
            "[[3 5 2]\n",
            " [5 9 8]]\n"
          ]
        }
      ]
    },
    {
      "cell_type": "code",
      "source": [
        "C = A - B\n",
        "print(C)"
      ],
      "metadata": {
        "colab": {
          "base_uri": "https://localhost:8080/"
        },
        "id": "zvumVsPVSPWI",
        "outputId": "4f5b3a39-3a27-4b9b-e346-8ec0bed4636d"
      },
      "execution_count": 50,
      "outputs": [
        {
          "output_type": "stream",
          "name": "stdout",
          "text": [
            "[[ 1  1  6]\n",
            " [-3 -1 -4]]\n"
          ]
        }
      ]
    },
    {
      "cell_type": "code",
      "source": [
        "print(3*A)"
      ],
      "metadata": {
        "colab": {
          "base_uri": "https://localhost:8080/"
        },
        "id": "cmXxcAUfSS6n",
        "outputId": "3b49b403-63f2-4f37-97b9-4c18fa01ce6f"
      },
      "execution_count": 51,
      "outputs": [
        {
          "output_type": "stream",
          "name": "stdout",
          "text": [
            "[[ 6  9 12]\n",
            " [ 3 12  6]]\n"
          ]
        }
      ]
    },
    {
      "cell_type": "markdown",
      "source": [
        "- 행렬의 곱셈"
      ],
      "metadata": {
        "id": "WiRv6ygCSnAX"
      }
    },
    {
      "cell_type": "code",
      "source": [
        "A = np.array([[2, 3], [3, 1], [4, 5]])\n",
        "B = np.array([[1, 2, 3], [2, 3, 4]])"
      ],
      "metadata": {
        "id": "1qpZX2OhSi19"
      },
      "execution_count": 52,
      "outputs": []
    },
    {
      "cell_type": "code",
      "source": [
        "print(np.matmul(A, B))\n",
        "print(np.dot(A, B))"
      ],
      "metadata": {
        "colab": {
          "base_uri": "https://localhost:8080/"
        },
        "id": "Zj7zeVhRSWfA",
        "outputId": "c43be876-6f25-412b-907e-3344a7e48841"
      },
      "execution_count": 53,
      "outputs": [
        {
          "output_type": "stream",
          "name": "stdout",
          "text": [
            "[[ 8 13 18]\n",
            " [ 5  9 13]\n",
            " [14 23 32]]\n",
            "[[ 8 13 18]\n",
            " [ 5  9 13]\n",
            " [14 23 32]]\n"
          ]
        }
      ]
    },
    {
      "cell_type": "code",
      "source": [
        "print(np.matmul(A, B) == np.matmul(B, A))"
      ],
      "metadata": {
        "colab": {
          "base_uri": "https://localhost:8080/"
        },
        "id": "a5yc4bnhS1Z0",
        "outputId": "b9aeec47-f534-41b0-a431-000c2c21a4d0"
      },
      "execution_count": 54,
      "outputs": [
        {
          "output_type": "stream",
          "name": "stdout",
          "text": [
            "False\n"
          ]
        },
        {
          "output_type": "stream",
          "name": "stderr",
          "text": [
            "/usr/local/lib/python3.7/dist-packages/ipykernel_launcher.py:1: DeprecationWarning: elementwise comparison failed; this will raise an error in the future.\n",
            "  \"\"\"Entry point for launching an IPython kernel.\n"
          ]
        }
      ]
    },
    {
      "cell_type": "code",
      "source": [
        "A = np.array([[1, 4, 7], [2, 5, 8], [6, 3, 2]])\n",
        "B = np.array([[0], [1], [0]])\n",
        "C = np.array([[0, 0, 1]])\n",
        "I = np.eye(3)"
      ],
      "metadata": {
        "id": "FlOIC0-IS8C2"
      },
      "execution_count": 57,
      "outputs": []
    },
    {
      "cell_type": "code",
      "source": [
        "print(np.matmul(A, B))\n",
        "print(np.matmul(C, A))\n",
        "print(np.matmul(C, I))\n",
        "print(np.matmul(I, B))"
      ],
      "metadata": {
        "colab": {
          "base_uri": "https://localhost:8080/"
        },
        "id": "BCU44cr6TNoe",
        "outputId": "bb18763f-978b-4ed8-c794-952b19f868b7"
      },
      "execution_count": 59,
      "outputs": [
        {
          "output_type": "stream",
          "name": "stdout",
          "text": [
            "[[4]\n",
            " [5]\n",
            " [3]]\n",
            "[[6 3 2]]\n",
            "[[0. 0. 1.]]\n",
            "[[0.]\n",
            " [1.]\n",
            " [0.]]\n"
          ]
        }
      ]
    },
    {
      "cell_type": "markdown",
      "source": [
        "- 행렬의 거듭제곱"
      ],
      "metadata": {
        "id": "8zAqpAeoTryp"
      }
    },
    {
      "cell_type": "code",
      "source": [
        "A = np.array([[1, 2], [3, 4]])\n",
        "print(A**2)"
      ],
      "metadata": {
        "colab": {
          "base_uri": "https://localhost:8080/"
        },
        "id": "7pBghHeuTQBB",
        "outputId": "a8ce9b77-2e42-4b04-f74a-2547eba9781c"
      },
      "execution_count": 60,
      "outputs": [
        {
          "output_type": "stream",
          "name": "stdout",
          "text": [
            "[[ 1  4]\n",
            " [ 9 16]]\n"
          ]
        }
      ]
    },
    {
      "cell_type": "code",
      "source": [
        "print(np.linalg.matrix_power(A, 0))\n",
        "print(np.linalg.matrix_power(A, 2))\n",
        "print(np.linalg.matrix_power(A, 3))"
      ],
      "metadata": {
        "colab": {
          "base_uri": "https://localhost:8080/"
        },
        "id": "RZXFzRGJaP2b",
        "outputId": "4fef2442-4dd0-431c-98b7-24fd9183985b"
      },
      "execution_count": 61,
      "outputs": [
        {
          "output_type": "stream",
          "name": "stdout",
          "text": [
            "[[1 0]\n",
            " [0 1]]\n",
            "[[ 7 10]\n",
            " [15 22]]\n",
            "[[ 37  54]\n",
            " [ 81 118]]\n"
          ]
        }
      ]
    },
    {
      "cell_type": "markdown",
      "source": [
        "- 행렬의 특징"
      ],
      "metadata": {
        "id": "GCh0AERRalWm"
      }
    },
    {
      "cell_type": "code",
      "source": [
        "A = np.array([[1, 2], [3, 4]])\n",
        "B = np.array([[3, 1], [5, 2]])\n",
        "\n",
        "print(np.linalg.matrix_power(A+B, 2))\n",
        "print(np.linalg.matrix_power(A, 2) + np.linalg.matrix_power(B, 2) + 2*np.matmul(A, B))"
      ],
      "metadata": {
        "colab": {
          "base_uri": "https://localhost:8080/"
        },
        "id": "8dQkOzHOacPz",
        "outputId": "e05758fc-7163-4fce-a5b5-c6318323d5a8"
      },
      "execution_count": 63,
      "outputs": [
        {
          "output_type": "stream",
          "name": "stdout",
          "text": [
            "[[40 30]\n",
            " [80 60]]\n",
            "[[47 25]\n",
            " [98 53]]\n"
          ]
        }
      ]
    },
    {
      "cell_type": "code",
      "source": [
        "print(np.linalg.matrix_power(A-B, 2))\n",
        "print(np.linalg.matrix_power(A, 2) + np.linalg.matrix_power(B, 2) - 2*np.matmul(A, B))"
      ],
      "metadata": {
        "colab": {
          "base_uri": "https://localhost:8080/"
        },
        "id": "ypKlWPzba7IE",
        "outputId": "5bb78c9b-24a2-4f90-a3b0-a1ee641f146c"
      },
      "execution_count": 64,
      "outputs": [
        {
          "output_type": "stream",
          "name": "stdout",
          "text": [
            "[[2 0]\n",
            " [0 2]]\n",
            "[[ -5   5]\n",
            " [-18   9]]\n"
          ]
        }
      ]
    },
    {
      "cell_type": "markdown",
      "source": [
        "## Inverse Matrix"
      ],
      "metadata": {
        "id": "ulYuSLXWbGG-"
      }
    },
    {
      "cell_type": "code",
      "source": [
        "A = np.array([[1, 2], [1, 3]])\n",
        "B = np.array([[3, -2], [-1, 1]])\n",
        "\n",
        "print(np.matmul(A, B))\n",
        "print(np.matmul(B, A))"
      ],
      "metadata": {
        "colab": {
          "base_uri": "https://localhost:8080/"
        },
        "id": "cXfBzLHaa_-g",
        "outputId": "566d6a8b-7b09-46e8-c343-d371e23e148b"
      },
      "execution_count": 65,
      "outputs": [
        {
          "output_type": "stream",
          "name": "stdout",
          "text": [
            "[[1 0]\n",
            " [0 1]]\n",
            "[[1 0]\n",
            " [0 1]]\n"
          ]
        }
      ]
    },
    {
      "cell_type": "code",
      "source": [
        "A = np.array([[2, -3], [1, 7]])\n",
        "B = np.array([[2, 4], [1, -3]])\n",
        "C = np.array([[2, 4], [1, 2]])\n",
        "\n",
        "print(np.linalg.inv(A))\n",
        "print(np.linalg.inv(B))\n",
        "# print(np.linalg.inv(C))"
      ],
      "metadata": {
        "colab": {
          "base_uri": "https://localhost:8080/"
        },
        "id": "9NoUM-eabmAG",
        "outputId": "ec830f67-b714-4d42-e84b-afe6c2fdc6e4"
      },
      "execution_count": 67,
      "outputs": [
        {
          "output_type": "stream",
          "name": "stdout",
          "text": [
            "[[ 0.41176471  0.17647059]\n",
            " [-0.05882353  0.11764706]]\n",
            "[[ 0.3  0.4]\n",
            " [ 0.1 -0.2]]\n"
          ]
        }
      ]
    },
    {
      "cell_type": "code",
      "source": [
        "A = np.array([[1, -3], [2, -4]])\n",
        "B = np.array([[-2, 5], [-1, 3]])\n",
        "A_inv = np.linalg.inv(A)\n",
        "B_inv = np.linalg.inv(B)\n",
        "\n",
        "print(A_inv)\n",
        "print(np.linalg.inv(A_inv))\n",
        "print(B_inv)\n",
        "print(np.linalg.inv(B_inv))"
      ],
      "metadata": {
        "colab": {
          "base_uri": "https://localhost:8080/"
        },
        "id": "v0kzrKtob3wt",
        "outputId": "340f1909-948d-4e21-f021-d827d317f055"
      },
      "execution_count": 72,
      "outputs": [
        {
          "output_type": "stream",
          "name": "stdout",
          "text": [
            "[[-2.   1.5]\n",
            " [-1.   0.5]]\n",
            "[[ 1. -3.]\n",
            " [ 2. -4.]]\n",
            "[[-3.  5.]\n",
            " [-1.  2.]]\n",
            "[[-2.  5.]\n",
            " [-1.  3.]]\n"
          ]
        }
      ]
    },
    {
      "cell_type": "code",
      "source": [
        "print(np.linalg.inv(np.matmul(A, B)))\n",
        "print(np.matmul(B_inv, A_inv))"
      ],
      "metadata": {
        "colab": {
          "base_uri": "https://localhost:8080/"
        },
        "id": "PKR_CsjZdOn1",
        "outputId": "5a48236e-4a00-483e-f2d5-8dd55eee95a9"
      },
      "execution_count": 73,
      "outputs": [
        {
          "output_type": "stream",
          "name": "stdout",
          "text": [
            "[[ 1.  -2. ]\n",
            " [-0.  -0.5]]\n",
            "[[ 1.  -2. ]\n",
            " [ 0.  -0.5]]\n"
          ]
        }
      ]
    },
    {
      "cell_type": "code",
      "source": [
        "print(np.linalg.inv(4*A))\n",
        "print(1/4*A_inv)"
      ],
      "metadata": {
        "colab": {
          "base_uri": "https://localhost:8080/"
        },
        "id": "njCsrH-Pd_db",
        "outputId": "68ed9cb0-54a9-43cd-89a2-bd8c0556b9ba"
      },
      "execution_count": 74,
      "outputs": [
        {
          "output_type": "stream",
          "name": "stdout",
          "text": [
            "[[-0.5    0.375]\n",
            " [-0.25   0.125]]\n",
            "[[-0.5    0.375]\n",
            " [-0.25   0.125]]\n"
          ]
        }
      ]
    },
    {
      "cell_type": "code",
      "source": [
        "A_2 = np.linalg.matrix_power(A, 2)\n",
        "print(np.linalg.inv(A_2))\n",
        "print(np.linalg.matrix_power(A_inv, 2))"
      ],
      "metadata": {
        "colab": {
          "base_uri": "https://localhost:8080/"
        },
        "id": "fmffJyWBeH25",
        "outputId": "541f5e53-d5ab-459e-a616-2d9c698add35"
      },
      "execution_count": 75,
      "outputs": [
        {
          "output_type": "stream",
          "name": "stdout",
          "text": [
            "[[ 2.5  -2.25]\n",
            " [ 1.5  -1.25]]\n",
            "[[ 2.5  -2.25]\n",
            " [ 1.5  -1.25]]\n"
          ]
        }
      ]
    },
    {
      "cell_type": "markdown",
      "source": [
        "## Special Matrix"
      ],
      "metadata": {
        "id": "AIRgjhTbegl0"
      }
    },
    {
      "cell_type": "markdown",
      "source": [
        "- Transpose Matrix"
      ],
      "metadata": {
        "id": "1oJ370fuepeM"
      }
    },
    {
      "cell_type": "code",
      "source": [
        "A = np.array([[1, 2, 3], [ 4, 5, 6]])\n",
        "B = np.array([[3, 2, 1], [4, 5, 6], [7, 8, 9]])\n",
        "\n",
        "print(A.transpose())\n",
        "print(B.transpose())"
      ],
      "metadata": {
        "colab": {
          "base_uri": "https://localhost:8080/"
        },
        "id": "Gkb7LvpGeage",
        "outputId": "39d056c4-da36-4bf1-a033-231b195dd3b5"
      },
      "execution_count": 76,
      "outputs": [
        {
          "output_type": "stream",
          "name": "stdout",
          "text": [
            "[[1 4]\n",
            " [2 5]\n",
            " [3 6]]\n",
            "[[3 4 7]\n",
            " [2 5 8]\n",
            " [1 6 9]]\n"
          ]
        }
      ]
    },
    {
      "cell_type": "code",
      "source": [
        "A = np.array([[1, 2], [3, 4]])\n",
        "B = np.array([[-2, 4], [1, 3]])\n",
        "transpose_A = A.transpose()\n",
        "transpose_B = B.transpose()\n",
        "\n",
        "print(transpose_A.transpose())\n",
        "\n",
        "print((A+B).transpose())\n",
        "print(transpose_A + transpose_B)\n",
        "\n",
        "print(np.matmul(A, B).transpose())\n",
        "print(np.matmul(transpose_B, transpose_A))\n",
        "\n",
        "print((3*A).transpose())\n",
        "print(3*transpose_A)\n",
        "\n",
        "print(np.linalg.inv(transpose_A))\n",
        "print(np.linalg.inv(A).transpose())"
      ],
      "metadata": {
        "colab": {
          "base_uri": "https://localhost:8080/"
        },
        "id": "dK78guOXhQAi",
        "outputId": "48cc9d89-bcce-43d5-e46a-06802314b21e"
      },
      "execution_count": 82,
      "outputs": [
        {
          "output_type": "stream",
          "name": "stdout",
          "text": [
            "[[1 2]\n",
            " [3 4]]\n",
            "[[-1  4]\n",
            " [ 6  7]]\n",
            "[[-1  4]\n",
            " [ 6  7]]\n",
            "[[ 0 -2]\n",
            " [10 24]]\n",
            "[[ 0 -2]\n",
            " [10 24]]\n",
            "[[ 3  9]\n",
            " [ 6 12]]\n",
            "[[ 3  9]\n",
            " [ 6 12]]\n",
            "[[-2.   1.5]\n",
            " [ 1.  -0.5]]\n",
            "[[-2.   1.5]\n",
            " [ 1.  -0.5]]\n"
          ]
        }
      ]
    },
    {
      "cell_type": "markdown",
      "source": [
        "- Symmetic & Skew-Symmetic Matrix"
      ],
      "metadata": {
        "id": "lb6bBOMUixj9"
      }
    },
    {
      "cell_type": "code",
      "source": [
        "A = np.array([[1, 2, 3], [2, 4, 5], [3, 5, 6]])\n",
        "print(A)\n",
        "print(A.transpose())"
      ],
      "metadata": {
        "colab": {
          "base_uri": "https://localhost:8080/"
        },
        "id": "j4Woog3Mh0E4",
        "outputId": "2c454501-599f-41ce-9715-9cca16215de5"
      },
      "execution_count": 84,
      "outputs": [
        {
          "output_type": "stream",
          "name": "stdout",
          "text": [
            "[[1 2 3]\n",
            " [2 4 5]\n",
            " [3 5 6]]\n",
            "[[1 2 3]\n",
            " [2 4 5]\n",
            " [3 5 6]]\n"
          ]
        }
      ]
    },
    {
      "cell_type": "code",
      "source": [
        "B = np.array([[0, 2, 3], [-2, 0, 5], [-3, -5, 0]])\n",
        "print(B)\n",
        "print(-B.transpose())"
      ],
      "metadata": {
        "colab": {
          "base_uri": "https://localhost:8080/"
        },
        "id": "-qa3LqIcj8tW",
        "outputId": "6a15b614-b61a-4f5b-9cd1-a32c42d5faec"
      },
      "execution_count": 85,
      "outputs": [
        {
          "output_type": "stream",
          "name": "stdout",
          "text": [
            "[[ 0  2  3]\n",
            " [-2  0  5]\n",
            " [-3 -5  0]]\n",
            "[[ 0  2  3]\n",
            " [-2  0  5]\n",
            " [-3 -5  0]]\n"
          ]
        }
      ]
    },
    {
      "cell_type": "markdown",
      "source": [
        "- Square +- Transpose matrix"
      ],
      "metadata": {
        "id": "j733tQ3ukTyH"
      }
    },
    {
      "cell_type": "code",
      "source": [
        "A = np.array([[5, 2, 1], [3, 6, 4], [2, 7, 2]])\n",
        "A_trans = A.transpose()\n",
        "\n",
        "print(A)\n",
        "print(1/2 * (A+A_trans) + 1/2 * (A-A_trans))"
      ],
      "metadata": {
        "colab": {
          "base_uri": "https://localhost:8080/"
        },
        "id": "OG__Pp0nkFsX",
        "outputId": "61587759-f491-4db3-cdeb-c12a2918a2dc"
      },
      "execution_count": 87,
      "outputs": [
        {
          "output_type": "stream",
          "name": "stdout",
          "text": [
            "[[5 2 1]\n",
            " [3 6 4]\n",
            " [2 7 2]]\n",
            "[[5. 2. 1.]\n",
            " [3. 6. 4.]\n",
            " [2. 7. 2.]]\n"
          ]
        }
      ]
    },
    {
      "cell_type": "markdown",
      "source": [
        "- Diagonal matrix"
      ],
      "metadata": {
        "id": "d9xe9-LIk1rX"
      }
    },
    {
      "cell_type": "code",
      "source": [
        "A = np.diag([1, 2, 3])\n",
        "B = np.diag([2, 4, 6])\n",
        "print(A)\n",
        "print(B)\n",
        "print(np.matmul(A, B))"
      ],
      "metadata": {
        "colab": {
          "base_uri": "https://localhost:8080/"
        },
        "id": "qiXOzcvnkxWh",
        "outputId": "80e8eb0f-83c7-4732-a4e3-6bb44e62824c"
      },
      "execution_count": 88,
      "outputs": [
        {
          "output_type": "stream",
          "name": "stdout",
          "text": [
            "[[1 0 0]\n",
            " [0 2 0]\n",
            " [0 0 3]]\n",
            "[[2 0 0]\n",
            " [0 4 0]\n",
            " [0 0 6]]\n",
            "[[ 2  0  0]\n",
            " [ 0  8  0]\n",
            " [ 0  0 18]]\n"
          ]
        }
      ]
    },
    {
      "cell_type": "code",
      "source": [
        "A = np.array([[5, 2, 1], [3, 6, 4], [2, 7, 2]])\n",
        "D = np.diag([2, 3, 4])\n",
        "print(np.matmul(A, D))\n",
        "print(np.matmul(D, A))"
      ],
      "metadata": {
        "colab": {
          "base_uri": "https://localhost:8080/"
        },
        "id": "Q9CBR3uSk_0S",
        "outputId": "a7730256-b4f1-4532-e007-058292e02852"
      },
      "execution_count": 92,
      "outputs": [
        {
          "output_type": "stream",
          "name": "stdout",
          "text": [
            "[[2 0 0]\n",
            " [0 3 0]\n",
            " [0 0 4]]\n",
            "[[10  6  4]\n",
            " [ 6 18 16]\n",
            " [ 4 21  8]]\n",
            "[[10  4  2]\n",
            " [ 9 18 12]\n",
            " [ 8 28  8]]\n"
          ]
        }
      ]
    },
    {
      "cell_type": "markdown",
      "source": [
        "- Trace"
      ],
      "metadata": {
        "id": "aIrHbOBhmHmu"
      }
    },
    {
      "cell_type": "code",
      "source": [
        "A = np.array([[2, 3, -1], [1, 8, 1]])\n",
        "np.trace(A)"
      ],
      "metadata": {
        "colab": {
          "base_uri": "https://localhost:8080/"
        },
        "id": "9KuxzspMlRPN",
        "outputId": "57a6cbfc-af14-4275-ba80-ad698fd23fc8"
      },
      "execution_count": 97,
      "outputs": [
        {
          "output_type": "execute_result",
          "data": {
            "text/plain": [
              "10"
            ]
          },
          "metadata": {},
          "execution_count": 97
        }
      ]
    },
    {
      "cell_type": "code",
      "source": [
        "print(np.trace(A))\n",
        "print(np.trace(A.transpose()))"
      ],
      "metadata": {
        "colab": {
          "base_uri": "https://localhost:8080/"
        },
        "id": "tVNDBkH4mOp6",
        "outputId": "59325d86-8d3a-421d-ee8e-4a7b4f9e9688"
      },
      "execution_count": 98,
      "outputs": [
        {
          "output_type": "stream",
          "name": "stdout",
          "text": [
            "10\n",
            "10\n"
          ]
        }
      ]
    },
    {
      "cell_type": "code",
      "source": [
        "print(np.trace(3*A))\n",
        "print(3*np.trace(A))"
      ],
      "metadata": {
        "colab": {
          "base_uri": "https://localhost:8080/"
        },
        "id": "QLqFIiFUmaIm",
        "outputId": "3bcfd27a-bcba-4074-eb49-466383d68cb1"
      },
      "execution_count": 99,
      "outputs": [
        {
          "output_type": "stream",
          "name": "stdout",
          "text": [
            "30\n",
            "30\n"
          ]
        }
      ]
    },
    {
      "cell_type": "code",
      "source": [
        "B = np.array([[2, 3, -3], [1, -1, 1]])\n",
        "print(np.trace(A+B))\n",
        "print(np.trace(A)+np.trace(B))"
      ],
      "metadata": {
        "colab": {
          "base_uri": "https://localhost:8080/"
        },
        "id": "qyv0o7pHmg9g",
        "outputId": "58a682f7-dfde-4ceb-e5e6-a0456743fca2"
      },
      "execution_count": 102,
      "outputs": [
        {
          "output_type": "stream",
          "name": "stdout",
          "text": [
            "11\n",
            "11\n"
          ]
        }
      ]
    },
    {
      "cell_type": "code",
      "source": [
        "print(np.trace(A-B))\n",
        "print(np.trace(A)-np.trace(B))"
      ],
      "metadata": {
        "colab": {
          "base_uri": "https://localhost:8080/"
        },
        "id": "HOyREmxcmuDY",
        "outputId": "acb97d63-8a68-4f3f-f42d-b5eb0291e97e"
      },
      "execution_count": 103,
      "outputs": [
        {
          "output_type": "stream",
          "name": "stdout",
          "text": [
            "9\n",
            "9\n"
          ]
        }
      ]
    },
    {
      "cell_type": "code",
      "source": [
        "A = np.array([[2, 3, -1], [1, 8, 1]])\n",
        "B = np.array([[2, 3], [-3, 1], [1, -1]])\n",
        "print(np.trace(np.matmul(A, B)))\n",
        "print(np.trace(np.matmul(B, A)))"
      ],
      "metadata": {
        "colab": {
          "base_uri": "https://localhost:8080/"
        },
        "id": "BZ0eCv-enCuM",
        "outputId": "e06137ce-e08d-484e-90c4-02a285fc2474"
      },
      "execution_count": 105,
      "outputs": [
        {
          "output_type": "stream",
          "name": "stdout",
          "text": [
            "4\n",
            "4\n"
          ]
        }
      ]
    },
    {
      "cell_type": "markdown",
      "source": [
        "- Triangular matrix"
      ],
      "metadata": {
        "id": "ibWcjBtEnYiQ"
      }
    },
    {
      "cell_type": "code",
      "source": [
        "A = np.array([[1, 2, 3], [4, 5, 6], [7, 8, 9]])\n",
        "print(np.triu(A, k=0))"
      ],
      "metadata": {
        "colab": {
          "base_uri": "https://localhost:8080/"
        },
        "id": "Agqe120snKow",
        "outputId": "e9be60fc-dd72-4e97-8983-28f4d0460fab"
      },
      "execution_count": 106,
      "outputs": [
        {
          "output_type": "stream",
          "name": "stdout",
          "text": [
            "[[1 2 3]\n",
            " [0 5 6]\n",
            " [0 0 9]]\n"
          ]
        }
      ]
    },
    {
      "cell_type": "code",
      "source": [
        "print(np.triu(A, k=1))"
      ],
      "metadata": {
        "colab": {
          "base_uri": "https://localhost:8080/"
        },
        "id": "P6a--zZlnlpN",
        "outputId": "6539228e-fe85-4fb7-8b16-11c2e4fd1aa7"
      },
      "execution_count": 109,
      "outputs": [
        {
          "output_type": "stream",
          "name": "stdout",
          "text": [
            "[[0 2 3]\n",
            " [0 0 6]\n",
            " [0 0 0]]\n"
          ]
        }
      ]
    },
    {
      "cell_type": "code",
      "source": [
        "print(np.triu(A, k=-1))"
      ],
      "metadata": {
        "colab": {
          "base_uri": "https://localhost:8080/"
        },
        "id": "ToxuvaMEnqPZ",
        "outputId": "c0f71c67-210a-4d7c-b245-2b9d75a6e918"
      },
      "execution_count": 110,
      "outputs": [
        {
          "output_type": "stream",
          "name": "stdout",
          "text": [
            "[[1 2 3]\n",
            " [4 5 6]\n",
            " [0 8 9]]\n"
          ]
        }
      ]
    },
    {
      "cell_type": "code",
      "source": [
        "print(np.tril(A, k=0))"
      ],
      "metadata": {
        "colab": {
          "base_uri": "https://localhost:8080/"
        },
        "id": "2CzkpeOWni3V",
        "outputId": "438e3fb9-0524-43ea-a6ca-248d7e5d4d04"
      },
      "execution_count": 108,
      "outputs": [
        {
          "output_type": "stream",
          "name": "stdout",
          "text": [
            "[[1 0 0]\n",
            " [4 5 0]\n",
            " [7 8 9]]\n"
          ]
        }
      ]
    },
    {
      "cell_type": "code",
      "source": [],
      "metadata": {
        "id": "w_qz_djTnsku"
      },
      "execution_count": null,
      "outputs": []
    }
  ]
}