{
 "cells": [
  {
   "cell_type": "code",
   "execution_count": 1,
   "id": "aa494d18",
   "metadata": {
    "ExecuteTime": {
     "end_time": "2022-05-14T04:54:22.441172Z",
     "start_time": "2022-05-14T04:54:22.274424Z"
    }
   },
   "outputs": [],
   "source": [
    "import numpy as np"
   ]
  },
  {
   "cell_type": "markdown",
   "id": "ad4c2f2f",
   "metadata": {},
   "source": [
    "## numpy Random Number Generator (RNG)로 난수 생성하기"
   ]
  },
  {
   "cell_type": "code",
   "execution_count": 2,
   "id": "56e38123",
   "metadata": {
    "ExecuteTime": {
     "end_time": "2022-05-14T04:57:29.331306Z",
     "start_time": "2022-05-14T04:57:29.314353Z"
    }
   },
   "outputs": [
    {
     "data": {
      "text/plain": [
       "array([0.63696169, 0.26978671, 0.04097352])"
      ]
     },
     "execution_count": 2,
     "metadata": {},
     "output_type": "execute_result"
    }
   ],
   "source": [
    "rng = np.random.default_rng(0) # seed 값\n",
    "rng.random(3)"
   ]
  },
  {
   "cell_type": "code",
   "execution_count": 3,
   "id": "745d566e",
   "metadata": {
    "ExecuteTime": {
     "end_time": "2022-05-14T04:59:14.598597Z",
     "start_time": "2022-05-14T04:59:14.579653Z"
    }
   },
   "outputs": [
    {
     "data": {
      "text/plain": [
       "array([[0.01652764, 0.81327024],\n",
       "       [0.91275558, 0.60663578],\n",
       "       [0.72949656, 0.54362499]])"
      ]
     },
     "execution_count": 3,
     "metadata": {},
     "output_type": "execute_result"
    }
   ],
   "source": [
    "rng.random((3,2))"
   ]
  },
  {
   "cell_type": "code",
   "execution_count": 4,
   "id": "f2bf857d",
   "metadata": {
    "ExecuteTime": {
     "end_time": "2022-05-14T05:00:52.865937Z",
     "start_time": "2022-05-14T05:00:52.855989Z"
    }
   },
   "outputs": [
    {
     "data": {
      "text/plain": [
       "array([[2, 4, 1, 4],\n",
       "       [3, 0, 1, 4]], dtype=int64)"
      ]
     },
     "execution_count": 4,
     "metadata": {},
     "output_type": "execute_result"
    }
   ],
   "source": [
    "rng.integers(5, size=(2, 4))"
   ]
  },
  {
   "cell_type": "code",
   "execution_count": 5,
   "id": "012c4c4b",
   "metadata": {
    "ExecuteTime": {
     "end_time": "2022-05-14T05:01:44.475138Z",
     "start_time": "2022-05-14T05:01:44.461147Z"
    }
   },
   "outputs": [
    {
     "data": {
      "text/plain": [
       "array([[5, 1, 7],\n",
       "       [7, 8, 2],\n",
       "       [1, 8, 1]], dtype=int64)"
      ]
     },
     "execution_count": 5,
     "metadata": {},
     "output_type": "execute_result"
    }
   ],
   "source": [
    "rng.integers(1, 10, size=(3, 3))"
   ]
  },
  {
   "cell_type": "markdown",
   "id": "430a76a4",
   "metadata": {},
   "source": [
    "## 표준정규분포에서 난수 가져오기"
   ]
  },
  {
   "cell_type": "code",
   "execution_count": 10,
   "id": "22c02dbf",
   "metadata": {
    "ExecuteTime": {
     "end_time": "2022-05-15T01:23:41.001640Z",
     "start_time": "2022-05-15T01:23:40.524880Z"
    }
   },
   "outputs": [
    {
     "data": {
      "text/plain": [
       "(array([  3.,  35.,  75., 164., 243., 210., 148.,  84.,  31.,   7.]),\n",
       " array([-3.01145008, -2.41304764, -1.8146452 , -1.21624276, -0.61784033,\n",
       "        -0.01943789,  0.57896455,  1.17736698,  1.77576942,  2.37417186,\n",
       "         2.97257429]),\n",
       " <BarContainer object of 10 artists>)"
      ]
     },
     "execution_count": 10,
     "metadata": {},
     "output_type": "execute_result"
    },
    {
     "data": {
      "image/png": "[encoded data removed]",
      "text/plain": [
       "<Figure size 432x288 with 1 Axes>"
      ]
     },
     "metadata": {
      "needs_background": "light"
     },
     "output_type": "display_data"
    }
   ],
   "source": [
    "import matplotlib.pyplot as plt\n",
    "rn = rng.standard_normal(1000)\n",
    "plt.hist(rn)"
   ]
  },
  {
   "cell_type": "code",
   "execution_count": 11,
   "id": "6094ab05",
   "metadata": {
    "ExecuteTime": {
     "end_time": "2022-05-15T01:24:23.861444Z",
     "start_time": "2022-05-15T01:24:23.701869Z"
    }
   },
   "outputs": [
    {
     "data": {
      "text/plain": [
       "(array([564., 247., 107.,  48.,  21.,   5.,   3.,   3.,   1.,   1.]),\n",
       " array([2.62571521e-04, 8.72585290e-01, 1.74490801e+00, 2.61723073e+00,\n",
       "        3.48955344e+00, 4.36187616e+00, 5.23419888e+00, 6.10652160e+00,\n",
       "        6.97884432e+00, 7.85116704e+00, 8.72348976e+00]),\n",
       " <BarContainer object of 10 artists>)"
      ]
     },
     "execution_count": 11,
     "metadata": {},
     "output_type": "execute_result"
    },
    {
     "data": {
      "image/png": "[encoded data removed]",
      "text/plain": [
       "<Figure size 432x288 with 1 Axes>"
      ]
     },
     "metadata": {
      "needs_background": "light"
     },
     "output_type": "display_data"
    }
   ],
   "source": [
    "rex = rng.standard_exponential(1000)\n",
    "plt.hist(rex)"
   ]
  },
  {
   "cell_type": "code",
   "execution_count": 12,
   "id": "f5db9da0",
   "metadata": {
    "ExecuteTime": {
     "end_time": "2022-05-15T01:24:53.259019Z",
     "start_time": "2022-05-15T01:24:53.100846Z"
    }
   },
   "outputs": [
    {
     "data": {
      "text/plain": [
       "(array([0., 0., 0., 0., 0., 1., 0., 0., 0., 0.]),\n",
       " array([979.21512088, 979.31512088, 979.41512088, 979.51512088,\n",
       "        979.61512088, 979.71512088, 979.81512088, 979.91512088,\n",
       "        980.01512088, 980.11512088, 980.21512088]),\n",
       " <BarContainer object of 10 artists>)"
      ]
     },
     "execution_count": 12,
     "metadata": {},
     "output_type": "execute_result"
    },
    {
     "data": {
      "image/png": "[encoded data removed]",
      "text/plain": [
       "<Figure size 432x288 with 1 Axes>"
      ]
     },
     "metadata": {
      "needs_background": "light"
     },
     "output_type": "display_data"
    }
   ],
   "source": [
    "rgm = rng.standard_gamma(1000)\n",
    "plt.hist(rgm)"
   ]
  },
  {
   "cell_type": "code",
   "execution_count": 13,
   "id": "d69ba196",
   "metadata": {
    "ExecuteTime": {
     "end_time": "2022-05-15T01:25:21.738557Z",
     "start_time": "2022-05-15T01:25:21.547165Z"
    }
   },
   "outputs": [
    {
     "data": {
      "text/plain": [
       "(array([109., 104.,  88.,  79.,  85., 108., 109.,  87., 117., 114.]),\n",
       " array([3.38135061e-04, 1.00074370e-01, 1.99810605e-01, 2.99546840e-01,\n",
       "        3.99283075e-01, 4.99019310e-01, 5.98755545e-01, 6.98491780e-01,\n",
       "        7.98228015e-01, 8.97964249e-01, 9.97700484e-01]),\n",
       " <BarContainer object of 10 artists>)"
      ]
     },
     "execution_count": 13,
     "metadata": {},
     "output_type": "execute_result"
    },
    {
     "data": {
      "image/png": "[encoded data removed]",
      "text/plain": [
       "<Figure size 432x288 with 1 Axes>"
      ]
     },
     "metadata": {
      "needs_background": "light"
     },
     "output_type": "display_data"
    }
   ],
   "source": [
    "rnd = rng.random(1000)\n",
    "plt.hist(rnd)"
   ]
  }
 ],
 "metadata": {
  "kernelspec": {
   "display_name": "Python 3",
   "language": "python",
   "name": "python3"
  },
  "language_info": {
   "codemirror_mode": {
    "name": "ipython",
    "version": 3
   },
   "file_extension": ".py",
   "mimetype": "text/x-python",
   "name": "python",
   "nbconvert_exporter": "python",
   "pygments_lexer": "ipython3",
   "version": "3.8.8"
  },
  "toc": {
   "base_numbering": 1,
   "nav_menu": {},
   "number_sections": true,
   "sideBar": true,
   "skip_h1_title": false,
   "title_cell": "Table of Contents",
   "title_sidebar": "Contents",
   "toc_cell": false,
   "toc_position": {},
   "toc_section_display": true,
   "toc_window_display": false
  }
 },
 "nbformat": 4,
 "nbformat_minor": 5
}
