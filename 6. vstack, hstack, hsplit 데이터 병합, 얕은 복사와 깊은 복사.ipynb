{
 "cells": [
  {
   "cell_type": "code",
   "execution_count": 1,
   "id": "8783edd0",
   "metadata": {
    "ExecuteTime": {
     "end_time": "2022-05-14T01:30:15.981757Z",
     "start_time": "2022-05-14T01:30:15.286391Z"
    }
   },
   "outputs": [],
   "source": [
    "import numpy as np"
   ]
  },
  {
   "cell_type": "code",
   "execution_count": 2,
   "id": "18d90470",
   "metadata": {
    "ExecuteTime": {
     "end_time": "2022-05-14T01:30:28.480637Z",
     "start_time": "2022-05-14T01:30:28.449761Z"
    }
   },
   "outputs": [
    {
     "data": {
      "text/plain": [
       "array([ 1,  2,  3,  4,  5,  6,  7,  8,  9, 10])"
      ]
     },
     "execution_count": 2,
     "metadata": {},
     "output_type": "execute_result"
    }
   ],
   "source": [
    "a = np.array([1,2,3,4,5,6,7,8,9,10])\n",
    "a"
   ]
  },
  {
   "cell_type": "code",
   "execution_count": 3,
   "id": "6e2749c6",
   "metadata": {
    "ExecuteTime": {
     "end_time": "2022-05-14T01:30:48.016166Z",
     "start_time": "2022-05-14T01:30:48.002210Z"
    }
   },
   "outputs": [
    {
     "data": {
      "text/plain": [
       "array([4, 5, 6, 7, 8])"
      ]
     },
     "execution_count": 3,
     "metadata": {},
     "output_type": "execute_result"
    }
   ],
   "source": [
    "arr1 = a[3:8]\n",
    "arr1"
   ]
  },
  {
   "cell_type": "code",
   "execution_count": 4,
   "id": "7f476f0f",
   "metadata": {
    "ExecuteTime": {
     "end_time": "2022-05-14T01:32:25.631670Z",
     "start_time": "2022-05-14T01:32:25.624691Z"
    }
   },
   "outputs": [
    {
     "data": {
      "text/plain": [
       "(array([[1, 1],\n",
       "        [2, 2]]),\n",
       " array([[3, 3],\n",
       "        [3, 3]]))"
      ]
     },
     "execution_count": 4,
     "metadata": {},
     "output_type": "execute_result"
    }
   ],
   "source": [
    "a1 = np.array([[1, 1], [2, 2]])\n",
    "a2 = np.array([[3, 3], [3, 3]])\n",
    "a1, a2"
   ]
  },
  {
   "cell_type": "markdown",
   "id": "0739317b",
   "metadata": {},
   "source": [
    "# vertical 하게 합치기 : vstack\n",
    "* 열 개수가 같아야 한다.\n",
    "* 행 개수는 상관 없다."
   ]
  },
  {
   "cell_type": "code",
   "execution_count": 5,
   "id": "c5efb892",
   "metadata": {
    "ExecuteTime": {
     "end_time": "2022-05-14T01:33:31.680079Z",
     "start_time": "2022-05-14T01:33:31.665086Z"
    }
   },
   "outputs": [
    {
     "data": {
      "text/plain": [
       "array([[1, 1],\n",
       "       [2, 2],\n",
       "       [3, 3],\n",
       "       [3, 3]])"
      ]
     },
     "execution_count": 5,
     "metadata": {},
     "output_type": "execute_result"
    }
   ],
   "source": [
    "np.vstack((a1, a2))"
   ]
  },
  {
   "cell_type": "markdown",
   "id": "81387a8f",
   "metadata": {
    "ExecuteTime": {
     "end_time": "2022-05-14T01:33:58.410816Z",
     "start_time": "2022-05-14T01:33:58.403797Z"
    }
   },
   "source": [
    "# horizontal 하게 합치기 : hstack\n",
    "* 행 개수가 같아야 한다.\n",
    "* 열 개수는 상관 없다."
   ]
  },
  {
   "cell_type": "code",
   "execution_count": 7,
   "id": "dbe00788",
   "metadata": {
    "ExecuteTime": {
     "end_time": "2022-05-14T01:34:14.021052Z",
     "start_time": "2022-05-14T01:34:14.004117Z"
    }
   },
   "outputs": [
    {
     "data": {
      "text/plain": [
       "array([[1, 1, 3, 3],\n",
       "       [2, 2, 3, 3]])"
      ]
     },
     "execution_count": 7,
     "metadata": {},
     "output_type": "execute_result"
    }
   ],
   "source": [
    "np.hstack((a1, a2))"
   ]
  },
  {
   "cell_type": "markdown",
   "id": "4e101507",
   "metadata": {},
   "source": [
    "# 행으로 데이터 나누기 : hsplit\n",
    "* np.hsplit(x, n)\n",
    "* np.split(x, n, axis=1)\n",
    "\n",
    "![hsplit_vsplit](https://t1.daumcdn.net/cfile/tistory/99A00D375B039E8316)"
   ]
  },
  {
   "cell_type": "code",
   "execution_count": 26,
   "id": "8181ad9a",
   "metadata": {
    "ExecuteTime": {
     "end_time": "2022-05-14T02:03:29.975095Z",
     "start_time": "2022-05-14T02:03:29.968114Z"
    }
   },
   "outputs": [
    {
     "data": {
      "text/plain": [
       "array([[ 0,  1,  2,  3,  4,  5],\n",
       "       [ 6,  7,  8,  9, 10, 11],\n",
       "       [12, 13, 14, 15, 16, 17]])"
      ]
     },
     "execution_count": 26,
     "metadata": {},
     "output_type": "execute_result"
    }
   ],
   "source": [
    "x = np.arange(0,18).reshape(3,6)\n",
    "x"
   ]
  },
  {
   "cell_type": "code",
   "execution_count": 27,
   "id": "d23f3108",
   "metadata": {
    "ExecuteTime": {
     "end_time": "2022-05-14T02:03:42.405720Z",
     "start_time": "2022-05-14T02:03:42.385503Z"
    }
   },
   "outputs": [
    {
     "data": {
      "text/plain": [
       "[array([[ 0,  1],\n",
       "        [ 6,  7],\n",
       "        [12, 13]]),\n",
       " array([[ 2,  3],\n",
       "        [ 8,  9],\n",
       "        [14, 15]]),\n",
       " array([[ 4,  5],\n",
       "        [10, 11],\n",
       "        [16, 17]])]"
      ]
     },
     "execution_count": 27,
     "metadata": {},
     "output_type": "execute_result"
    }
   ],
   "source": [
    "np.hsplit(x, 3)"
   ]
  },
  {
   "cell_type": "markdown",
   "id": "be3d30c7",
   "metadata": {
    "ExecuteTime": {
     "end_time": "2022-05-14T01:50:28.617061Z",
     "start_time": "2022-05-14T01:50:28.417635Z"
    }
   },
   "source": [
    "# 열로 데이터 나누기 : vsplit\n",
    "* np.vsplit(x, n)\n",
    "* np.split(x, n, axis=0)"
   ]
  },
  {
   "cell_type": "code",
   "execution_count": 28,
   "id": "645cc60e",
   "metadata": {
    "ExecuteTime": {
     "end_time": "2022-05-14T02:05:24.792794Z",
     "start_time": "2022-05-14T02:05:24.772849Z"
    }
   },
   "outputs": [
    {
     "data": {
      "text/plain": [
       "[array([[0, 1, 2, 3, 4, 5]]),\n",
       " array([[ 6,  7,  8,  9, 10, 11]]),\n",
       " array([[12, 13, 14, 15, 16, 17]])]"
      ]
     },
     "execution_count": 28,
     "metadata": {},
     "output_type": "execute_result"
    }
   ],
   "source": [
    "np.vsplit(x, 3)"
   ]
  },
  {
   "cell_type": "code",
   "execution_count": null,
   "id": "8e4f2a29",
   "metadata": {},
   "outputs": [],
   "source": []
  },
  {
   "cell_type": "markdown",
   "id": "65aa2616",
   "metadata": {},
   "source": [
    "# 튜플로 데이터 나누기\n",
    "* 인덱스 값을 기준으로해서 그 인덱스 사이의 값과 그 전 부분, 그 후 부분으로 나뉜다."
   ]
  },
  {
   "cell_type": "code",
   "execution_count": 31,
   "id": "76c093ad",
   "metadata": {
    "ExecuteTime": {
     "end_time": "2022-05-14T02:13:42.315235Z",
     "start_time": "2022-05-14T02:13:42.309251Z"
    }
   },
   "outputs": [
    {
     "data": {
      "text/plain": [
       "array([[ 0,  1,  2,  3,  4,  5],\n",
       "       [ 6,  7,  8,  9, 10, 11],\n",
       "       [12, 13, 14, 15, 16, 17]])"
      ]
     },
     "execution_count": 31,
     "metadata": {},
     "output_type": "execute_result"
    }
   ],
   "source": [
    "x.reshape(2,9)\n",
    "x"
   ]
  },
  {
   "cell_type": "code",
   "execution_count": 32,
   "id": "c1bf2c8f",
   "metadata": {
    "ExecuteTime": {
     "end_time": "2022-05-14T02:14:05.372951Z",
     "start_time": "2022-05-14T02:14:05.364973Z"
    }
   },
   "outputs": [
    {
     "data": {
      "text/plain": [
       "[array([[ 0,  1],\n",
       "        [ 6,  7],\n",
       "        [12, 13]]),\n",
       " array([[ 2,  3,  4],\n",
       "        [ 8,  9, 10],\n",
       "        [14, 15, 16]]),\n",
       " array([[ 5],\n",
       "        [11],\n",
       "        [17]])]"
      ]
     },
     "execution_count": 32,
     "metadata": {},
     "output_type": "execute_result"
    }
   ],
   "source": [
    "np.hsplit(x, (2,5))"
   ]
  },
  {
   "cell_type": "code",
   "execution_count": 34,
   "id": "d7947cf0",
   "metadata": {
    "ExecuteTime": {
     "end_time": "2022-05-14T02:15:37.879773Z",
     "start_time": "2022-05-14T02:15:37.873789Z"
    }
   },
   "outputs": [
    {
     "data": {
      "text/plain": [
       "array([[ 0,  1,  2],\n",
       "       [ 3,  4,  5],\n",
       "       [ 6,  7,  8],\n",
       "       [ 9, 10, 11],\n",
       "       [12, 13, 14],\n",
       "       [15, 16, 17]])"
      ]
     },
     "execution_count": 34,
     "metadata": {},
     "output_type": "execute_result"
    }
   ],
   "source": [
    "x.reshape(6,3)"
   ]
  },
  {
   "cell_type": "code",
   "execution_count": 35,
   "id": "dd7168f2",
   "metadata": {
    "ExecuteTime": {
     "end_time": "2022-05-14T02:16:01.932706Z",
     "start_time": "2022-05-14T02:16:01.917712Z"
    }
   },
   "outputs": [
    {
     "data": {
      "text/plain": [
       "[array([[0, 1, 2, 3, 4, 5]]),\n",
       " array([[ 6,  7,  8,  9, 10, 11],\n",
       "        [12, 13, 14, 15, 16, 17]]),\n",
       " array([], shape=(0, 6), dtype=int32)]"
      ]
     },
     "execution_count": 35,
     "metadata": {},
     "output_type": "execute_result"
    }
   ],
   "source": [
    "np.vsplit(x, (1,4))"
   ]
  },
  {
   "cell_type": "markdown",
   "id": "85e073e2",
   "metadata": {
    "ExecuteTime": {
     "end_time": "2022-05-14T02:26:36.645906Z",
     "start_time": "2022-05-14T02:26:36.628950Z"
    }
   },
   "source": [
    "# 얕은 복사와 깊은 복사\n",
    "* shallow copy\n",
    "* deep copy"
   ]
  },
  {
   "cell_type": "markdown",
   "id": "0a3256d4",
   "metadata": {},
   "source": [
    "## 얕은 복사"
   ]
  },
  {
   "cell_type": "code",
   "execution_count": 38,
   "id": "fdaae98d",
   "metadata": {
    "ExecuteTime": {
     "end_time": "2022-05-14T02:27:25.028205Z",
     "start_time": "2022-05-14T02:27:25.019229Z"
    }
   },
   "outputs": [
    {
     "data": {
      "text/plain": [
       "array([[ 1,  2,  3,  4],\n",
       "       [ 5,  6,  7,  8],\n",
       "       [ 9, 10, 11, 12]])"
      ]
     },
     "execution_count": 38,
     "metadata": {},
     "output_type": "execute_result"
    }
   ],
   "source": [
    "a = np.array([[1,2,3,4], [5,6,7,8], [9,10,11,12]])\n",
    "a"
   ]
  },
  {
   "cell_type": "code",
   "execution_count": 40,
   "id": "766f6912",
   "metadata": {
    "ExecuteTime": {
     "end_time": "2022-05-14T02:27:51.024448Z",
     "start_time": "2022-05-14T02:27:51.018510Z"
    }
   },
   "outputs": [
    {
     "data": {
      "text/plain": [
       "array([1, 2, 3, 4])"
      ]
     },
     "execution_count": 40,
     "metadata": {},
     "output_type": "execute_result"
    }
   ],
   "source": [
    "b1 = a[0, :]\n",
    "b1"
   ]
  },
  {
   "cell_type": "code",
   "execution_count": 41,
   "id": "bab9844d",
   "metadata": {
    "ExecuteTime": {
     "end_time": "2022-05-14T02:28:05.393372Z",
     "start_time": "2022-05-14T02:28:05.386432Z"
    }
   },
   "outputs": [
    {
     "data": {
      "text/plain": [
       "array([99,  2,  3,  4])"
      ]
     },
     "execution_count": 41,
     "metadata": {},
     "output_type": "execute_result"
    }
   ],
   "source": [
    "b1[0] = 99\n",
    "b1"
   ]
  },
  {
   "cell_type": "code",
   "execution_count": 42,
   "id": "97b467e7",
   "metadata": {
    "ExecuteTime": {
     "end_time": "2022-05-14T02:28:07.718978Z",
     "start_time": "2022-05-14T02:28:07.711000Z"
    }
   },
   "outputs": [
    {
     "data": {
      "text/plain": [
       "array([[99,  2,  3,  4],\n",
       "       [ 5,  6,  7,  8],\n",
       "       [ 9, 10, 11, 12]])"
      ]
     },
     "execution_count": 42,
     "metadata": {},
     "output_type": "execute_result"
    }
   ],
   "source": [
    "a\n",
    "# a의 a[0][0] 값도 바뀐 것을 볼 수 있다."
   ]
  },
  {
   "cell_type": "markdown",
   "id": "66e72d58",
   "metadata": {
    "ExecuteTime": {
     "end_time": "2022-05-14T02:29:25.286358Z",
     "start_time": "2022-05-14T02:29:25.281338Z"
    }
   },
   "source": [
    "## 깊은 복사"
   ]
  },
  {
   "cell_type": "code",
   "execution_count": 44,
   "id": "3ad7bd04",
   "metadata": {
    "ExecuteTime": {
     "end_time": "2022-05-14T02:29:32.438138Z",
     "start_time": "2022-05-14T02:29:32.425189Z"
    }
   },
   "outputs": [
    {
     "data": {
      "text/plain": [
       "array([[ 1,  2,  3,  4],\n",
       "       [ 5,  6,  7,  8],\n",
       "       [ 9, 10, 11, 12]])"
      ]
     },
     "execution_count": 44,
     "metadata": {},
     "output_type": "execute_result"
    }
   ],
   "source": [
    "a = np.array([[1,2,3,4], [5,6,7,8], [9,10,11,12]])\n",
    "a"
   ]
  },
  {
   "cell_type": "code",
   "execution_count": 51,
   "id": "390fd85b",
   "metadata": {
    "ExecuteTime": {
     "end_time": "2022-05-14T02:31:36.543759Z",
     "start_time": "2022-05-14T02:31:36.538773Z"
    }
   },
   "outputs": [
    {
     "data": {
      "text/plain": [
       "array([1, 2, 3, 4])"
      ]
     },
     "execution_count": 51,
     "metadata": {},
     "output_type": "execute_result"
    }
   ],
   "source": [
    "b2 = a[0, :].copy()\n",
    "b2"
   ]
  },
  {
   "cell_type": "code",
   "execution_count": 52,
   "id": "a2def47c",
   "metadata": {
    "ExecuteTime": {
     "end_time": "2022-05-14T02:31:38.150248Z",
     "start_time": "2022-05-14T02:31:38.137282Z"
    }
   },
   "outputs": [
    {
     "data": {
      "text/plain": [
       "array([99,  2,  3,  4])"
      ]
     },
     "execution_count": 52,
     "metadata": {},
     "output_type": "execute_result"
    }
   ],
   "source": [
    "b2[0] = 99\n",
    "b2"
   ]
  },
  {
   "cell_type": "code",
   "execution_count": 53,
   "id": "d5b84174",
   "metadata": {
    "ExecuteTime": {
     "end_time": "2022-05-14T02:31:40.796936Z",
     "start_time": "2022-05-14T02:31:40.784942Z"
    }
   },
   "outputs": [
    {
     "data": {
      "text/plain": [
       "array([[ 1,  2,  3,  4],\n",
       "       [ 5,  6,  7,  8],\n",
       "       [ 9, 10, 11, 12]])"
      ]
     },
     "execution_count": 53,
     "metadata": {},
     "output_type": "execute_result"
    }
   ],
   "source": [
    "a"
   ]
  }
 ],
 "metadata": {
  "kernelspec": {
   "display_name": "Python 3",
   "language": "python",
   "name": "python3"
  },
  "language_info": {
   "codemirror_mode": {
    "name": "ipython",
    "version": 3
   },
   "file_extension": ".py",
   "mimetype": "text/x-python",
   "name": "python",
   "nbconvert_exporter": "python",
   "pygments_lexer": "ipython3",
   "version": "3.8.8"
  },
  "toc": {
   "base_numbering": 1,
   "nav_menu": {},
   "number_sections": true,
   "sideBar": true,
   "skip_h1_title": false,
   "title_cell": "Table of Contents",
   "title_sidebar": "Contents",
   "toc_cell": false,
   "toc_position": {},
   "toc_section_display": true,
   "toc_window_display": false
  }
 },
 "nbformat": 4,
 "nbformat_minor": 5
}
